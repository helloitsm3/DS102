{
 "cells": [
  {
   "cell_type": "markdown",
   "metadata": {},
   "source": [
    "<center><img src=\"https://i2.wp.com/hackwagon.com/wp-content/uploads/2017/02/Logo-Web-Export.png?ssl=1\" width=200/></center>\n",
    "<h1> Hackwagon Academy DS102 Lesson 6A </h1>\n",
    "<h2> Clustering </h2> \n",
    "<h3> Lesson Outline </h3>\n",
    "\n",
    "- [K-Means Clustering Algorithm](#1)\n",
    "- [Example - Spotify Songs](#2)\n",
    "    - [Elbow Plot](#2.1)\n",
    "- [Practice I - Credit Card Spending Behaviour](#P1)"
   ]
  },
  {
   "cell_type": "markdown",
   "metadata": {},
   "source": [
    "<a id='1'><h2><img src=\"https://images.vexels.com/media/users/3/153978/isolated/preview/483ef8b10a46e28d02293a31570c8c56-warning-sign-colored-stroke-icon-by-vexels.png\" width=23 align=\"left\"><font color=\"salmon\">&nbsp;</font><font color=\"salmon\"> K-Means Clustering Algorithm </font> </h2></a>\n",
    "\n",
    "- Start with k initial clusters (k needs to be pre-defined) \n",
    "- At every step, each record is reassigned to the cluster with the “closest” centroid\n",
    "- Recompute the centroids of clusters that lost or gained a record, and repeat Step 2\n",
    "- Stop when moving any more records between clusters increases cluster dispersion\n",
    "\n",
    "<img src=\"https://i.imgur.com/VLNNMHE.png\" width=400>\n",
    "\n",
    "An animation can be found here: https://www.naftaliharris.com/blog/visualizing-k-means-clustering/\n",
    "\n"
   ]
  },
  {
   "cell_type": "markdown",
   "metadata": {},
   "source": [
    "<a id='2'><h2><img src=\"https://images.vexels.com/media/users/3/153978/isolated/preview/483ef8b10a46e28d02293a31570c8c56-warning-sign-colored-stroke-icon-by-vexels.png\" width=23 align=\"left\"><font color=\"salmon\">&nbsp;</font><font color=\"salmon\"> Example - Spotify Songs </font> </h2></a>"
   ]
  },
  {
   "cell_type": "code",
   "execution_count": 2,
   "metadata": {
    "scrolled": true
   },
   "outputs": [
    {
     "data": {
      "text/html": [
       "<div>\n",
       "<style scoped>\n",
       "    .dataframe tbody tr th:only-of-type {\n",
       "        vertical-align: middle;\n",
       "    }\n",
       "\n",
       "    .dataframe tbody tr th {\n",
       "        vertical-align: top;\n",
       "    }\n",
       "\n",
       "    .dataframe thead th {\n",
       "        text-align: right;\n",
       "    }\n",
       "</style>\n",
       "<table border=\"1\" class=\"dataframe\">\n",
       "  <thead>\n",
       "    <tr style=\"text-align: right;\">\n",
       "      <th></th>\n",
       "      <th>id</th>\n",
       "      <th>name</th>\n",
       "      <th>artists</th>\n",
       "      <th>danceability</th>\n",
       "      <th>energy</th>\n",
       "    </tr>\n",
       "  </thead>\n",
       "  <tbody>\n",
       "    <tr>\n",
       "      <th>0</th>\n",
       "      <td>6gBFPUFcJLzWGx4lenP6h</td>\n",
       "      <td>goosebumps</td>\n",
       "      <td>Travis Scott</td>\n",
       "      <td>0.841</td>\n",
       "      <td>0.728</td>\n",
       "    </tr>\n",
       "    <tr>\n",
       "      <th>1</th>\n",
       "      <td>6PCUP3dWmTjcTtXY02oFd</td>\n",
       "      <td>Castle on the Hill</td>\n",
       "      <td>Ed Sheeran</td>\n",
       "      <td>0.461</td>\n",
       "      <td>0.834</td>\n",
       "    </tr>\n",
       "    <tr>\n",
       "      <th>2</th>\n",
       "      <td>3eR23VReFzcdmS7TYCrhC</td>\n",
       "      <td>It Ain't Me (with Selena Gomez)</td>\n",
       "      <td>Kygo</td>\n",
       "      <td>0.640</td>\n",
       "      <td>0.533</td>\n",
       "    </tr>\n",
       "    <tr>\n",
       "      <th>3</th>\n",
       "      <td>0tKcYR2II1VCQWT79i5Nr</td>\n",
       "      <td>Thunder</td>\n",
       "      <td>Imagine Dragons</td>\n",
       "      <td>0.600</td>\n",
       "      <td>0.810</td>\n",
       "    </tr>\n",
       "    <tr>\n",
       "      <th>4</th>\n",
       "      <td>6DNtNfH8hXkqOX1sjqmI7</td>\n",
       "      <td>Cold Water (feat. Justin Bieber &amp; MØ)</td>\n",
       "      <td>Major Lazer</td>\n",
       "      <td>0.608</td>\n",
       "      <td>0.798</td>\n",
       "    </tr>\n",
       "  </tbody>\n",
       "</table>\n",
       "</div>"
      ],
      "text/plain": [
       "                      id                                   name  \\\n",
       "0  6gBFPUFcJLzWGx4lenP6h                             goosebumps   \n",
       "1  6PCUP3dWmTjcTtXY02oFd                     Castle on the Hill   \n",
       "2  3eR23VReFzcdmS7TYCrhC        It Ain't Me (with Selena Gomez)   \n",
       "3  0tKcYR2II1VCQWT79i5Nr                                Thunder   \n",
       "4  6DNtNfH8hXkqOX1sjqmI7  Cold Water (feat. Justin Bieber & MØ)   \n",
       "\n",
       "           artists  danceability  energy  \n",
       "0     Travis Scott         0.841   0.728  \n",
       "1       Ed Sheeran         0.461   0.834  \n",
       "2             Kygo         0.640   0.533  \n",
       "3  Imagine Dragons         0.600   0.810  \n",
       "4      Major Lazer         0.608   0.798  "
      ]
     },
     "execution_count": 2,
     "metadata": {},
     "output_type": "execute_result"
    }
   ],
   "source": [
    "import pandas as pd \n",
    "\n",
    "df_spotify = pd.read_csv('../Datasets/spotify-30.csv')\n",
    "df_spotify.head()\n"
   ]
  },
  {
   "cell_type": "markdown",
   "metadata": {},
   "source": [
    "### Visualise Dataset\n",
    "\n",
    "Since the dataset is just 2 dimensions (i.e 2 variables), we can visualise how the songs are like in a scatter plot."
   ]
  },
  {
   "cell_type": "code",
   "execution_count": 3,
   "metadata": {},
   "outputs": [
    {
     "data": {
      "text/plain": [
       "<matplotlib.axes._subplots.AxesSubplot at 0x185e4a82e48>"
      ]
     },
     "execution_count": 3,
     "metadata": {},
     "output_type": "execute_result"
    },
    {
     "data": {
      "image/png": "[encoded data removed]",
      "text/plain": [
       "<Figure size 720x576 with 1 Axes>"
      ]
     },
     "metadata": {
      "needs_background": "light"
     },
     "output_type": "display_data"
    }
   ],
   "source": [
    "import matplotlib.pyplot as plt\n",
    "\n",
    "fig = plt.figure(figsize=(10, 8))\n",
    "ax1 = fig.add_subplot(111)\n",
    "\n",
    "# Scatter Plot for All Records Colored by Their Labels\n",
    "df_spotify.plot(kind='scatter', x='danceability', \n",
    "               y='energy' , ax=ax1\n",
    "              ,marker=\"o\", s=120)"
   ]
  },
  {
   "cell_type": "markdown",
   "metadata": {},
   "source": [
    "### Use Only Numerical Variables\n",
    "\n",
    "The clustering algorithms can only work with numerical data, therefore, there is a need to filter to just the numerical columns, which are `danceability` and `energy`. "
   ]
  },
  {
   "cell_type": "code",
   "execution_count": 4,
   "metadata": {},
   "outputs": [
    {
     "data": {
      "text/html": [
       "<div>\n",
       "<style scoped>\n",
       "    .dataframe tbody tr th:only-of-type {\n",
       "        vertical-align: middle;\n",
       "    }\n",
       "\n",
       "    .dataframe tbody tr th {\n",
       "        vertical-align: top;\n",
       "    }\n",
       "\n",
       "    .dataframe thead th {\n",
       "        text-align: right;\n",
       "    }\n",
       "</style>\n",
       "<table border=\"1\" class=\"dataframe\">\n",
       "  <thead>\n",
       "    <tr style=\"text-align: right;\">\n",
       "      <th></th>\n",
       "      <th>danceability</th>\n",
       "      <th>energy</th>\n",
       "    </tr>\n",
       "  </thead>\n",
       "  <tbody>\n",
       "    <tr>\n",
       "      <th>0</th>\n",
       "      <td>0.841</td>\n",
       "      <td>0.728</td>\n",
       "    </tr>\n",
       "    <tr>\n",
       "      <th>1</th>\n",
       "      <td>0.461</td>\n",
       "      <td>0.834</td>\n",
       "    </tr>\n",
       "    <tr>\n",
       "      <th>2</th>\n",
       "      <td>0.640</td>\n",
       "      <td>0.533</td>\n",
       "    </tr>\n",
       "    <tr>\n",
       "      <th>3</th>\n",
       "      <td>0.600</td>\n",
       "      <td>0.810</td>\n",
       "    </tr>\n",
       "    <tr>\n",
       "      <th>4</th>\n",
       "      <td>0.608</td>\n",
       "      <td>0.798</td>\n",
       "    </tr>\n",
       "  </tbody>\n",
       "</table>\n",
       "</div>"
      ],
      "text/plain": [
       "   danceability  energy\n",
       "0         0.841   0.728\n",
       "1         0.461   0.834\n",
       "2         0.640   0.533\n",
       "3         0.600   0.810\n",
       "4         0.608   0.798"
      ]
     },
     "execution_count": 4,
     "metadata": {},
     "output_type": "execute_result"
    }
   ],
   "source": [
    "df_spotify_cluster = df_spotify[['danceability', 'energy']]\n",
    "df_spotify_cluster.head()"
   ]
  },
  {
   "cell_type": "markdown",
   "metadata": {},
   "source": [
    "<a id='2.1'><h3>Elbow Plot</h3></a>"
   ]
  },
  {
   "cell_type": "code",
   "execution_count": 5,
   "metadata": {},
   "outputs": [
    {
     "data": {
      "text/plain": [
       "Text(0.5, 1.0, 'Elbow curve')"
      ]
     },
     "execution_count": 5,
     "metadata": {},
     "output_type": "execute_result"
    },
    {
     "data": {
      "image/png": "[encoded data removed]",
      "text/plain": [
       "<Figure size 1080x360 with 1 Axes>"
      ]
     },
     "metadata": {
      "needs_background": "light"
     },
     "output_type": "display_data"
    }
   ],
   "source": [
    "from sklearn.cluster import KMeans\n",
    "from matplotlib import pyplot as plt\n",
    "\n",
    "X = df_spotify_cluster # <<< Numerical DataFrame here\n",
    "distorsions = []\n",
    "for k in range(2, 20):\n",
    "    kmeans = KMeans(n_clusters=k)\n",
    "    kmeans.fit(X)\n",
    "    distorsions.append(kmeans.inertia_)\n",
    "\n",
    "fig = plt.figure(figsize=(15, 5))\n",
    "plt.plot(range(2, 20), distorsions)\n",
    "plt.grid(True)\n",
    "plt.title('Elbow curve')"
   ]
  },
  {
   "cell_type": "markdown",
   "metadata": {},
   "source": [
    "### Select K\n",
    "\n",
    "Based on the above Elbow Plot, we can select an appropriate K. For this example, k will be <b>5</b>, therefore <b>5 clusters.</b>"
   ]
  },
  {
   "cell_type": "code",
   "execution_count": null,
   "metadata": {},
   "outputs": [],
   "source": [
    "k = 5\n",
    "model = KMeans(n_clusters=k,  # < Initialise Number Of Clusters here\n",
    "               random_state=0)\n",
    "\n",
    "spotify_kmeans = model.fit(df_spotify_cluster) # < DataFrame of All Variables\n",
    "print(spotify_kmeans)"
   ]
  },
  {
   "cell_type": "markdown",
   "metadata": {},
   "source": [
    "### Getting Labels of Each Record\n",
    "\n",
    "To retrieve the K-Means model's clusters, use `.labels_`, which gives a list of labels for the DataFrame. With the list of labels, we can create a new column and add it to the dataframe of `df_spotify`."
   ]
  },
  {
   "cell_type": "code",
   "execution_count": null,
   "metadata": {},
   "outputs": [],
   "source": [
    "print('Each song\\'s clusters:', spotify_kmeans.labels_)\n",
    "df_spotify['label'] = spotify_kmeans.labels_\n",
    "df_spotify.head()"
   ]
  },
  {
   "cell_type": "markdown",
   "metadata": {},
   "source": [
    "### Visualising The Clusters\n",
    "\n",
    "After getting each record's cluster centers, we can now visualise them on a scatter plot. We will first get the centroids (center of the cluster) in a DataFrame. To get the cluster centers of the kmeans algorithm, use `.cluster_centers_`."
   ]
  },
  {
   "cell_type": "code",
   "execution_count": null,
   "metadata": {},
   "outputs": [],
   "source": [
    "print(spotify_kmeans.cluster_centers_, end=\"\\n\")\n",
    "centroids_df = pd.DataFrame(spotify_kmeans.cluster_centers_, \n",
    "                            columns=['danceability','energy'])\n",
    "centroids_df['label'] = centroids_df.index\n",
    "centroids_df"
   ]
  },
  {
   "cell_type": "code",
   "execution_count": null,
   "metadata": {},
   "outputs": [],
   "source": [
    "# Plot the results in a scatter plot, and add in the centroids\n",
    "#\n",
    "fig = plt.figure(figsize=(10, 8))\n",
    "ax1 = fig.add_subplot(111)\n",
    "\n",
    "# Scatter Plot for All Records Colored by Their Labels\n",
    "df_spotify.plot(kind='scatter', x='danceability', \n",
    "               y='energy', c='label', colormap='autumn', ax=ax1\n",
    "              ,marker=\"o\", s=120)\n",
    "\n",
    "\n",
    "# Scatter Plot for Centroids\n",
    "centroids_df.plot(kind='scatter', x='danceability', \n",
    "               y='energy', color='gray', ax=ax1,\n",
    "                marker=\"X\", s=120,)\n",
    "\n",
    "ax1.set_title(\"Spotify songs by danceability & energy, after k-means clustering\")\n",
    "plt.xticks(rotation=90)\n",
    "plt.show()"
   ]
  },
  {
   "cell_type": "markdown",
   "metadata": {},
   "source": [
    "### Predict \n",
    "\n",
    "Based on the existing clustering model, we can predict a new song and the clusters they belong to by using `kmeans.predict()`. This method takes in a `DataFrame`, as shown below."
   ]
  },
  {
   "cell_type": "code",
   "execution_count": null,
   "metadata": {},
   "outputs": [],
   "source": [
    "X_P = pd.DataFrame([{'name' : 'Your Song',\n",
    "                    'danceability' : 0.855,\n",
    "                    'energy' : 0.624}])\n",
    "\n",
    "display(X_P)\n",
    "\n",
    "spotify_kmeans.predict(X_P[['danceability', 'energy']])"
   ]
  },
  {
   "cell_type": "markdown",
   "metadata": {},
   "source": [
    "<a id='P1'><h2> <img src=\"https://cdn.shopify.com/s/files/1/1200/7374/products/book_aec28e76-52ec-44ab-bc01-41df1279c89f_550x825.png?v=1473897430\" width=25 align=\"left\"> <font color=\"darkorange\"> &nbsp; Practice I </font><font color=\"skyblue\"> * </font> - Credit Card Spending Behaviour</h2></a>\n",
    "\n",
    "The following dataset is from [Kaggle](https://www.kaggle.com/arjunbhasin2013/ccdata) \n",
    "\n",
    "The sample dataset summarizes the usage behavior of about 9000 active credit card holders during the last 6 months, with 18 behavioral variables.\n",
    "\n",
    "The Data Dictionary for this dataset is as such: \n",
    "\n",
    "<table>\n",
    "    <tr>\n",
    "    <th>Variable</th><th>Description</th>\n",
    "    </tr>\n",
    "    <tr>\n",
    "    <td>CUST_ID</td><td>Identification of Credit Card holder (Categorical) </td>\n",
    "    </tr>\n",
    "    <tr>\n",
    "    <td>BALANCE</td><td>Balance amount left in their account to make purchases</td>\n",
    "    </tr>\n",
    "    <tr>\n",
    "    <td>BALANCE_FREQUENCY</td><td>How frequently the Balance is updated, score between 0 and 1 (1 = frequently updated, 0 = not frequently updated)</td>\n",
    "    </tr>\n",
    "    <tr>\n",
    "    <td>PURCHASES</td><td>Amount of purchases made from account</td>\n",
    "    </tr>\n",
    "    <tr>\n",
    "    <td>ONEOFF_PURCHASES</td><td>Maximum purchase amount done in one-go</td>\n",
    "    </tr>\n",
    "    <tr>\n",
    "    <td>INSTALLMENTS_PURCHASES</td><td>Amount of purchase done in installment</td>\n",
    "    </tr>\n",
    "    <tr>\n",
    "    <td>CASH_ADVANCE</td><td>Cash in advance given by the user</td>\n",
    "    </tr>\n",
    "    <tr>\n",
    "    <td>PURCHASES_FREQUENCY</td><td>How frequently the Purchases are being made, score between 0 and 1 (1 = frequently purchased, 0 = not frequently purchased)</td>\n",
    "    </tr>\n",
    "    <tr>\n",
    "    <td>ONEOFF_PURCHASES_FREQUENCY</td><td>How frequently Purchases are happening in one-go (1 = frequently purchased, 0 = not frequently purchased) </td>\n",
    "    </tr>\n",
    "    <tr>\n",
    "    <td>PURCHASES_INSTALLMENTS_FREQUENCY</td><td>How frequently purchases in installments are being done (1 = frequently done, 0 = not frequently done)</td>\n",
    "    </tr>\n",
    "    <tr>\n",
    "    <td>CASH_ADVANCE_FREQUENCY</td><td>How frequently the cash in advance being paid</td>\n",
    "    </tr>\n",
    "    <tr>\n",
    "    <td>CASH_ADVANCE_TRX</td><td>Number of Transactions made with \"Cash in Advanced\"</td>\n",
    "    </tr>\n",
    "    <tr>\n",
    "    <td>PURCHASES_TRX</td><td>Number of purchase transactions made</td>\n",
    "    </tr>\n",
    "    <tr>\n",
    "    <td>CREDIT_LIMIT</td><td>Limit of Credit Card for user</td>\n",
    "    </tr>\n",
    "    <tr>\n",
    "    <td>PAYMENTS</td><td>Amount of Payment done by user</td>\n",
    "    </tr>\n",
    "    <tr>\n",
    "    <td>MINIMUM_PAYMENTS</td><td>Minimum amount of payments made by user</td>\n",
    "    </tr>\n",
    "    <tr>\n",
    "    <td>PRC_FULL_PAYMENT</td><td>Percent of full payment paid by user</td>\n",
    "    </tr>\n",
    "    <tr>\n",
    "    <td>TENURE</td><td>Tenure of credit card service for user</td>\n",
    "    </tr>\n",
    "</table>"
   ]
  },
  {
   "cell_type": "markdown",
   "metadata": {},
   "source": [
    "### Read Dataset\n",
    "\n",
    "Using pandas, read the `CC GENERAL.csv` dataset as a DataFrame called `cc_df`."
   ]
  },
  {
   "cell_type": "code",
   "execution_count": null,
   "metadata": {},
   "outputs": [],
   "source": []
  },
  {
   "cell_type": "markdown",
   "metadata": {},
   "source": [
    "### Fill NA\n",
    "\n",
    "In the dataset, there are `NaN`, Not A Number, values and we need to replace these values with 0. \n",
    "\n",
    "<img src=\"https://i.imgur.com/Zy3qSM9.png\" width=100>\n",
    "\n",
    "Using `.fillna(0)`, remove these `NaN` values."
   ]
  },
  {
   "cell_type": "code",
   "execution_count": null,
   "metadata": {},
   "outputs": [],
   "source": []
  },
  {
   "cell_type": "markdown",
   "metadata": {},
   "source": [
    "### Filter for Only Columns\n",
    "\n",
    "Since K-Means only deals with numerical data, we need to filter out only the `CUST_ID` column and retain only the columns from `BALANCE` onwards. Rename this filtered DataFrame as `cc_df_cluster`. \n",
    "\n",
    "<img src=\"https://i.imgur.com/Q9J5iRC.png\" width=400>"
   ]
  },
  {
   "cell_type": "code",
   "execution_count": null,
   "metadata": {},
   "outputs": [],
   "source": []
  },
  {
   "cell_type": "markdown",
   "metadata": {},
   "source": [
    "### Plot the Elbow Plot and Select A _K_\n",
    "\n",
    "Plot the elbow plot for 20 clusters and select an appropriate K for clustering. "
   ]
  },
  {
   "cell_type": "code",
   "execution_count": null,
   "metadata": {},
   "outputs": [],
   "source": []
  },
  {
   "cell_type": "markdown",
   "metadata": {},
   "source": [
    "### Apply K-Means Algorithm\n",
    "\n",
    "Using the selected `K`, apply the algorithm and store the kmeans model as `cc_kmeans`."
   ]
  },
  {
   "cell_type": "code",
   "execution_count": null,
   "metadata": {},
   "outputs": [],
   "source": []
  },
  {
   "cell_type": "markdown",
   "metadata": {},
   "source": [
    "### Tag Records with Cluster\n",
    "\n",
    "After the K-means algorithm has been applied, tag each entry with their respective labels. This will identify each entry with a cluster. \n",
    "\n",
    "Create a new column called `cluster` using the values from your kmeans `.labels_`. "
   ]
  },
  {
   "cell_type": "code",
   "execution_count": null,
   "metadata": {
    "scrolled": true
   },
   "outputs": [],
   "source": []
  },
  {
   "cell_type": "markdown",
   "metadata": {},
   "source": [
    "### GroupBy the DataFrame \n",
    "\n",
    "Group up the DataFrame by it's cluster and use `.size()` to get number of records for each cluster."
   ]
  },
  {
   "cell_type": "code",
   "execution_count": null,
   "metadata": {
    "scrolled": true
   },
   "outputs": [],
   "source": []
  },
  {
   "cell_type": "markdown",
   "metadata": {},
   "source": [
    "### Save As CSV\n",
    "\n",
    "Filter for Cluster `0` and save that cluster as a csv file called  `cluster_0_cc_data.csv`."
   ]
  },
  {
   "cell_type": "code",
   "execution_count": null,
   "metadata": {},
   "outputs": [],
   "source": []
  }
 ],
 "metadata": {
  "kernelspec": {
   "display_name": "Python 3",
   "language": "python",
   "name": "python3"
  },
  "language_info": {
   "codemirror_mode": {
    "name": "ipython",
    "version": 3
   },
   "file_extension": ".py",
   "mimetype": "text/x-python",
   "name": "python",
   "nbconvert_exporter": "python",
   "pygments_lexer": "ipython3",
   "version": "3.7.6"
  }
 },
 "nbformat": 4,
 "nbformat_minor": 2
}
