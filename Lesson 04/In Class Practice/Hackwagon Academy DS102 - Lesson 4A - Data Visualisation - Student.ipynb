{
 "cells": [
  {
   "cell_type": "markdown",
   "metadata": {},
   "source": [
    "<center><img src=\"https://i2.wp.com/hackwagon.com/wp-content/uploads/2017/02/Logo-Web-Export.png?ssl=1\" width=200/></center>\n",
    "<h1> Hackwagon Academy DS102 Lesson 4A </h1>\n",
    "<h2> Data Visualisation</h2> \n",
    "<h3> Lesson Outline </h3>\n",
    "\n",
    "- 1. [Matplotlib & Pandas](#1)\n",
    "    - 1.1 [Introduction](#1.1)\n",
    "    - 1.2 [Plotting](#1.2)\n",
    "    - 1.3 [Designing Your Plots](#1.3)\n",
    "        - 1.3.1 [Title, Labels, Ticks, Colors](#1.3.1)\n",
    "        - 1.3.2 [Markers, Alphas, Sizes](#1.3.2)\n",
    "    - 1.4 [Subplots](#1.4)\n",
    "    - 1.5 [Saving Figure](#1.5)\n",
    "    - [Practice I](#P1)\n",
    "    - [Practice II](#P2)"
   ]
  },
  {
   "cell_type": "markdown",
   "metadata": {},
   "source": [
    "### Import Libraries"
   ]
  },
  {
   "cell_type": "code",
   "execution_count": 4,
   "metadata": {},
   "outputs": [],
   "source": [
    "import pandas as pd\n",
    "import random\n",
    "import numpy as np\n",
    "import seaborn as sns\n",
    "import matplotlib.pyplot as plt\n",
    "# Display all floats rounded off to 1 decimal place\n",
    "pd.options.display.float_format = '{:,.1f}'.format\n",
    "# Plot static image in Jupyter notebook\n",
    "%matplotlib inline\n",
    "# Settings throughout the notebook\n",
    "sns.set()"
   ]
  },
  {
   "cell_type": "markdown",
   "metadata": {},
   "source": [
    "<hr/>\n",
    "\n",
    "<a id='1'><h2><img src=\"https://images.vexels.com/media/users/3/153978/isolated/preview/483ef8b10a46e28d02293a31570c8c56-warning-sign-colored-stroke-icon-by-vexels.png\" width=23 align=\"left\"><font color=\"salmon\">&nbsp;1.</font><font color=\"salmon\"> Matplotlib </font> </h2></a>"
   ]
  },
  {
   "cell_type": "markdown",
   "metadata": {},
   "source": [
    "<a id='1.1'><h3>1.1 Introduction</h3></a>\n",
    "\n",
    "Matplotlib is one of the first and many visualisation libraries like Seaborn use the similar syntax. \n",
    "\n",
    "Pros:\n",
    "1. Provides a standard for other visualisation libraries\n",
    "2. Leveraged by many other libraries\n",
    "\n",
    "Cons:\n",
    "1. Documentation that is difficult to understand\n",
    "2. Restrictive syntax\n",
    "\n",
    "<img src=\"https://i.imgur.com/uYYgeZ3.png\" width=\"300\">"
   ]
  },
  {
   "cell_type": "markdown",
   "metadata": {},
   "source": [
    "<a id='1.2'><h3>1.2 Plotting</h3></a>\n",
    "\n",
    "Creating visualisations is <b>very simple</b>, just tell yourself that you need 2 <b>lists</b> of data of the same <b>length</b> and put them into the library's function and <b><i>it just works!</i></b>"
   ]
  },
  {
   "cell_type": "code",
   "execution_count": 5,
   "metadata": {},
   "outputs": [],
   "source": [
    "def create_random_numbers():\n",
    "    results = []\n",
    "    for i in range(10):\n",
    "        results.append(random.randrange(1,101,1))\n",
    "    results.sort()\n",
    "    return results"
   ]
  },
  {
   "cell_type": "code",
   "execution_count": 6,
   "metadata": {},
   "outputs": [
    {
     "name": "stdout",
     "output_type": "stream",
     "text": [
      "[4, 6, 14, 22, 27, 53, 62, 64, 92, 93]\n",
      "[3, 11, 18, 20, 21, 22, 38, 47, 63, 98]\n"
     ]
    }
   ],
   "source": [
    "x = create_random_numbers()\n",
    "y = create_random_numbers()\n",
    "\n",
    "print(x)\n",
    "print(y)"
   ]
  },
  {
   "cell_type": "markdown",
   "metadata": {},
   "source": [
    "### Using matplotlib\n",
    "\n",
    "Plotting using matplotlib with basic Python lists is as follows. "
   ]
  },
  {
   "cell_type": "code",
   "execution_count": null,
   "metadata": {},
   "outputs": [],
   "source": []
  },
  {
   "cell_type": "markdown",
   "metadata": {},
   "source": [
    "### As A DataFrame\n"
   ]
  },
  {
   "cell_type": "code",
   "execution_count": 8,
   "metadata": {},
   "outputs": [
    {
     "data": {
      "text/html": [
       "<div>\n",
       "<style scoped>\n",
       "    .dataframe tbody tr th:only-of-type {\n",
       "        vertical-align: middle;\n",
       "    }\n",
       "\n",
       "    .dataframe tbody tr th {\n",
       "        vertical-align: top;\n",
       "    }\n",
       "\n",
       "    .dataframe thead th {\n",
       "        text-align: right;\n",
       "    }\n",
       "</style>\n",
       "<table border=\"1\" class=\"dataframe\">\n",
       "  <thead>\n",
       "    <tr style=\"text-align: right;\">\n",
       "      <th></th>\n",
       "      <th>x_values</th>\n",
       "      <th>y_values</th>\n",
       "    </tr>\n",
       "  </thead>\n",
       "  <tbody>\n",
       "    <tr>\n",
       "      <th>0</th>\n",
       "      <td>4</td>\n",
       "      <td>3</td>\n",
       "    </tr>\n",
       "    <tr>\n",
       "      <th>1</th>\n",
       "      <td>6</td>\n",
       "      <td>11</td>\n",
       "    </tr>\n",
       "    <tr>\n",
       "      <th>2</th>\n",
       "      <td>14</td>\n",
       "      <td>18</td>\n",
       "    </tr>\n",
       "    <tr>\n",
       "      <th>3</th>\n",
       "      <td>22</td>\n",
       "      <td>20</td>\n",
       "    </tr>\n",
       "    <tr>\n",
       "      <th>4</th>\n",
       "      <td>27</td>\n",
       "      <td>21</td>\n",
       "    </tr>\n",
       "    <tr>\n",
       "      <th>5</th>\n",
       "      <td>53</td>\n",
       "      <td>22</td>\n",
       "    </tr>\n",
       "    <tr>\n",
       "      <th>6</th>\n",
       "      <td>62</td>\n",
       "      <td>38</td>\n",
       "    </tr>\n",
       "    <tr>\n",
       "      <th>7</th>\n",
       "      <td>64</td>\n",
       "      <td>47</td>\n",
       "    </tr>\n",
       "    <tr>\n",
       "      <th>8</th>\n",
       "      <td>92</td>\n",
       "      <td>63</td>\n",
       "    </tr>\n",
       "    <tr>\n",
       "      <th>9</th>\n",
       "      <td>93</td>\n",
       "      <td>98</td>\n",
       "    </tr>\n",
       "  </tbody>\n",
       "</table>\n",
       "</div>"
      ],
      "text/plain": [
       "   x_values  y_values\n",
       "0         4         3\n",
       "1         6        11\n",
       "2        14        18\n",
       "3        22        20\n",
       "4        27        21\n",
       "5        53        22\n",
       "6        62        38\n",
       "7        64        47\n",
       "8        92        63\n",
       "9        93        98"
      ]
     },
     "execution_count": 8,
     "metadata": {},
     "output_type": "execute_result"
    }
   ],
   "source": [
    "data = {\n",
    "    'x_values': x,\n",
    "    'y_values': y\n",
    "}\n",
    "random_df = pd.DataFrame(data)\n",
    "random_df"
   ]
  },
  {
   "cell_type": "markdown",
   "metadata": {},
   "source": [
    "### Plotting with Pandas \n",
    "\n",
    "Using pandas, many of matplotlib's functions are stored within the `.plot()` function. Switch between the different kinds of plots, just change the `kind=` parameter to suit your needs. \n",
    "\n",
    "<b>To fully understand the pandas plotting settings, read the documentation here: https://pandas.pydata.org/pandas-docs/stable/reference/api/pandas.DataFrame.plot.html</b>\n",
    "\n",
    "<img src=\"https://i.imgur.com/oxpzNPz.png\" width=400>"
   ]
  },
  {
   "cell_type": "code",
   "execution_count": 9,
   "metadata": {},
   "outputs": [
    {
     "data": {
      "text/plain": [
       "<matplotlib.axes._subplots.AxesSubplot at 0x19fdd6980c8>"
      ]
     },
     "execution_count": 9,
     "metadata": {},
     "output_type": "execute_result"
    },
    {
     "data": {
      "image/png": "[encoded data removed]",
      "text/plain": [
       "<Figure size 432x288 with 1 Axes>"
      ]
     },
     "metadata": {},
     "output_type": "display_data"
    }
   ],
   "source": [
    "random_df.plot(kind= 'bar', x= 'x_values', y= 'y_values')"
   ]
  },
  {
   "cell_type": "markdown",
   "metadata": {},
   "source": [
    "<a id='1.3'><h3>1.3 Designing Your Plots</h3></a>\n",
    "\n",
    "A good graph should contain the following features so it can easy to read and interpret:\n",
    "\n",
    "- Title\n",
    "- Legend\n",
    "- Axes Labels for both the horizontal or $x$-axis and the vertical or $y$-axis\n",
    "- Reasonable tick values\n",
    "\n",
    "### Anatomy of a Plot\n",
    "\n",
    "<img src=\"https://i.imgur.com/AKpvE3C.png\" width=400>"
   ]
  },
  {
   "cell_type": "markdown",
   "metadata": {},
   "source": [
    "<a id='1.3.1'><h3>1.3.1 Title, Labels, Ticks, Colors</h3></a>\n",
    "\n",
    "- Title - `plt.title()`\n",
    "- X and Y Axis Labels - `plt.xlabel()` & `plt.ylabel()`\n",
    "- Ticks - `plt.xticks()` & `plt.xticks()`\n",
    "- Color - `color=`"
   ]
  },
  {
   "cell_type": "code",
   "execution_count": 14,
   "metadata": {},
   "outputs": [
    {
     "data": {
      "text/plain": [
       "[[<matplotlib.axis.YTick at 0x19fdf755c48>,\n",
       "  <matplotlib.axis.YTick at 0x19fdf5b7cc8>,\n",
       "  <matplotlib.axis.YTick at 0x19fdf746908>,\n",
       "  <matplotlib.axis.YTick at 0x19fdf783488>,\n",
       "  <matplotlib.axis.YTick at 0x19fdf7875c8>],\n",
       " Text(0, 0.5, 'This is the ylabel'),\n",
       " [<matplotlib.axis.XTick at 0x19fdf755248>,\n",
       "  <matplotlib.axis.XTick at 0x19fdf746608>,\n",
       "  <matplotlib.axis.XTick at 0x19fdf75be48>,\n",
       "  <matplotlib.axis.XTick at 0x19fdf77c308>,\n",
       "  <matplotlib.axis.XTick at 0x19fdf77cd88>],\n",
       " Text(0.5, 0, 'This is the xlabel'),\n",
       " Text(0.5, 1.0, 'This is a title')]"
      ]
     },
     "execution_count": 14,
     "metadata": {},
     "output_type": "execute_result"
    },
    {
     "data": {
      "image/png": "[encoded data removed]",
      "text/plain": [
       "<Figure size 432x288 with 1 Axes>"
      ]
     },
     "metadata": {},
     "output_type": "display_data"
    }
   ],
   "source": [
    "plot = random_df.plot(kind='line',\n",
    "               x='x_values',\n",
    "               y='y_values',\n",
    "              color=\"red\")\n",
    "\n",
    "plot.set(title=\"This is a title\", xlabel=\"This is the xlabel\", ylabel=\"This is the ylabel\", xticks= range(0,100,20), \n",
    "         yticks= range(0,100,20))"
   ]
  },
  {
   "cell_type": "markdown",
   "metadata": {},
   "source": [
    "<a id='1.3.2'><h3>1.3.2 Markers, Alphas, Sizes</h3></a>\n",
    "\n",
    "When designing scatterplots, sometimes you want certain points to be more distinct than the others.\n",
    "\n",
    "- Markers - Design of each point: `marker=`\n",
    "- Alphas - Transparency of each point: `alpha=` (between 1 to 0, 1 being darkest, 0 being transparent)\n",
    "- Size - Size of each point: `s=`"
   ]
  },
  {
   "cell_type": "code",
   "execution_count": 15,
   "metadata": {},
   "outputs": [
    {
     "data": {
      "text/plain": [
       "<matplotlib.axes._subplots.AxesSubplot at 0x19fdf797608>"
      ]
     },
     "execution_count": 15,
     "metadata": {},
     "output_type": "execute_result"
    },
    {
     "data": {
      "image/png": "[encoded data removed]",
      "text/plain": [
       "<Figure size 432x288 with 1 Axes>"
      ]
     },
     "metadata": {},
     "output_type": "display_data"
    }
   ],
   "source": [
    "random_df.plot(kind='scatter',\n",
    "               x='x_values',\n",
    "               y='y_values',\n",
    "              marker=\"x\",\n",
    "              s=100,\n",
    "              alpha=0.5,\n",
    "              color=\"red\")"
   ]
  },
  {
   "cell_type": "markdown",
   "metadata": {},
   "source": [
    "<a id='1.4'><h3>1.4 Subplots</h3></a>\n",
    "\n",
    "To plot mulitple plots within a single figure, we need to understand the columns, rows and index that identify them. \n",
    "\n",
    "<img src=\"https://i.imgur.com/JrukTTS.png\" width=\"300\">\n",
    "\n",
    "<h3>Saving Figures</h3>\n",
    "\n",
    "To save figures, use `.savefig()` with the name of the file inside the (). The filename should end with either a `.png` or `.jpg`"
   ]
  },
  {
   "cell_type": "code",
   "execution_count": 25,
   "metadata": {},
   "outputs": [
    {
     "name": "stderr",
     "output_type": "stream",
     "text": [
      "'c' argument looks like a single numeric RGB or RGBA sequence, which should be avoided as value-mapping will have precedence in case its length matches with 'x' & 'y'.  Please use a 2-D array with a single row if you really want to specify the same RGB or RGBA value for all points.\n"
     ]
    },
    {
     "data": {
      "image/png": "[encoded data removed]",
      "text/plain": [
       "<Figure size 1152x576 with 3 Axes>"
      ]
     },
     "metadata": {},
     "output_type": "display_data"
    }
   ],
   "source": [
    "figure = plt.figure(figsize=(16, 8))\n",
    "\n",
    "rows = 2\n",
    "columns = 2\n",
    "\n",
    "id = 1\n",
    "ax1 = figure.add_subplot(rows, columns, id)\n",
    "random_df.plot(kind=\"line\",x=\"x_values\", y=\"y_values\", ax=ax1)\n",
    "\n",
    "id = 2\n",
    "ax2 = figure.add_subplot(rows, columns, id)\n",
    "random_df.plot(kind=\"scatter\", x=\"x_values\", y=\"y_values\", ax=ax2)\n",
    "\n",
    "id = 3\n",
    "ax3 = figure.add_subplot(rows, columns, id)\n",
    "random_df.plot(kind=\"bar\", x=\"x_values\", y=\"y_values\", ax=ax3)\n",
    "\n",
    "plt.savefig('testing.png')"
   ]
  },
  {
   "cell_type": "markdown",
   "metadata": {},
   "source": [
    "<a id='P1'><h2> <img src=\"https://cdn.shopify.com/s/files/1/1200/7374/products/book_aec28e76-52ec-44ab-bc01-41df1279c89f_550x825.png?v=1473897430\" width=25 align=\"left\"> <font color=\"darkorange\"> &nbsp; Practice I </font><font color=\"skyblue\"> * </font></h2></a>\n",
    "\n",
    "### South Korean Tourist Departures\n",
    "\n",
    "#### Read Dataset\n",
    "\n",
    "Read the `kor-tourist-departures.csv` dataset and save it as `kto_depart_df`. Preview the dataset to understand the nature of the dataset."
   ]
  },
  {
   "cell_type": "code",
   "execution_count": 31,
   "metadata": {},
   "outputs": [
    {
     "data": {
      "text/html": [
       "<div>\n",
       "<style scoped>\n",
       "    .dataframe tbody tr th:only-of-type {\n",
       "        vertical-align: middle;\n",
       "    }\n",
       "\n",
       "    .dataframe tbody tr th {\n",
       "        vertical-align: top;\n",
       "    }\n",
       "\n",
       "    .dataframe thead th {\n",
       "        text-align: right;\n",
       "    }\n",
       "</style>\n",
       "<table border=\"1\" class=\"dataframe\">\n",
       "  <thead>\n",
       "    <tr style=\"text-align: right;\">\n",
       "      <th></th>\n",
       "      <th>year</th>\n",
       "      <th>visitor_departures</th>\n",
       "    </tr>\n",
       "  </thead>\n",
       "  <tbody>\n",
       "    <tr>\n",
       "      <th>0</th>\n",
       "      <td>2000</td>\n",
       "      <td>5508242</td>\n",
       "    </tr>\n",
       "    <tr>\n",
       "      <th>1</th>\n",
       "      <td>2001</td>\n",
       "      <td>6084476</td>\n",
       "    </tr>\n",
       "    <tr>\n",
       "      <th>2</th>\n",
       "      <td>2002</td>\n",
       "      <td>7123407</td>\n",
       "    </tr>\n",
       "    <tr>\n",
       "      <th>3</th>\n",
       "      <td>2003</td>\n",
       "      <td>7086133</td>\n",
       "    </tr>\n",
       "    <tr>\n",
       "      <th>4</th>\n",
       "      <td>2004</td>\n",
       "      <td>8825585</td>\n",
       "    </tr>\n",
       "  </tbody>\n",
       "</table>\n",
       "</div>"
      ],
      "text/plain": [
       "   year  visitor_departures\n",
       "0  2000             5508242\n",
       "1  2001             6084476\n",
       "2  2002             7123407\n",
       "3  2003             7086133\n",
       "4  2004             8825585"
      ]
     },
     "execution_count": 31,
     "metadata": {},
     "output_type": "execute_result"
    }
   ],
   "source": [
    "kto_depart_df = pd.read_csv(\"../Datasets/kor-tourist-departures.csv\")\n",
    "kto_depart_df.head()"
   ]
  },
  {
   "cell_type": "markdown",
   "metadata": {},
   "source": [
    "#### Prepare Data\n",
    "\n",
    "Create a new column called `visitor_departures_m` after using `.apply` to change visitor departures from ones to millions (i.e divide by 1000000) "
   ]
  },
  {
   "cell_type": "code",
   "execution_count": 35,
   "metadata": {},
   "outputs": [
    {
     "data": {
      "text/html": [
       "<div>\n",
       "<style scoped>\n",
       "    .dataframe tbody tr th:only-of-type {\n",
       "        vertical-align: middle;\n",
       "    }\n",
       "\n",
       "    .dataframe tbody tr th {\n",
       "        vertical-align: top;\n",
       "    }\n",
       "\n",
       "    .dataframe thead th {\n",
       "        text-align: right;\n",
       "    }\n",
       "</style>\n",
       "<table border=\"1\" class=\"dataframe\">\n",
       "  <thead>\n",
       "    <tr style=\"text-align: right;\">\n",
       "      <th></th>\n",
       "      <th>year</th>\n",
       "      <th>visitor_departures</th>\n",
       "      <th>visitor_departures_m</th>\n",
       "    </tr>\n",
       "  </thead>\n",
       "  <tbody>\n",
       "    <tr>\n",
       "      <th>0</th>\n",
       "      <td>2000</td>\n",
       "      <td>5508242</td>\n",
       "      <td>5.5</td>\n",
       "    </tr>\n",
       "    <tr>\n",
       "      <th>1</th>\n",
       "      <td>2001</td>\n",
       "      <td>6084476</td>\n",
       "      <td>6.1</td>\n",
       "    </tr>\n",
       "    <tr>\n",
       "      <th>2</th>\n",
       "      <td>2002</td>\n",
       "      <td>7123407</td>\n",
       "      <td>7.1</td>\n",
       "    </tr>\n",
       "    <tr>\n",
       "      <th>3</th>\n",
       "      <td>2003</td>\n",
       "      <td>7086133</td>\n",
       "      <td>7.1</td>\n",
       "    </tr>\n",
       "    <tr>\n",
       "      <th>4</th>\n",
       "      <td>2004</td>\n",
       "      <td>8825585</td>\n",
       "      <td>8.8</td>\n",
       "    </tr>\n",
       "  </tbody>\n",
       "</table>\n",
       "</div>"
      ],
      "text/plain": [
       "   year  visitor_departures  visitor_departures_m\n",
       "0  2000             5508242                   5.5\n",
       "1  2001             6084476                   6.1\n",
       "2  2002             7123407                   7.1\n",
       "3  2003             7086133                   7.1\n",
       "4  2004             8825585                   8.8"
      ]
     },
     "execution_count": 35,
     "metadata": {},
     "output_type": "execute_result"
    }
   ],
   "source": [
    "kto_depart_df[\"visitor_departures_m\"] = kto_depart_df[\"visitor_departures\"].apply(lambda x: x / 1000000)\n",
    "kto_depart_df.head()"
   ]
  },
  {
   "cell_type": "markdown",
   "metadata": {},
   "source": [
    "#### Visualise\n",
    "\n",
    "Using what you've learnt so far, visualise the dataset and get a similar design and label as the following line chart.\n",
    "\n",
    "#### Export and Save Visualisation\n",
    "\n",
    "Using `plt.savefig()`, save the figure with the following name, `South Korean Tourist Departures.jpg`. "
   ]
  },
  {
   "cell_type": "code",
   "execution_count": 42,
   "metadata": {},
   "outputs": [
    {
     "data": {
      "image/png": "[encoded data removed]",
      "text/plain": [
       "<Figure size 432x288 with 1 Axes>"
      ]
     },
     "metadata": {},
     "output_type": "display_data"
    }
   ],
   "source": [
    "plot = kto_depart_df.plot(kind=\"line\", x=\"year\", y=\"visitor_departures_m\")\n",
    "\n",
    "plot.set(ylabel=\"No. of Visitors\")\n",
    "plot.legend([\"visitor departures (millions)\"])\n",
    "\n",
    "plt.savefig(\"South Korean Tourist Departures.png\")"
   ]
  },
  {
   "cell_type": "markdown",
   "metadata": {},
   "source": [
    "<center><h3> End of Practice I </h3></center>"
   ]
  },
  {
   "cell_type": "markdown",
   "metadata": {},
   "source": [
    "<a id='P2'><h2> <img src=\"https://cdn.shopify.com/s/files/1/1200/7374/products/book_aec28e76-52ec-44ab-bc01-41df1279c89f_550x825.png?v=1473897430\" width=25 align=\"left\"> <font color=\"darkorange\"> &nbsp; Practice II </font><font color=\"skyblue\"> * </font></h2></a>\n",
    "\n",
    "### Term Loans Visualisation\n",
    "\n",
    "Using everything you've learnt above, prepare the following visualisation based on the `loans-25k.csv` dataset.\n",
    "\n",
    "#### Read Dataset\n",
    "\n",
    "Read the `loans-25k.csv` dataset and save it as `loans_df`. Preview the dataset to understand the nature of the dataset."
   ]
  },
  {
   "cell_type": "code",
   "execution_count": 44,
   "metadata": {},
   "outputs": [
    {
     "data": {
      "text/html": [
       "<div>\n",
       "<style scoped>\n",
       "    .dataframe tbody tr th:only-of-type {\n",
       "        vertical-align: middle;\n",
       "    }\n",
       "\n",
       "    .dataframe tbody tr th {\n",
       "        vertical-align: top;\n",
       "    }\n",
       "\n",
       "    .dataframe thead th {\n",
       "        text-align: right;\n",
       "    }\n",
       "</style>\n",
       "<table border=\"1\" class=\"dataframe\">\n",
       "  <thead>\n",
       "    <tr style=\"text-align: right;\">\n",
       "      <th></th>\n",
       "      <th>id</th>\n",
       "      <th>member_id</th>\n",
       "      <th>annual_inc</th>\n",
       "      <th>home_ownership</th>\n",
       "      <th>purpose</th>\n",
       "      <th>loan_amnt</th>\n",
       "      <th>int_rate</th>\n",
       "      <th>term</th>\n",
       "      <th>grade</th>\n",
       "    </tr>\n",
       "  </thead>\n",
       "  <tbody>\n",
       "    <tr>\n",
       "      <th>0</th>\n",
       "      <td>63459002</td>\n",
       "      <td>67801839</td>\n",
       "      <td>131,000.0</td>\n",
       "      <td>MORTGAGE</td>\n",
       "      <td>credit_card</td>\n",
       "      <td>35,000.0</td>\n",
       "      <td>8.2</td>\n",
       "      <td>36 months</td>\n",
       "      <td>B</td>\n",
       "    </tr>\n",
       "    <tr>\n",
       "      <th>1</th>\n",
       "      <td>2224979</td>\n",
       "      <td>2637150</td>\n",
       "      <td>125,000.0</td>\n",
       "      <td>MORTGAGE</td>\n",
       "      <td>debt_consolidation</td>\n",
       "      <td>29,700.0</td>\n",
       "      <td>15.3</td>\n",
       "      <td>60 months</td>\n",
       "      <td>C</td>\n",
       "    </tr>\n",
       "    <tr>\n",
       "      <th>2</th>\n",
       "      <td>5979460</td>\n",
       "      <td>7451906</td>\n",
       "      <td>36,070.0</td>\n",
       "      <td>MORTGAGE</td>\n",
       "      <td>debt_consolidation</td>\n",
       "      <td>6,700.0</td>\n",
       "      <td>7.9</td>\n",
       "      <td>36 months</td>\n",
       "      <td>A</td>\n",
       "    </tr>\n",
       "    <tr>\n",
       "      <th>3</th>\n",
       "      <td>57126822</td>\n",
       "      <td>60829645</td>\n",
       "      <td>90,000.0</td>\n",
       "      <td>RENT</td>\n",
       "      <td>credit_card</td>\n",
       "      <td>18,000.0</td>\n",
       "      <td>8.2</td>\n",
       "      <td>60 months</td>\n",
       "      <td>B</td>\n",
       "    </tr>\n",
       "    <tr>\n",
       "      <th>4</th>\n",
       "      <td>1445209</td>\n",
       "      <td>1697667</td>\n",
       "      <td>90,000.0</td>\n",
       "      <td>MORTGAGE</td>\n",
       "      <td>small_business</td>\n",
       "      <td>18,000.0</td>\n",
       "      <td>7.6</td>\n",
       "      <td>36 months</td>\n",
       "      <td>A</td>\n",
       "    </tr>\n",
       "  </tbody>\n",
       "</table>\n",
       "</div>"
      ],
      "text/plain": [
       "         id  member_id  annual_inc home_ownership             purpose  \\\n",
       "0  63459002   67801839   131,000.0       MORTGAGE         credit_card   \n",
       "1   2224979    2637150   125,000.0       MORTGAGE  debt_consolidation   \n",
       "2   5979460    7451906    36,070.0       MORTGAGE  debt_consolidation   \n",
       "3  57126822   60829645    90,000.0           RENT         credit_card   \n",
       "4   1445209    1697667    90,000.0       MORTGAGE      small_business   \n",
       "\n",
       "   loan_amnt  int_rate        term grade  \n",
       "0   35,000.0       8.2   36 months     B  \n",
       "1   29,700.0      15.3   60 months     C  \n",
       "2    6,700.0       7.9   36 months     A  \n",
       "3   18,000.0       8.2   60 months     B  \n",
       "4   18,000.0       7.6   36 months     A  "
      ]
     },
     "execution_count": 44,
     "metadata": {},
     "output_type": "execute_result"
    }
   ],
   "source": [
    "loans_df = pd.read_csv(\"../Datasets/loans-25k.csv\")\n",
    "loans_df.head()"
   ]
  },
  {
   "cell_type": "markdown",
   "metadata": {},
   "source": [
    "#### Isolate and Group\n",
    "\n",
    "Isolate the data to just the `term`, `grade` columns and store them as a separate DataFrame. After that, group them up by their `grade`, then `term` (using a list). Store the grouped data as `term_grade_group`."
   ]
  },
  {
   "cell_type": "code",
   "execution_count": 50,
   "metadata": {},
   "outputs": [],
   "source": [
    "term_grade_df = loans_df[[\"term\", \"grade\"]]\n",
    "term_grade_group = term_grade_df.groupby([\"grade\", \"term\"])"
   ]
  },
  {
   "cell_type": "markdown",
   "metadata": {},
   "source": [
    "#### Size of Each Grade and Term\n",
    "\n",
    "Using the group, get the size of each object and <b>reset its index</b> so that it's now a flattened dataframe of the following output: \n",
    "\n",
    "<img src=\"https://i.imgur.com/fOvft3H.png\" width=200>\n",
    "\n",
    "After which, rename the columns to `Grade`, `Term`, `No. of Loans` respectively, by changing the `.columns` attribute."
   ]
  },
  {
   "cell_type": "code",
   "execution_count": 56,
   "metadata": {},
   "outputs": [
    {
     "data": {
      "text/html": [
       "<div>\n",
       "<style scoped>\n",
       "    .dataframe tbody tr th:only-of-type {\n",
       "        vertical-align: middle;\n",
       "    }\n",
       "\n",
       "    .dataframe tbody tr th {\n",
       "        vertical-align: top;\n",
       "    }\n",
       "\n",
       "    .dataframe thead th {\n",
       "        text-align: right;\n",
       "    }\n",
       "</style>\n",
       "<table border=\"1\" class=\"dataframe\">\n",
       "  <thead>\n",
       "    <tr style=\"text-align: right;\">\n",
       "      <th></th>\n",
       "      <th>Grade</th>\n",
       "      <th>Term</th>\n",
       "      <th>No. of Loans</th>\n",
       "    </tr>\n",
       "  </thead>\n",
       "  <tbody>\n",
       "    <tr>\n",
       "      <th>0</th>\n",
       "      <td>A</td>\n",
       "      <td>36 months</td>\n",
       "      <td>4033</td>\n",
       "    </tr>\n",
       "    <tr>\n",
       "      <th>1</th>\n",
       "      <td>A</td>\n",
       "      <td>60 months</td>\n",
       "      <td>139</td>\n",
       "    </tr>\n",
       "    <tr>\n",
       "      <th>2</th>\n",
       "      <td>B</td>\n",
       "      <td>36 months</td>\n",
       "      <td>6015</td>\n",
       "    </tr>\n",
       "    <tr>\n",
       "      <th>3</th>\n",
       "      <td>B</td>\n",
       "      <td>60 months</td>\n",
       "      <td>1179</td>\n",
       "    </tr>\n",
       "    <tr>\n",
       "      <th>4</th>\n",
       "      <td>C</td>\n",
       "      <td>36 months</td>\n",
       "      <td>4582</td>\n",
       "    </tr>\n",
       "    <tr>\n",
       "      <th>5</th>\n",
       "      <td>C</td>\n",
       "      <td>60 months</td>\n",
       "      <td>2371</td>\n",
       "    </tr>\n",
       "    <tr>\n",
       "      <th>6</th>\n",
       "      <td>D</td>\n",
       "      <td>36 months</td>\n",
       "      <td>2183</td>\n",
       "    </tr>\n",
       "    <tr>\n",
       "      <th>7</th>\n",
       "      <td>D</td>\n",
       "      <td>60 months</td>\n",
       "      <td>1737</td>\n",
       "    </tr>\n",
       "    <tr>\n",
       "      <th>8</th>\n",
       "      <td>E</td>\n",
       "      <td>36 months</td>\n",
       "      <td>626</td>\n",
       "    </tr>\n",
       "    <tr>\n",
       "      <th>9</th>\n",
       "      <td>E</td>\n",
       "      <td>60 months</td>\n",
       "      <td>1379</td>\n",
       "    </tr>\n",
       "    <tr>\n",
       "      <th>10</th>\n",
       "      <td>F</td>\n",
       "      <td>36 months</td>\n",
       "      <td>108</td>\n",
       "    </tr>\n",
       "    <tr>\n",
       "      <th>11</th>\n",
       "      <td>F</td>\n",
       "      <td>60 months</td>\n",
       "      <td>504</td>\n",
       "    </tr>\n",
       "    <tr>\n",
       "      <th>12</th>\n",
       "      <td>G</td>\n",
       "      <td>36 months</td>\n",
       "      <td>19</td>\n",
       "    </tr>\n",
       "    <tr>\n",
       "      <th>13</th>\n",
       "      <td>G</td>\n",
       "      <td>60 months</td>\n",
       "      <td>125</td>\n",
       "    </tr>\n",
       "  </tbody>\n",
       "</table>\n",
       "</div>"
      ],
      "text/plain": [
       "   Grade        Term  No. of Loans\n",
       "0      A   36 months          4033\n",
       "1      A   60 months           139\n",
       "2      B   36 months          6015\n",
       "3      B   60 months          1179\n",
       "4      C   36 months          4582\n",
       "5      C   60 months          2371\n",
       "6      D   36 months          2183\n",
       "7      D   60 months          1737\n",
       "8      E   36 months           626\n",
       "9      E   60 months          1379\n",
       "10     F   36 months           108\n",
       "11     F   60 months           504\n",
       "12     G   36 months            19\n",
       "13     G   60 months           125"
      ]
     },
     "execution_count": 56,
     "metadata": {},
     "output_type": "execute_result"
    }
   ],
   "source": [
    "flatten_df = term_grade_group.size().reset_index()\n",
    "flatten_df.columns = [\"Grade\", \"Term\", \"No. of Loans\"]\n",
    "flatten_df\n",
    "# term_grade_group.size()"
   ]
  },
  {
   "cell_type": "markdown",
   "metadata": {},
   "source": [
    "#### Pivot Table (Coded For You)\n",
    "\n",
    "Using `pd.pivot_table`, change the structure of the DataFrame such that the index = `Grade`, columns = `Term`, values = `No. of Loans` and it is aggregated by the `np.sum` function. <b>Reset the pivoted_table's index</b> and change the columns to the following name `Grade`, `36 Months`, `60 Months`. \n",
    "\n",
    "Expected Final DataFrame: \n",
    "\n",
    "<img src=\"https://i.imgur.com/sFIaS5a.png\" width=200>"
   ]
  },
  {
   "cell_type": "code",
   "execution_count": 68,
   "metadata": {},
   "outputs": [
    {
     "data": {
      "text/html": [
       "<div>\n",
       "<style scoped>\n",
       "    .dataframe tbody tr th:only-of-type {\n",
       "        vertical-align: middle;\n",
       "    }\n",
       "\n",
       "    .dataframe tbody tr th {\n",
       "        vertical-align: top;\n",
       "    }\n",
       "\n",
       "    .dataframe thead th {\n",
       "        text-align: right;\n",
       "    }\n",
       "</style>\n",
       "<table border=\"1\" class=\"dataframe\">\n",
       "  <thead>\n",
       "    <tr style=\"text-align: right;\">\n",
       "      <th></th>\n",
       "      <th>Grade</th>\n",
       "      <th>36 Months</th>\n",
       "      <th>60 Months</th>\n",
       "    </tr>\n",
       "  </thead>\n",
       "  <tbody>\n",
       "    <tr>\n",
       "      <th>0</th>\n",
       "      <td>A</td>\n",
       "      <td>4033</td>\n",
       "      <td>139</td>\n",
       "    </tr>\n",
       "    <tr>\n",
       "      <th>1</th>\n",
       "      <td>B</td>\n",
       "      <td>6015</td>\n",
       "      <td>1179</td>\n",
       "    </tr>\n",
       "    <tr>\n",
       "      <th>2</th>\n",
       "      <td>C</td>\n",
       "      <td>4582</td>\n",
       "      <td>2371</td>\n",
       "    </tr>\n",
       "    <tr>\n",
       "      <th>3</th>\n",
       "      <td>D</td>\n",
       "      <td>2183</td>\n",
       "      <td>1737</td>\n",
       "    </tr>\n",
       "    <tr>\n",
       "      <th>4</th>\n",
       "      <td>E</td>\n",
       "      <td>626</td>\n",
       "      <td>1379</td>\n",
       "    </tr>\n",
       "    <tr>\n",
       "      <th>5</th>\n",
       "      <td>F</td>\n",
       "      <td>108</td>\n",
       "      <td>504</td>\n",
       "    </tr>\n",
       "    <tr>\n",
       "      <th>6</th>\n",
       "      <td>G</td>\n",
       "      <td>19</td>\n",
       "      <td>125</td>\n",
       "    </tr>\n",
       "  </tbody>\n",
       "</table>\n",
       "</div>"
      ],
      "text/plain": [
       "  Grade  36 Months  60 Months\n",
       "0     A       4033        139\n",
       "1     B       6015       1179\n",
       "2     C       4582       2371\n",
       "3     D       2183       1737\n",
       "4     E        626       1379\n",
       "5     F        108        504\n",
       "6     G         19        125"
      ]
     },
     "execution_count": 68,
     "metadata": {},
     "output_type": "execute_result"
    }
   ],
   "source": [
    "term_grade_loans_pivot = pd.pivot_table(flatten_df, index=['Grade'], columns=['Term'],\n",
    "                                       values='No. of Loans', aggfunc=np.sum)\n",
    "term_grade_loans_pivot.reset_index(inplace=True)\n",
    "term_grade_loans_pivot.columns = ['Grade', '36 Months', '60 Months']\n",
    "term_grade_loans_pivot"
   ]
  },
  {
   "cell_type": "markdown",
   "metadata": {},
   "source": [
    "#### Visualise \n",
    "\n",
    "Using the prepared DataFrame above, prepare the following visualisation, matching a similar design and labels shown: \n",
    "\n",
    "<i>For the 3rd chart, use the <code>stacked</code> argument and set a Boolean value</i>\n",
    "\n",
    "#### Export and Save Visualisation\n",
    "\n",
    "Using `plt.savefig()`, save the figure with the following name, `No. of Loans by Grade and Terms.jpg`. \n",
    "\n",
    "<img src=\"https://i.imgur.com/HpST8Lc.png\" width=800>"
   ]
  },
  {
   "cell_type": "code",
   "execution_count": 72,
   "metadata": {},
   "outputs": [
    {
     "data": {
      "text/plain": [
       "[Text(0, 0.5, 'No. of Loans'),\n",
       " Text(0.5, 1.0, 'No. of Loans by Grade, 60 Months Term')]"
      ]
     },
     "execution_count": 72,
     "metadata": {},
     "output_type": "execute_result"
    },
    {
     "data": {
      "image/png": "[encoded data removed]",
      "text/plain": [
       "<Figure size 1152x576 with 3 Axes>"
      ]
     },
     "metadata": {},
     "output_type": "display_data"
    }
   ],
   "source": [
    "figure = plt.figure(figsize=(16,8))\n",
    "\n",
    "ax1 = figure.add_subplot(2, 2, 1)\n",
    "term_grade_loans_pivot.plot(kind='bar',\n",
    "                           color='orange',\n",
    "                           x='Grade',\n",
    "                           y='36 Months',\n",
    "                           ax = ax1)\n",
    "ax1.set(ylabel='No. of Loans', title='No. of Loans by Grade, 36 Months Term')\n",
    "\n",
    "ax2 = figure.add_subplot(2, 2, 2)\n",
    "term_grade_loans_pivot.plot(kind='bar',\n",
    "                           color='blue',\n",
    "                           x='Grade',\n",
    "                           y='60 Months',\n",
    "                           ax = ax2)\n",
    "ax2.set(ylabel='No. of Loans', title='No. of Loans by Grade, 60 Months Term')\n",
    "\n",
    "ax3 = figure.add_subplot(2, 1, 2)\n",
    "term_grade_loans_pivot.plot(kind='bar',\n",
    "                                stacked = True,\n",
    "                               x='Grade',\n",
    "                               ax = ax3)\n",
    "ax3.set(ylabel='No. of Loans', title='No. of Loans by Grade, 60 Months Term')"
   ]
  },
  {
   "cell_type": "markdown",
   "metadata": {},
   "source": [
    "<center><h3> End of Practice II </h3></center>"
   ]
  },
  {
   "cell_type": "markdown",
   "metadata": {},
   "source": [
    "**Libraries**\n",
    "- [matplotlib](https://matplotlib.org/gallery/index.html)\n",
    "- [seaborn](https://seaborn.pydata.org/examples/index.html)\n",
    "\n",
    "**Credits**\n",
    "- [Korea Tourism Organisation](https://kto.visitkorea.or.kr/eng/tourismStatics/keyFacts/visitorArrivals.kto) for Dataset 1 & 7\n",
    "- [Singstat](https://www.singstat.gov.sg/find-data/search-by-theme/population/births-and-fertility/latest-data) for Dataset 2\n",
    "- [data.gov.sg](https://data.gov.sg/dataset/hospital-admissions) for Dataset 3\n",
    "- [Kaggle](https://www.kaggle.com/monkeasy/exploring-gender-equality-in-us-wages/data) for Dataset 4\n",
    "- [Yahoo Finance GOOG](https://finance.yahoo.com/quote/GOOG) and [Yahoo Finance AAPL](https://finance.yahoo.com/quote/AAPL) for Dataset 5 & 6\n",
    "\n",
    "\n",
    "\n",
    "**Liability Disclaimer**\n",
    "<p style=\"font-size:10px\">Notwithstanding any other provision of other agreements between Hackwagon and its trainees, in no event shall any party be liable to another party for any loss of anticipated profits or other consequential, special or indirect loss or damage of any nature arising at any time, whether arising under contract, tort (including negligence), strict liability or for any other cause whatsoever. The trainee understands and agrees that algorithms taught for financial markets are volatile and unpredictable in nature and that no warranty, either express or implied, is made by the company with respect thereto. By continuing with the lesson, the trainee agrees implicitly with the statements prior.</p>"
   ]
  },
  {
   "cell_type": "code",
   "execution_count": null,
   "metadata": {},
   "outputs": [],
   "source": []
  }
 ],
 "metadata": {
  "kernelspec": {
   "display_name": "Python 3",
   "language": "python",
   "name": "python3"
  },
  "language_info": {
   "codemirror_mode": {
    "name": "ipython",
    "version": 3
   },
   "file_extension": ".py",
   "mimetype": "text/x-python",
   "name": "python",
   "nbconvert_exporter": "python",
   "pygments_lexer": "ipython3",
   "version": "3.7.6"
  }
 },
 "nbformat": 4,
 "nbformat_minor": 2
}
