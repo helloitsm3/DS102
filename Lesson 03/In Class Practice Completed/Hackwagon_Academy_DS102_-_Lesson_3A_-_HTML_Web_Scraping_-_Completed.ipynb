{
 "cells": [
  {
   "cell_type": "markdown",
   "metadata": {},
   "source": [
    "<center><img src=\"https://i2.wp.com/hackwagon.com/wp-content/uploads/2017/02/Logo-Web-Export.png?ssl=1\" width=200/></center>\n",
    "<h1> Hackwagon Academy DS102 Lesson 3A </h1>\n",
    "<h2> HTML & Web Scraping</h2> \n",
    "<h3> Lesson Outline </h3>\n",
    "\n",
    "\n",
    "- 1. [HTML](#1)\n",
    "    - 1.1 [Headers](#1.1)\n",
    "    - 1.2 [Texts & Paragraphs](#1.2)\n",
    "    - 1.3 [Attributes](#1.3)\n",
    "    - 1.4 [HTML Nesting](#1.4)\n",
    "- 2. [Blocks](#2)\n",
    "    - 2.1 [`div` Block](#2.1)\n",
    "- 3. [Tables](#3)\n",
    "- 4. [Web Scraping Mindset](#4)\n",
    "    - 4.1 [Robots.txt](#4.1)\n",
    "- 5. [Request](#5)\n",
    "    - 5.1 [RequestObject](#5.1)\n",
    "    - 5.2 [Accessing Multiple Pages](#5.2)\n",
    "- 6. [BeautifulSoup](#6)\n",
    "    - 6.1 [BS Object](#6.1)\n",
    "    - 6.2 [Finding](#6.2)\n",
    "        - 6.2.1 [Find One](#6.2.1)\n",
    "        - 6.2.2 [Find All](#6.2.2)\n",
    "        - 6.2.3 [Find Attributes](#6.2.3)\n",
    "    - [Practice I](#P1)\n",
    "    - 6.3 [Scraping Table](#6.3)\n",
    "    - [Practice II](#P2)"
   ]
  },
  {
   "cell_type": "markdown",
   "metadata": {},
   "source": [
    "<hr/>\n",
    "\n",
    "<a id='1'><h2><img src=\"https://images.vexels.com/media/users/3/153978/isolated/preview/483ef8b10a46e28d02293a31570c8c56-warning-sign-colored-stroke-icon-by-vexels.png\" width=23 align=\"left\"><font color=\"salmon\">&nbsp;1.</font><font color=\"salmon\"> HTML </font> </h2></a>\n",
    "\n",
    "HTML stands for Hyper Text Markup Language. It is the standard language which your browser (Google Chrome, Safari, Microsoft Edge) interprets from websites in order to display nice webpages for you. We will now understand how to interpret HTML. \n",
    "\n",
    "You can learn more about how to read HTML here: https://www.w3schools.com/html/default.asp\n",
    "\n",
    "In HTML, codes are enclosed in tags like these.\n",
    "\n",
    "<img src=\"https://i.imgur.com/Hb8a9Qe.png\" width=400>"
   ]
  },
  {
   "cell_type": "markdown",
   "metadata": {},
   "source": [
    "<a id='1.1'><h3>1.1 Headers</h3></a>\n",
    "\n",
    "Headers are defined using `<h1>` to `<h6>`. The smaller the number, the bigger the header.\n",
    "When writing html, we use `<h1>` for most important header and `<h6>` for least important header.\n",
    "\n",
    "```html\n",
    "<h1>Header 1</h1> \n",
    "<h2>Header 2</h2>\n",
    "<h3>Header 3</h3>\n",
    "\n",
    "\n",
    "```\n",
    "\n",
    "\n",
    "> <h1>Header 1</h1> \n",
    "> <h2>Header 2</h2>\n",
    "> <h3>Header 3</h3>\n"
   ]
  },
  {
   "cell_type": "markdown",
   "metadata": {},
   "source": [
    "<a id='1.2'><h3>1.2 Texts & Paragraphs </h3></a>\n",
    "\n",
    "We can edit texts with some simple formatting like.\n",
    "\n",
    "- Bold\n",
    "- Italics \n",
    "- Underline\n",
    "\n",
    "For example, <br>\n",
    "\n",
    "```html\n",
    "<b>This is Bold</b><br>\n",
    "<i>This is Italics</i><br>\n",
    "<u>This is Underline</u><br>\n",
    "```\n",
    "\n",
    "Will display each word with different formats on the webpage : <br>\n",
    "\n",
    "> <b>This is Bold</b><br>\n",
    "> <i>This is Italics</i><br>\n",
    "> <u>This is Underline</u><br>\n",
    "\n",
    "We can also write paragraph on HTML using `<p>`.\n",
    "\n",
    "```html\n",
    "<p>This is a short paragraph of texts that are long enough to form a paragraph. I got nothing to write so I am just spamming... et</p>\n",
    "\n",
    "```\n",
    "\n",
    "> <p>This is a short paragraph of texts that are long enough to form a paragraph. I got nothing to write so I am just spamming. If you have something to tell me, please keep it short as I don't like naggy person :)</p>"
   ]
  },
  {
   "cell_type": "markdown",
   "metadata": {},
   "source": [
    "<a id='1.3'><h3>1.3 Attributes</h3></a>\n",
    "\n",
    "Attributes are settings that changes the styling, dimension, identifier or action of the content within it.\n",
    "\n",
    "<img src=\"https://i.imgur.com/CrOn4jx.png\" width=400>\n",
    "\n",
    "Common attributes would include:\n",
    "<table>    \n",
    "<tr>\n",
    "    <th>Attribute</th><th>Description</th>\n",
    "</tr>\n",
    "<tr>\n",
    "    <td>alt</td><td>Specifies an alternative text for an image, when the image cannot be displayed</td>\n",
    "</tr>  \n",
    "<tr>\n",
    "    <td>class</td><td>Point to a class in a style sheet. Other languages can make changes to HTML element with a specified class</td>\n",
    "</tr>\n",
    "<tr>\n",
    "    <td>href</td><td>Specifies the URL (web address) for a link</td>\n",
    "</tr>  \n",
    "<tr>\n",
    "    <td>id</td><td>Specifies a unique id for an element</td>\n",
    "</tr>  \n",
    "<tr>\n",
    "    <td>src</td><td>Specifies the URL (web address) for an image</td>\n",
    "</tr>  \n",
    "<tr>\n",
    "    <td>title</td><td>Specifies extra information about an element (displayed as a tool tip)</td>\n",
    "</tr>  \n",
    "\n",
    "</table>\n",
    "\n",
    "\n",
    "When writing a website, most tags will have at least 1 attribute.\n",
    "\n",
    "The most common tag with attribute is\n",
    "\n",
    "```html\n",
    "<a href=\"https://www.google.com\">Try clicking here, no virus :)</a>\n",
    "```\n",
    "\n",
    "> <a href=\"https://www.google.com\">Try clicking here, no virus :)</a>"
   ]
  },
  {
   "cell_type": "markdown",
   "metadata": {},
   "source": [
    "<a id='1.4'><h3>1.4 HTML Nesting</h3></a>\n",
    "\n",
    "HTML Tags can be nested within each other, and they must be closed appropriately. \n",
    "\n",
    "<img src=\"https://i.imgur.com/VMYSOzq.png\" width=500>"
   ]
  },
  {
   "cell_type": "markdown",
   "metadata": {},
   "source": [
    "<a id='2'><h2><img src=\"https://images.vexels.com/media/users/3/153978/isolated/preview/483ef8b10a46e28d02293a31570c8c56-warning-sign-colored-stroke-icon-by-vexels.png\" width=23 align=\"left\"><font color=\"salmon\">&nbsp;2.</font><font color=\"salmon\"> Blocks </font> </h2></a>\n",
    "\n",
    "For web designers, they want to make sure their content is contained within a well defined section. To do so, they will either use the `<div>` or `<span>` tags to contain these items."
   ]
  },
  {
   "cell_type": "markdown",
   "metadata": {},
   "source": [
    "<a id='2.1'><h3>2.1 `div` Block</h3></a>\n",
    "\n",
    "When using `div` tag, it's common that we will use `class` as attribute so all informtation in the same `div` with same `class` name can be changed together.\n",
    "\n",
    "\n",
    "```html\n",
    "<div class=\"alert alert-block alert-info\">\n",
    "<b>Tip:</b> Use blue boxes (alert-info) for tips and notes. \n",
    "If it’s a note, you don’t have to include the word “Note”.\n",
    "</div>\n",
    "```\n",
    "\n",
    "\n",
    "> <div class=\"alert alert-block alert-info\">\n",
    "<b>Tip:</b> Use blue boxes (alert-info) for tips and notes. \n",
    "If it’s a note, you don’t have to include the word “Note”.\n",
    "</div>\n",
    "\n"
   ]
  },
  {
   "cell_type": "markdown",
   "metadata": {},
   "source": [
    "<a id='3'><h2><img src=\"https://images.vexels.com/media/users/3/153978/isolated/preview/483ef8b10a46e28d02293a31570c8c56-warning-sign-colored-stroke-icon-by-vexels.png\" width=23 align=\"left\"><font color=\"salmon\">&nbsp;3.</font><font color=\"salmon\"> Tables </font> </h2></a>\n",
    "\n",
    "Many useful datasets are stored within tables in web pages. The tables are coded as such: \n",
    "\n",
    "<img src=\"https://i.imgur.com/Th90tXd.png\" width=500>\n",
    "\n",
    "Things to note:\n",
    "- Opening and closing `<table>` tags\n",
    "- Each row is represented by `<tr>` tags\n",
    "- Header cells are represented by `<th>` tags\n",
    "- Data cells are represented by `<td>` tags"
   ]
  },
  {
   "cell_type": "markdown",
   "metadata": {},
   "source": [
    "> <table>\n",
    "> <tr>\n",
    ">    <th>Name</th><th>Age</th>\n",
    "></tr>\n",
    "><tr>\n",
    ">    <td>Alice</td><td>20</td>\n",
    "></tr>  \n",
    "><tr>\n",
    ">    <td>Bob</td><td>30</td>\n",
    "></tr>   \n",
    "></table>"
   ]
  },
  {
   "cell_type": "markdown",
   "metadata": {},
   "source": [
    "\n",
    "<a id='4'><h2><img src=\"https://images.vexels.com/media/users/3/153978/isolated/preview/483ef8b10a46e28d02293a31570c8c56-warning-sign-colored-stroke-icon-by-vexels.png\" width=23 align=\"left\"><font color=\"salmon\">&nbsp;4.</font><font color=\"salmon\"> Web Scraping Mindset </font> </h2></a>\n",
    "\n",
    "<div class=\"alert alert-block alert-info\">\n",
    "\n",
    "1. Life is tough. You usually won't get 100% of the data you want, only getting about 80% of the data.\n",
    "<br>\n",
    "<br>\n",
    "2. Before scraping, look at the website and the content you want before you start, otherwise it will be a hassle to keep staring at the code.\n",
    "<br>\n",
    "<br>\n",
    "3. Sometimes, it could be illegal to scrape certain parts of the website, so do look out for the `robots.txt` hyperlink to know what you can or cannot scrape.\n",
    "<br>\n",
    "<br>\n",
    "4. Don't ever use your home wifi to scrape unless you want to risk getting it banned. Try public wifi or VPNs. \n",
    "</div>"
   ]
  },
  {
   "cell_type": "markdown",
   "metadata": {},
   "source": [
    "<a id='4.1'><h3>4.1 Robots.txt</h3></a>\n",
    "\n",
    "<b>In a nutshell</b>\n",
    "\n",
    "Web site owners use the /robots.txt file to give instructions about their site to web robots; this is called The Robots Exclusion Protocol.\n",
    "\n",
    "Before these robots can crawl their webpage they will visit `/robots.txt` to see what is allowed or disallowed. \n",
    "\n",
    "Here is an example of a `robots.txt` file from Google: https://www.google.com/robots.txt\n",
    "\n",
    "You can learn more about `robots.txt` here: https://www.robotstxt.org/robotstxt.html"
   ]
  },
  {
   "cell_type": "markdown",
   "metadata": {},
   "source": [
    "<a id='5'><h2><img src=\"https://images.vexels.com/media/users/3/153978/isolated/preview/483ef8b10a46e28d02293a31570c8c56-warning-sign-colored-stroke-icon-by-vexels.png\" width=23 align=\"left\"><font color=\"salmon\">&nbsp;5.</font><font color=\"salmon\"> Request and Response </font> </h2></a>\n",
    "\n",
    "Whenever we visit a website, our browsers will send a <b>request</b> to retrieve that website's HTML codes to display on our browser. The server of that website will <b>respond</b> by returning a response \"object\". \n",
    "\n",
    "<img src=\"https://i.imgur.com/qgEL5Cr.png\" width=600>\n",
    "\n",
    "To access a website with Python, we will use the `requests` library to access it. Click [here](http://docs.python-requests.org/en/v1.0.0/) to learn more about the library.\n",
    "\n",
    "### An Object's Attributes & Methods (Functions)\n",
    "\n",
    "<img src=\"https://i.imgur.com/5IXmyiF.png\" width=300>"
   ]
  },
  {
   "cell_type": "markdown",
   "metadata": {},
   "source": [
    "<a id='5.1'><h3>5.1 Request Objects</h3></a>\n",
    "\n",
    "Use `requests.get('url')` to send a request to the server. Assign the page returned to a `resp` variable. `resp` usually refers to a HTTP response. The `resp` variable will have the <b>Response</b> object.\n",
    "\n",
    "We will now visit this page: https://eternalarrival.com/travel-blog/north-america/usa/5-days-in-new-york-itinerary/"
   ]
  },
  {
   "cell_type": "code",
   "execution_count": null,
   "metadata": {},
   "outputs": [],
   "source": [
    "import requests\n",
    "\n",
    "# Source 1: Credits at the end of the notebook\n",
    "url1 = \"https://www.google.com\"\n",
    "# Use requests.get(url) to send a request to the server and get the contents. Store it in resp\n",
    "#\n",
    "resp = requests.get(url1)"
   ]
  },
  {
   "cell_type": "markdown",
   "metadata": {},
   "source": [
    "### How to know if you have successfully requested? \n",
    "\n",
    "Get the <b>status code</b> of the <b>Response object</b>. To know more about these status codes, visit [this website](https://developer.mozilla.org/en-US/docs/Web/HTTP/Status). The status code will tell you several information about the page, some of the common ones includes:\n",
    "\n",
    "- 200: Successfully Connected\n",
    "- 400: Server could not understand the request due to invalid syntax\n",
    "- 404: This means the URL is not recognized\n",
    "\n",
    "To get the status code of your `resp` variable, use the `.status_code` attribute. "
   ]
  },
  {
   "cell_type": "code",
   "execution_count": null,
   "metadata": {
    "scrolled": true
   },
   "outputs": [],
   "source": [
    "resp.status_code"
   ]
  },
  {
   "cell_type": "markdown",
   "metadata": {},
   "source": [
    "#### The HTML Text\n",
    "\n",
    "To get the HTML text of the response object, use the `.text` attribute."
   ]
  },
  {
   "cell_type": "code",
   "execution_count": null,
   "metadata": {},
   "outputs": [],
   "source": [
    "resp.text"
   ]
  },
  {
   "cell_type": "markdown",
   "metadata": {},
   "source": [
    "<a id='5.2'><h3>5.2 Accessing Multiple Pages</h3></a>\n",
    "\n",
    "If you want to access multiple pages within a website, examine the nature of the URL. Within the URLs could have a common pattern, take the following as an example:\n",
    "\n",
    "<img src=\"https://i.imgur.com/Qx67j4f.png\" width=400>\n",
    "\n",
    "What we notice is that these pages common sequence is that the pages increments at the last part of the URL. So to \"visit\" all these pages, you would do a for-loop that will request for each these pages, <b>changing the URL every single time using string manipulation</b>. \n",
    "\n",
    "Once you access these websites, store their data within a data structure, where you will collect each page's HTML text within a given list.\n",
    "\n",
    "<div class=\"alert alert-block alert-danger\">\n",
    "To make sure your IP Address is not banned from the website (from making too many requests in a short time), make sure you <b>stagger</b> your calls. To do so you can use the <code>time.sleep()</code> to help you stagger the requests.\n",
    "</div>\n",
    "\n",
    "Let's try the following as an example: https://bulma-low.now.sh/gaming/\n",
    "\n"
   ]
  },
  {
   "cell_type": "code",
   "execution_count": null,
   "metadata": {},
   "outputs": [],
   "source": [
    "import time\n",
    "\n",
    "all_response = []\n",
    "url = \"https://bulma-low.now.sh/gaming/\"\n",
    "pages = [1,2]\n",
    "for i in pages:\n",
    "    # Create new URL\n",
    "    new_url = url+ str(i)\n",
    "    print(new_url)\n",
    "    \n",
    "    resp = requests.get(new_url)\n",
    "    time.sleep(1) # Stagger calls\n",
    "    \n",
    "    all_response.append(resp.status_code)\n",
    "    \n",
    "print(all_response)\n",
    "print(len(all_response))"
   ]
  },
  {
   "cell_type": "markdown",
   "metadata": {},
   "source": [
    "<a id='6'><h2><img src=\"https://images.vexels.com/media/users/3/153978/isolated/preview/483ef8b10a46e28d02293a31570c8c56-warning-sign-colored-stroke-icon-by-vexels.png\" width=23 align=\"left\"><font color=\"salmon\">&nbsp;6.</font><font color=\"salmon\"> BeautifulSoup </font> </h2></a>\n",
    "\n",
    "BeautifulSoup is a library that is able to pull data out of HTML and XML formats. \n",
    "\n",
    "<img src=\"https://www.crummy.com/software/BeautifulSoup/bs4/doc/_images/6.1.jpg\">\n",
    "\n",
    "<b><center><a href=\"https://www.crummy.com/software/BeautifulSoup/bs4/doc/\">Beautiful Soup Documentation</a></center></b>\n",
    "<br>\n",
    "\n",
    "\n",
    "<center><i>\"You didn't write that awful page. You're just trying to get some data out of it. Beautiful Soup is here to help. Since 2004, it's been saving programmers hours or days of work on quick-turnaround screen scraping projects.\"</i></center>"
   ]
  },
  {
   "cell_type": "markdown",
   "metadata": {},
   "source": [
    "<a id='6.1'><h3>6.1 BeautifulSoup Object</h3></a>\n",
    "\n",
    "As the name suggests, **BeautifulSoup** is an object that contains all of your data **(soup)**, and just like your Alphabets soup, where search for favourite A-B-Cs, you can search for the data you want.\n",
    "\n",
    "<img src=\"https://i.imgur.com/EYPIEIo.png\" width=500>\n",
    "\n",
    "For this in-class example, we will scrape this webpage: https://bulma-low.now.sh/blogs/1"
   ]
  },
  {
   "cell_type": "code",
   "execution_count": null,
   "metadata": {},
   "outputs": [],
   "source": [
    "from bs4 import BeautifulSoup\n",
    "import requests\n",
    "\n",
    "# Source 1: Credits at the end of the notebook\n",
    "url1 = \"https://bulma-low.now.sh/blogs/2\"\n",
    "# Use requests.get(url) to send a request to the server and get the contents. Store it in resp\n",
    "#\n",
    "resp = requests.get(url1)\n",
    "new_york_soup = BeautifulSoup(resp.text, 'html.parser')"
   ]
  },
  {
   "cell_type": "markdown",
   "metadata": {},
   "source": [
    "#### Prettify The HTML For Readabliity "
   ]
  },
  {
   "cell_type": "code",
   "execution_count": null,
   "metadata": {},
   "outputs": [],
   "source": [
    "print(new_york_soup.prettify())"
   ]
  },
  {
   "cell_type": "markdown",
   "metadata": {},
   "source": [
    "<a id='6.2'><h3>6.2 Finding</h3></a>\n",
    "\n",
    "As the name suggests, using the `find` method helps us to identify the data we want, depending on the parameters. To find these data, we need to recall the nesting of HTML codes. A web page is a large HTML nest, which within it nests smaller HTML nests.\n",
    "\n",
    "<img src=\"https://i.imgur.com/VMYSOzq.png\" width=500>\n"
   ]
  },
  {
   "cell_type": "markdown",
   "metadata": {},
   "source": [
    "<a id='6.2.1'><h3>6.2.1 Find One</h3></a>\n",
    "\n",
    "To find a particular text/data, use the `.find()` method and search based on its attributes, where the `attrs=` parameter takes in a dictionary.\n",
    "\n",
    "<img src=\"https://i.imgur.com/DbU2RgS.png\" width=500>\n"
   ]
  },
  {
   "cell_type": "code",
   "execution_count": null,
   "metadata": {},
   "outputs": [],
   "source": [
    "new_york_entry = new_york_soup.find('div', attrs={'class' : 'entry-content'}) \n",
    "print(new_york_entry)"
   ]
  },
  {
   "cell_type": "markdown",
   "metadata": {},
   "source": [
    "#### With A Smaller Soup, Find The First Text \n",
    "\n",
    "<img src=\"https://i.imgur.com/oqoKgPi.png\" width=450>"
   ]
  },
  {
   "cell_type": "code",
   "execution_count": null,
   "metadata": {},
   "outputs": [],
   "source": [
    "new_york_first_p = new_york_entry.find('p')\n",
    "print(new_york_first_p.text)\n",
    "print(type(new_york_first_p))"
   ]
  },
  {
   "cell_type": "markdown",
   "metadata": {},
   "source": [
    "<a id='6.2.2'><h3>6.2.2 Find All</h3></a>\n",
    "\n",
    "To find all instances of that tag, use the `.find_all()` method and search based on its tag. The returned result will be a `ResultSet`, where each item inside is a smaller soup. <b>This `ResultSet` can be looped like a list</b>.\n",
    "\n",
    "<img src=\"https://i.imgur.com/0Z3ccls.png\" width=450>"
   ]
  },
  {
   "cell_type": "code",
   "execution_count": null,
   "metadata": {},
   "outputs": [],
   "source": [
    "# Select all <h2> tags using find_all() and store it in title2_tags.\n",
    "#\n",
    "title2_tags = new_york_soup.find_all('h2')\n",
    "print(type(title2_tags))"
   ]
  },
  {
   "cell_type": "code",
   "execution_count": null,
   "metadata": {},
   "outputs": [],
   "source": [
    "for t2 in title2_tags:\n",
    "    print(t2.text)"
   ]
  },
  {
   "cell_type": "markdown",
   "metadata": {},
   "source": [
    "<a id='6.2.3'><h3>6.2.3 Find Attributes</h3></a>\n",
    "\n",
    "<img src=\"https://i.imgur.com/QQDyAB0.png\" width=450>"
   ]
  },
  {
   "cell_type": "code",
   "execution_count": null,
   "metadata": {},
   "outputs": [],
   "source": [
    "new_york_first_url = new_york_entry.find('a')\n",
    "print(new_york_first_url)\n",
    "print(new_york_first_url['href'])"
   ]
  },
  {
   "cell_type": "markdown",
   "metadata": {},
   "source": [
    "### Get All Booking Links\n",
    "\n",
    "To get the hyperlinks within a webpage, we need to identify the `<a>` tags as they have the `href` attributes which contains the hyperlinks. "
   ]
  },
  {
   "cell_type": "code",
   "execution_count": null,
   "metadata": {
    "scrolled": true
   },
   "outputs": [],
   "source": [
    "post_tag = new_york_soup.find('div', attrs={'class' : 'entry-content'})\n",
    "post_tag_a = post_tag.find_all('a')\n",
    "for tag in post_tag_a:\n",
    "    print(tag['href'])"
   ]
  },
  {
   "cell_type": "markdown",
   "metadata": {},
   "source": [
    "#### Modify the code below to store all Booking links."
   ]
  },
  {
   "cell_type": "code",
   "execution_count": null,
   "metadata": {},
   "outputs": [],
   "source": [
    "booking = []\n",
    "\n",
    "for tag in post_tag_a:\n",
    "    if 'booking' in tag['href']:\n",
    "        booking.append(tag['href'])\n",
    "print(booking)"
   ]
  },
  {
   "cell_type": "markdown",
   "metadata": {},
   "source": [
    "<a id='P1'><h2> <img src=\"https://cdn.shopify.com/s/files/1/1200/7374/products/book_aec28e76-52ec-44ab-bc01-41df1279c89f_550x825.png?v=1473897430\" width=25 align=\"left\"> <font color=\"darkorange\"> &nbsp; Practice I </font><font color=\"skyblue\"> * </font></h2></a>\n",
    "\n",
    "### Gather All Blog Posts Into A DataFrame\n",
    "\n",
    "Using `requests.get`, get the response HTML from [the same travel blog](https://bulma-low.now.sh/blogs/2). Parse it into a `BeautifulSoup` object as `soup`."
   ]
  },
  {
   "cell_type": "code",
   "execution_count": null,
   "metadata": {},
   "outputs": [],
   "source": [
    "url1 = \"https://bulma-low.now.sh/blogs/2\"\n",
    "# Use requests.get(url) to send a request to the server and get the contents. Store it in resp\n",
    "#\n",
    "resp = requests.get(url1)\n",
    "soup = BeautifulSoup(resp.text, 'html.parser')"
   ]
  },
  {
   "cell_type": "markdown",
   "metadata": {},
   "source": [
    "### Get Post Entry\n",
    "\n",
    "Find the `div` with the `class` of `entry-content`, then `prettify` the tag to view the HTML."
   ]
  },
  {
   "cell_type": "code",
   "execution_count": null,
   "metadata": {},
   "outputs": [],
   "source": [
    "entry_content = soup.find('div', attrs={'class' : 'entry-content'}) \n",
    "print(entry_content.prettify())"
   ]
  },
  {
   "cell_type": "markdown",
   "metadata": {},
   "source": [
    "### Get All Paragraphs\n",
    "\n",
    "Get all the `p`aragraphs in the post entry. Keep only the paragraphs with <b>at least 10 characters</b> and store them into a list `p_paras`.\n",
    "\n",
    "<i>Hint: You will need to use loop & .text method</i>"
   ]
  },
  {
   "cell_type": "code",
   "execution_count": null,
   "metadata": {},
   "outputs": [],
   "source": [
    "post_tag_paras = entry_content.find_all('p')\n",
    "p_paras = []\n",
    "for p in post_tag_paras:\n",
    "    if len(p.text) >= 10:\n",
    "        p_paras.append(p.text)\n",
    "print(len(p_paras))"
   ]
  },
  {
   "cell_type": "markdown",
   "metadata": {},
   "source": [
    "### Make DataFrame\n",
    "\n",
    "Using `p_paras` list, create a DataFrame, `p_paras_df` with just 1 column `text`. Use this [link](https://pandas.pydata.org/pandas-docs/stable/reference/api/pandas.DataFrame.html) if you need help for this part."
   ]
  },
  {
   "cell_type": "code",
   "execution_count": null,
   "metadata": {},
   "outputs": [],
   "source": [
    "import pandas as pd\n",
    "pd.set_option('display.max_colwidth', 500) # Show first 500 chracters.\n",
    "\n",
    "p_paras_df = pd.DataFrame(p_paras, columns=['text'])\n",
    "p_paras_df"
   ]
  },
  {
   "cell_type": "markdown",
   "metadata": {},
   "source": [
    "### Save DataFrame as CSV\n",
    "\n",
    "Using `to_csv()`, save the data as `blog_posts_long_paras.csv`."
   ]
  },
  {
   "cell_type": "code",
   "execution_count": null,
   "metadata": {},
   "outputs": [],
   "source": [
    "p_paras_df.to_csv('blog_posts_long_paras.csv')"
   ]
  },
  {
   "cell_type": "markdown",
   "metadata": {},
   "source": [
    "<center><h3> End of Practice I </h3></center>"
   ]
  },
  {
   "cell_type": "markdown",
   "metadata": {},
   "source": [
    "<a id='6.3'><h3>6.3 Scraping Tables</h3></a>\n",
    "\n",
    "### Scraping information from table into a DataFrame\n",
    "For simple website, we don't need BeautyfulSoup to scrape information from table. It can be done easily with `pandas` library, using `read_html()`.\n",
    "\n",
    "`read_html()` will return <b>a list of Dataframes</b>, we need to make use of indexing to get the first table\n",
    "\n",
    "The `attrs` parameter in `read_html()` works the same as BeautifulSoup. Thus, we can put `attrs={ key : value }`\n",
    "\n",
    "If you want to know more about `read_html()`, you can refer to <a href=\"https://pandas.pydata.org/pandas-docs/version/0.23.4/generated/pandas.read_html.html\">here</a>."
   ]
  },
  {
   "cell_type": "code",
   "execution_count": null,
   "metadata": {},
   "outputs": [],
   "source": [
    "output_tables = pd.read_html(\"https://bulma-low.now.sh/gaming/2\",attrs={\"class\":\"evenrowsgray wikitable sortable jquery-tablesorter\"})\n",
    "dota2_df = output_tables[0] # There is only 1 table in the webpage, thus we simply take it out and put as DataFrame\n",
    "dota2_df = dota2_df.dropna(axis=1) # Drop NaN columns\n",
    "dota2_df.head(10)"
   ]
  },
  {
   "cell_type": "markdown",
   "metadata": {},
   "source": [
    "### Save DataFrame as CSV\n",
    "\n",
    "Using the `dota2_df`, save it as a csv file with `to_csv()` with the name `dota2_data_table.csv`. "
   ]
  },
  {
   "cell_type": "code",
   "execution_count": null,
   "metadata": {},
   "outputs": [],
   "source": [
    "dota2_df.to_csv('dota2_data_table.csv')"
   ]
  },
  {
   "cell_type": "markdown",
   "metadata": {},
   "source": [
    "<a id='P2'><h2> <img src=\"https://cdn.shopify.com/s/files/1/1200/7374/products/book_aec28e76-52ec-44ab-bc01-41df1279c89f_550x825.png?v=1473897430\" width=25 align=\"left\"> <font color=\"darkorange\"> &nbsp; Practice II </font><font color=\"skyblue\"> * </font></h2></a>\n",
    "\n",
    "### PuBG Weapons\n",
    "\n",
    "You are given the following [URL](https://bulma-low.now.sh/gaming/2) to scrape. This contains a table representing DotA 2 heros, and the attributes of each hero. Follow the instructions to scrape the data in the table into a `pubg_df`. \n"
   ]
  },
  {
   "cell_type": "markdown",
   "metadata": {},
   "source": [
    "\n",
    "Using the `read_html()`, create the DataFrame as `pubg_df` and preview it.\n",
    "\n",
    "**Expected Output:**\n",
    "\n",
    "<img src=\"https://i.imgur.com/Yq0XPxl.png\" width=600>"
   ]
  },
  {
   "cell_type": "code",
   "execution_count": 8,
   "metadata": {},
   "outputs": [
    {
     "data": {
      "text/html": [
       "<div>\n",
       "<style scoped>\n",
       "    .dataframe tbody tr th:only-of-type {\n",
       "        vertical-align: middle;\n",
       "    }\n",
       "\n",
       "    .dataframe tbody tr th {\n",
       "        vertical-align: top;\n",
       "    }\n",
       "\n",
       "    .dataframe thead th {\n",
       "        text-align: right;\n",
       "    }\n",
       "</style>\n",
       "<table border=\"1\" class=\"dataframe\">\n",
       "  <thead>\n",
       "    <tr style=\"text-align: right;\">\n",
       "      <th></th>\n",
       "      <th>Image_x</th>\n",
       "      <th>Name</th>\n",
       "      <th>DMG</th>\n",
       "      <th>SPD</th>\n",
       "      <th>PWR</th>\n",
       "      <th>BDMG 0</th>\n",
       "      <th>BDMG 1</th>\n",
       "      <th>BDMG 2</th>\n",
       "      <th>BDMG 3</th>\n",
       "      <th>HDMG 0</th>\n",
       "      <th>...</th>\n",
       "      <th>Sway Pitch</th>\n",
       "      <th>Sway Yaw</th>\n",
       "      <th>Sway Movement</th>\n",
       "      <th>Crouch Mod_y</th>\n",
       "      <th>Prone Mod</th>\n",
       "      <th>DOF Range</th>\n",
       "      <th>DOF Near Range</th>\n",
       "      <th>DOF Power</th>\n",
       "      <th>Pickup Delay</th>\n",
       "      <th>Ready Delay</th>\n",
       "    </tr>\n",
       "  </thead>\n",
       "  <tbody>\n",
       "    <tr>\n",
       "      <th>0</th>\n",
       "      <td></td>\n",
       "      <td>AKM</td>\n",
       "      <td>49</td>\n",
       "      <td>715 m/s</td>\n",
       "      <td>10000</td>\n",
       "      <td>49</td>\n",
       "      <td>34.30</td>\n",
       "      <td>29.40</td>\n",
       "      <td>22</td>\n",
       "      <td>115.10</td>\n",
       "      <td>...</td>\n",
       "      <td>1.00</td>\n",
       "      <td>1.00</td>\n",
       "      <td>1.50</td>\n",
       "      <td>0.50</td>\n",
       "      <td>0.20</td>\n",
       "      <td>5.00</td>\n",
       "      <td>27.00</td>\n",
       "      <td>1.00</td>\n",
       "      <td>150 ms</td>\n",
       "      <td>400 ms</td>\n",
       "    </tr>\n",
       "    <tr>\n",
       "      <th>1</th>\n",
       "      <td></td>\n",
       "      <td>AUG A3</td>\n",
       "      <td>43</td>\n",
       "      <td>940 m/s</td>\n",
       "      <td>9000</td>\n",
       "      <td>43</td>\n",
       "      <td>30.10</td>\n",
       "      <td>25.80</td>\n",
       "      <td>19.30</td>\n",
       "      <td>101</td>\n",
       "      <td>...</td>\n",
       "      <td>1.00</td>\n",
       "      <td>1.00</td>\n",
       "      <td>1.50</td>\n",
       "      <td>0.50</td>\n",
       "      <td>0.20</td>\n",
       "      <td>35.00</td>\n",
       "      <td>50.00</td>\n",
       "      <td>1.00</td>\n",
       "      <td>0.15</td>\n",
       "      <td>0.50</td>\n",
       "    </tr>\n",
       "    <tr>\n",
       "      <th>2</th>\n",
       "      <td></td>\n",
       "      <td>AWM</td>\n",
       "      <td>105</td>\n",
       "      <td>945 m/s</td>\n",
       "      <td>40000</td>\n",
       "      <td>136.50</td>\n",
       "      <td>95.50</td>\n",
       "      <td>81.80</td>\n",
       "      <td>61.40</td>\n",
       "      <td>262.50</td>\n",
       "      <td>...</td>\n",
       "      <td>1.00</td>\n",
       "      <td>1.00</td>\n",
       "      <td>1.50</td>\n",
       "      <td>0.50</td>\n",
       "      <td>0.20</td>\n",
       "      <td>33.00</td>\n",
       "      <td>60.00</td>\n",
       "      <td>2.00</td>\n",
       "      <td>150 ms</td>\n",
       "      <td>500 ms</td>\n",
       "    </tr>\n",
       "    <tr>\n",
       "      <th>3</th>\n",
       "      <td></td>\n",
       "      <td>Beryl M762</td>\n",
       "      <td>47</td>\n",
       "      <td>715 m/s</td>\n",
       "      <td>10000</td>\n",
       "      <td>47</td>\n",
       "      <td>32.90</td>\n",
       "      <td>28.20</td>\n",
       "      <td>21.10</td>\n",
       "      <td>110.40</td>\n",
       "      <td>...</td>\n",
       "      <td></td>\n",
       "      <td></td>\n",
       "      <td></td>\n",
       "      <td></td>\n",
       "      <td></td>\n",
       "      <td></td>\n",
       "      <td></td>\n",
       "      <td></td>\n",
       "      <td></td>\n",
       "      <td></td>\n",
       "    </tr>\n",
       "    <tr>\n",
       "      <th>4</th>\n",
       "      <td></td>\n",
       "      <td>C4</td>\n",
       "      <td></td>\n",
       "      <td></td>\n",
       "      <td></td>\n",
       "      <td></td>\n",
       "      <td></td>\n",
       "      <td></td>\n",
       "      <td></td>\n",
       "      <td></td>\n",
       "      <td>...</td>\n",
       "      <td></td>\n",
       "      <td></td>\n",
       "      <td></td>\n",
       "      <td></td>\n",
       "      <td></td>\n",
       "      <td></td>\n",
       "      <td></td>\n",
       "      <td></td>\n",
       "      <td></td>\n",
       "      <td></td>\n",
       "    </tr>\n",
       "    <tr>\n",
       "      <th>5</th>\n",
       "      <td></td>\n",
       "      <td>Crossbow</td>\n",
       "      <td>105</td>\n",
       "      <td>160 m/s</td>\n",
       "      <td>8000</td>\n",
       "      <td>104.70</td>\n",
       "      <td>73.30</td>\n",
       "      <td>62.80</td>\n",
       "      <td>47.10</td>\n",
       "      <td>241</td>\n",
       "      <td>...</td>\n",
       "      <td>1.00</td>\n",
       "      <td>1.50</td>\n",
       "      <td>0.50</td>\n",
       "      <td>0.20</td>\n",
       "      <td>30.00</td>\n",
       "      <td>30.00</td>\n",
       "      <td>60.00</td>\n",
       "      <td>1.50</td>\n",
       "      <td>150ms</td>\n",
       "      <td>500ms</td>\n",
       "    </tr>\n",
       "    <tr>\n",
       "      <th>6</th>\n",
       "      <td></td>\n",
       "      <td>DP-28</td>\n",
       "      <td>51</td>\n",
       "      <td>715 m/s</td>\n",
       "      <td>10000</td>\n",
       "      <td>51</td>\n",
       "      <td>35.60</td>\n",
       "      <td>30.60</td>\n",
       "      <td>22.90</td>\n",
       "      <td>117.30</td>\n",
       "      <td>...</td>\n",
       "      <td>1.00</td>\n",
       "      <td>1.00</td>\n",
       "      <td>1.50</td>\n",
       "      <td>0.50</td>\n",
       "      <td>0.20</td>\n",
       "      <td>35.00</td>\n",
       "      <td>50.00</td>\n",
       "      <td>1.50</td>\n",
       "      <td>150 ms</td>\n",
       "      <td>400 ms</td>\n",
       "    </tr>\n",
       "    <tr>\n",
       "      <th>7</th>\n",
       "      <td></td>\n",
       "      <td>Deagle</td>\n",
       "      <td>62</td>\n",
       "      <td>450 m/s</td>\n",
       "      <td></td>\n",
       "      <td>62</td>\n",
       "      <td>43.40</td>\n",
       "      <td>37.10</td>\n",
       "      <td>27.90</td>\n",
       "      <td>124</td>\n",
       "      <td>...</td>\n",
       "      <td></td>\n",
       "      <td></td>\n",
       "      <td></td>\n",
       "      <td></td>\n",
       "      <td></td>\n",
       "      <td></td>\n",
       "      <td></td>\n",
       "      <td></td>\n",
       "      <td></td>\n",
       "      <td></td>\n",
       "    </tr>\n",
       "    <tr>\n",
       "      <th>8</th>\n",
       "      <td></td>\n",
       "      <td>Flare Gun</td>\n",
       "      <td></td>\n",
       "      <td></td>\n",
       "      <td></td>\n",
       "      <td></td>\n",
       "      <td></td>\n",
       "      <td></td>\n",
       "      <td></td>\n",
       "      <td></td>\n",
       "      <td>...</td>\n",
       "      <td></td>\n",
       "      <td></td>\n",
       "      <td></td>\n",
       "      <td></td>\n",
       "      <td></td>\n",
       "      <td></td>\n",
       "      <td></td>\n",
       "      <td></td>\n",
       "      <td></td>\n",
       "      <td></td>\n",
       "    </tr>\n",
       "    <tr>\n",
       "      <th>9</th>\n",
       "      <td></td>\n",
       "      <td>Frag Grenade</td>\n",
       "      <td></td>\n",
       "      <td></td>\n",
       "      <td></td>\n",
       "      <td>?</td>\n",
       "      <td>?</td>\n",
       "      <td>?</td>\n",
       "      <td>?</td>\n",
       "      <td></td>\n",
       "      <td>...</td>\n",
       "      <td></td>\n",
       "      <td></td>\n",
       "      <td></td>\n",
       "      <td></td>\n",
       "      <td></td>\n",
       "      <td></td>\n",
       "      <td></td>\n",
       "      <td></td>\n",
       "      <td></td>\n",
       "      <td></td>\n",
       "    </tr>\n",
       "  </tbody>\n",
       "</table>\n",
       "<p>10 rows × 63 columns</p>\n",
       "</div>"
      ],
      "text/plain": [
       "  Image_x          Name  DMG      SPD    PWR  BDMG 0 BDMG 1 BDMG 2 BDMG 3  \\\n",
       "0                   AKM   49  715 m/s  10000      49  34.30  29.40     22   \n",
       "1                AUG A3   43  940 m/s   9000      43  30.10  25.80  19.30   \n",
       "2                   AWM  105  945 m/s  40000  136.50  95.50  81.80  61.40   \n",
       "3            Beryl M762   47  715 m/s  10000      47  32.90  28.20  21.10   \n",
       "4                    C4                                                     \n",
       "5              Crossbow  105  160 m/s   8000  104.70  73.30  62.80  47.10   \n",
       "6                 DP-28   51  715 m/s  10000      51  35.60  30.60  22.90   \n",
       "7                Deagle   62  450 m/s             62  43.40  37.10  27.90   \n",
       "8             Flare Gun                                                     \n",
       "9          Frag Grenade                            ?      ?      ?      ?   \n",
       "\n",
       "   HDMG 0     ...     Sway Pitch Sway Yaw Sway Movement Crouch Mod_y  \\\n",
       "0  115.10     ...           1.00     1.00          1.50         0.50   \n",
       "1     101     ...           1.00     1.00          1.50         0.50   \n",
       "2  262.50     ...           1.00     1.00          1.50         0.50   \n",
       "3  110.40     ...                                                      \n",
       "4             ...                                                      \n",
       "5     241     ...           1.00     1.50          0.50         0.20   \n",
       "6  117.30     ...           1.00     1.00          1.50         0.50   \n",
       "7     124     ...                                                      \n",
       "8             ...                                                      \n",
       "9             ...                                                      \n",
       "\n",
       "  Prone Mod DOF Range DOF Near Range DOF Power Pickup Delay Ready Delay  \n",
       "0      0.20      5.00          27.00      1.00       150 ms      400 ms  \n",
       "1      0.20     35.00          50.00      1.00         0.15        0.50  \n",
       "2      0.20     33.00          60.00      2.00       150 ms      500 ms  \n",
       "3                                                                        \n",
       "4                                                                        \n",
       "5     30.00     30.00          60.00      1.50        150ms       500ms  \n",
       "6      0.20     35.00          50.00      1.50       150 ms      400 ms  \n",
       "7                                                                        \n",
       "8                                                                        \n",
       "9                                                                        \n",
       "\n",
       "[10 rows x 63 columns]"
      ]
     },
     "execution_count": 8,
     "metadata": {},
     "output_type": "execute_result"
    }
   ],
   "source": [
    "import pandas as pd\n",
    "p_url = 'https://bulma-low.now.sh/gaming/1'\n",
    "output_tables = pd.read_html(p_url,attrs={\"class\":\"wikitable sortable jquery-tablesorter\"})\n",
    "pubg_df = output_tables[0]\n",
    "for table in output_tables[1:]:\n",
    "    pubg_df = pubg_df.merge(table, on=\"Name\")\n",
    "pubg_df = pubg_df.fillna(\"\") # fill all NaN values with blank\n",
    "pubg_df.head(10)"
   ]
  },
  {
   "cell_type": "markdown",
   "metadata": {},
   "source": [
    "### Save DataFrame as CSV File\n",
    "\n",
    "Using `to_csv()`, save the file as `pubg_weapons.csv`."
   ]
  },
  {
   "cell_type": "code",
   "execution_count": null,
   "metadata": {},
   "outputs": [],
   "source": []
  },
  {
   "cell_type": "markdown",
   "metadata": {},
   "source": [
    "<center><h3> End of Practice II </h3></center>"
   ]
  },
  {
   "cell_type": "markdown",
   "metadata": {},
   "source": [
    "**Credits**\n",
    "- Source 1: [A 5 Days in New York Itinerary, Written with Love by an Ex-New Yorker](https://eternalarrival.com/travel-blog/north-america/usa/5-days-in-new-york-itinerary/) by Allison Green\n",
    "- Source 2: [Seoul Travel Guide for Food Lovers](https://migrationology.com/travel-guides/seoul-korea/) by Mark Wiens\n",
    "- Source 3: [Table of hero attributes](https://dota2.gamepedia.com/Table_of_hero_attributes), Dota 2 Wiki\n",
    "- Source 4: [Weapon Stats for PLAYERUNKNOWN's BATTLEGROUNDS](https://pubg.gamepedia.com/Weapon_Stats_for_PLAYERUNKNOWN%27s_BATTLEGROUNDS), PLAYERUKNOWN's BATTLEGROUNDS Wiki\n"
   ]
  }
 ],
 "metadata": {
  "kernelspec": {
   "display_name": "Python 3",
   "language": "python",
   "name": "python3"
  },
  "language_info": {
   "codemirror_mode": {
    "name": "ipython",
    "version": 3
   },
   "file_extension": ".py",
   "mimetype": "text/x-python",
   "name": "python",
   "nbconvert_exporter": "python",
   "pygments_lexer": "ipython3",
   "version": "3.6.5"
  }
 },
 "nbformat": 4,
 "nbformat_minor": 2
}
