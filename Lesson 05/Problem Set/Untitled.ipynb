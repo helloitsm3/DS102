{
 "cells": [
  {
   "cell_type": "markdown",
   "metadata": {},
   "source": [
    "<h1><center>NTU Undergraduate Population by Gender from 2016 - 2020"
   ]
  },
  {
   "cell_type": "markdown",
   "metadata": {},
   "source": [
    "## Team Members\n",
    "    1. Leng Wei Shao, Sean\n",
    "    2. Lim Zhen Lun, Bryan    \n",
    "<strong>Class</strong>: 24th May 2020, 7pm"
   ]
  },
  {
   "cell_type": "markdown",
   "metadata": {},
   "source": [
    "## Data Source\n",
    "   1. [Undergraduate Population by Gender AY 2019-20](https://www.ntu.edu.sg/AboutNTU/CorporateInfo/FactsFigures/Pages/Undergraduate-Population-for-AY2019-20.aspx)\n",
    "   2. [Undergraduate Population by Gender AY2018-19](https://www.ntu.edu.sg/AboutNTU/CorporateInfo/FactsFigures/Pages/Undergraduate-Population-by-Gender-AY2018-19.aspx)\n",
    "   3. [Undergraduate Population by Gender AY2017-18](https://www.ntu.edu.sg/AboutNTU/CorporateInfo/FactsFigures/Pages/Undergraduate-Population-by-Gender-AY2017-18.aspx)\n",
    "   4. [Undergraduate Population by Gender AY2016-17](https://www.ntu.edu.sg/AboutNTU/CorporateInfo/FactsFigures/Pages/Undergraduate-Population-by-Gender-AY2016-17.aspx)\n",
    "   \n",
    "<strong>Explaination</strong>: Data consists of male, female and total values for all full-time courses and faculties"
   ]
  },
  {
   "cell_type": "markdown",
   "metadata": {},
   "source": [
    "## Executive Summary\n",
    "\n",
    "We have looked into the student population of NTU from 2016-2020 and found several interesting results. First we have to clean the data as it was quite messy because it was compiled into a csv file with years and gender as columns so as to perform analysis on the data. Thereafter, we can then plot various graphs to find out the student demographic for a specific year/course or for courses over the years.\n",
    "We realised that there are courses that were discontinued and courses that has been added in the recent years, making some specific analysis not entirely accurate. Hence we have decided to analyse the data in a more general way. For example, we took data that shows the relevant values for total student population over the years to find out whether it has been increasing or decreasing."
   ]
  },
  {
   "cell_type": "markdown",
   "metadata": {},
   "source": [
    "## Introduction\n",
    "\n",
    "Were you ever curious about the student population of one of the few autonomous university of Singapore? Is it true that there are there are more guys than girls in certain courses such as computing and engineering? Are courses like computing getting more popular while the arts are on the decline?\n",
    "\n",
    "In this project, we will look into NTU to find out more about the student population over the years and how it differs across different courses. Singapore brands itself as an international education hub where the student population consists of students from both Singapore and foreign countries, we are curious if there are any patterns or conclusion that we can draw from the data. Through detailed analysis of of the student population, we can find out many interesting trends and facts about the entire cohort, such as the male-to-female ratio for different courses, and the percentage of the total population for different courses etc."
   ]
  },
  {
   "cell_type": "markdown",
   "metadata": {},
   "source": [
    "## Importing relevant packages"
   ]
  },
  {
   "cell_type": "code",
   "execution_count": 7,
   "metadata": {},
   "outputs": [],
   "source": [
    "%matplotlib inline\n",
    "import pandas as pd\n",
    "import numpy as np\n",
    "import matplotlib.pyplot as plt\n",
    "import re\n",
    "import requests"
   ]
  }
 ],
 "metadata": {
  "kernelspec": {
   "display_name": "Python 3",
   "language": "python",
   "name": "python3"
  },
  "language_info": {
   "codemirror_mode": {
    "name": "ipython",
    "version": 3
   },
   "file_extension": ".py",
   "mimetype": "text/x-python",
   "name": "python",
   "nbconvert_exporter": "python",
   "pygments_lexer": "ipython3",
   "version": "3.7.6"
  }
 },
 "nbformat": 4,
 "nbformat_minor": 4
}
