{
 "cells": [
  {
   "cell_type": "markdown",
   "metadata": {},
   "source": [
    "<h1><center>NTU Undergraduate Population by Gender from 2016 - 2020"
   ]
  },
  {
   "cell_type": "markdown",
   "metadata": {},
   "source": [
    "## Team Members\n",
    "    1. Leng Wei Shao, Sean\n",
    "    2. Lim Zhen Lun, Bryan    \n",
    "<strong>Class</strong>: 24th May 2020, 7pm"
   ]
  },
  {
   "cell_type": "markdown",
   "metadata": {},
   "source": [
    "## Data Source\n",
    "   1. [Undergraduate Population by Gender AY 2019-20](https://www.ntu.edu.sg/AboutNTU/CorporateInfo/FactsFigures/Pages/Undergraduate-Population-for-AY2019-20.aspx)\n",
    "   2. [Undergraduate Population by Gender AY2018-19](https://www.ntu.edu.sg/AboutNTU/CorporateInfo/FactsFigures/Pages/Undergraduate-Population-by-Gender-AY2018-19.aspx)\n",
    "   3. [Undergraduate Population by Gender AY2017-18](https://www.ntu.edu.sg/AboutNTU/CorporateInfo/FactsFigures/Pages/Undergraduate-Population-by-Gender-AY2017-18.aspx)\n",
    "   4. [Undergraduate Population by Gender AY2016-17](https://www.ntu.edu.sg/AboutNTU/CorporateInfo/FactsFigures/Pages/Undergraduate-Population-by-Gender-AY2016-17.aspx)\n",
    "   \n",
    "<strong>Explaination</strong>: Data consists of male, female and total values for all full-time courses and faculties"
   ]
  },
  {
   "cell_type": "markdown",
   "metadata": {},
   "source": [
    "## Executive Summary\n",
    "\n",
    "We have looked into the student population of NTU from 2016-2020 and found several interesting results. First we have to clean the data as it was quite messy because it was compiled into a csv file with years and gender as columns so as to perform analysis on the data. Thereafter, we can then plot various graphs to find out the student demographic for a specific year/course or for courses over the years.\n",
    "We realised that there are courses that were discontinued and courses that has been added in the recent years, making some specific analysis not entirely accurate. Hence we have decided to analyse the data in a more general way. For example, we took data that shows the relevant values for total student population over the years to find out whether it has been increasing or decreasing."
   ]
  },
  {
   "cell_type": "markdown",
   "metadata": {},
   "source": [
    "## Introduction\n",
    "\n",
    "Were you ever curious about the student population of one of the few autonomous university of Singapore? Is it true that there are there are more guys than girls in certain courses such as computing and engineering? Are courses like computing getting more popular while the arts are on the decline?\n",
    "\n",
    "In this project, we will look into NTU to find out more about the student population over the years and how it differs across different courses. Singapore brands itself as an international education hub where the student population consists of students from both Singapore and foreign countries, we are curious if there are any patterns or conclusion that we can draw from the data. Through detailed analysis of of the student population, we can find out many interesting trends and facts about the entire cohort, such as the male-to-female ratio for different courses, and the percentage of the total population for different courses etc."
   ]
  },
  {
   "cell_type": "markdown",
   "metadata": {},
   "source": [
    "## Importing relevant packages"
   ]
  },
  {
   "cell_type": "code",
   "execution_count": 17,
   "metadata": {},
   "outputs": [],
   "source": [
    "%matplotlib inline\n",
    "import pandas as pd\n",
    "import numpy as np\n",
    "import matplotlib.pyplot as plt\n",
    "import re\n",
    "import requests \n",
    "import warnings\n",
    "from bs4 import BeautifulSoup\n",
    "\n",
    "warnings.filterwarnings('ignore')"
   ]
  },
  {
   "cell_type": "markdown",
   "metadata": {},
   "source": [
    "## Scrapping for Data and saving to CSV"
   ]
  },
  {
   "cell_type": "code",
   "execution_count": 166,
   "metadata": {},
   "outputs": [
    {
     "ename": "TypeError",
     "evalue": "list indices must be integers or slices, not str",
     "output_type": "error",
     "traceback": [
      "\u001b[1;31m---------------------------------------------------------------------------\u001b[0m",
      "\u001b[1;31mTypeError\u001b[0m                                 Traceback (most recent call last)",
      "\u001b[1;32m<ipython-input-166-205c945e6988>\u001b[0m in \u001b[0;36m<module>\u001b[1;34m\u001b[0m\n\u001b[0;32m     37\u001b[0m \u001b[0mall_data1\u001b[0m \u001b[1;33m=\u001b[0m \u001b[1;33m[\u001b[0m\u001b[1;33m]\u001b[0m\u001b[1;33m\u001b[0m\u001b[1;33m\u001b[0m\u001b[0m\n\u001b[0;32m     38\u001b[0m \u001b[1;32mfor\u001b[0m \u001b[0mname\u001b[0m\u001b[1;33m,\u001b[0m \u001b[0murl\u001b[0m \u001b[1;32min\u001b[0m \u001b[0mdata_source\u001b[0m\u001b[1;33m.\u001b[0m\u001b[0mitems\u001b[0m\u001b[1;33m(\u001b[0m\u001b[1;33m)\u001b[0m\u001b[1;33m:\u001b[0m\u001b[1;33m\u001b[0m\u001b[1;33m\u001b[0m\u001b[0m\n\u001b[1;32m---> 39\u001b[1;33m     \u001b[0mall_data1\u001b[0m\u001b[1;33m[\u001b[0m\u001b[0mname\u001b[0m\u001b[1;33m]\u001b[0m \u001b[1;33m=\u001b[0m \u001b[0mall_data1\u001b[0m\u001b[1;33m.\u001b[0m\u001b[0mappend\u001b[0m\u001b[1;33m(\u001b[0m\u001b[0mscrape_website\u001b[0m\u001b[1;33m(\u001b[0m\u001b[0murl\u001b[0m\u001b[1;33m)\u001b[0m\u001b[1;33m)\u001b[0m\u001b[1;33m\u001b[0m\u001b[1;33m\u001b[0m\u001b[0m\n\u001b[0m\u001b[0;32m     40\u001b[0m \u001b[1;33m\u001b[0m\u001b[0m\n\u001b[0;32m     41\u001b[0m \u001b[0mprint\u001b[0m\u001b[1;33m(\u001b[0m\u001b[0mall_data1\u001b[0m\u001b[1;33m)\u001b[0m\u001b[1;33m\u001b[0m\u001b[1;33m\u001b[0m\u001b[0m\n",
      "\u001b[1;31mTypeError\u001b[0m: list indices must be integers or slices, not str"
     ]
    }
   ],
   "source": [
    "data_source = {\n",
    "    \"AY2019-20\": \"https://www.ntu.edu.sg/AboutNTU/CorporateInfo/FactsFigures/Pages/Undergraduate-Population-for-AY2019-20.aspx\",\n",
    "    \"AY2018-19\": \"https://www.ntu.edu.sg/AboutNTU/CorporateInfo/FactsFigures/Pages/Undergraduate-Population-by-Gender-AY2018-19.aspx\",\n",
    "    \"AY2017-18\": \"https://www.ntu.edu.sg/AboutNTU/CorporateInfo/FactsFigures/Pages/Undergraduate-Population-by-Gender-AY2017-18.aspx\",\n",
    "    \"AY2016-17\": \"https://www.ntu.edu.sg/AboutNTU/CorporateInfo/FactsFigures/Pages/Undergraduate-Population-by-Gender-AY2016-17.aspx\"\n",
    "}\n",
    "\n",
    "def scrape_website(url):\n",
    "    scraped_data = {\n",
    "        \"programme\": [],\n",
    "        \"male\": [],\n",
    "        \"female\": [],\n",
    "        \"total\": []\n",
    "    }\n",
    "    \n",
    "    website_url = requests.get(url).text\n",
    "    soup = BeautifulSoup(website_url, \"html\")\n",
    "\n",
    "    table = soup.find(\"table\", {\"class\": \"ms-rteTable-1\"})\n",
    "    table_row = table.find_all(\"tr\")\n",
    "\n",
    "    for i in table_row[2:-1]:        \n",
    "        all_data = i.find_all(\"td\")\n",
    "        \n",
    "        if len(all_data) > 0:\n",
    "            datas = [datas.text for datas in all_data]\n",
    "            \n",
    "            scraped_data[\"programme\"].append(re.sub('[*^\\u200b]', '', datas[0]))\n",
    "            scraped_data[\"male\"].append(re.sub('[*^\\u200b]', '', datas[1]))\n",
    "            scraped_data[\"female\"].append(re.sub('[*^\\u200b]', '', datas[2]))\n",
    "            scraped_data[\"total\"].append(re.sub('[*^\\u200b]', '', datas[3]))\n",
    "            \n",
    "    return scraped_data\n",
    "            \n",
    "scrape_website(data_source[\"AY2019-20\"])\n",
    "\n",
    "all_data1 = []\n",
    "for name, url in data_source.items():\n",
    "    test = {}\n",
    "    test[name] = all_data1.append(scrape_website(url))\n",
    "    \n",
    "print(all_data1)"
   ]
  }
 ],
 "metadata": {
  "kernelspec": {
   "display_name": "Python 3",
   "language": "python",
   "name": "python3"
  },
  "language_info": {
   "codemirror_mode": {
    "name": "ipython",
    "version": 3
   },
   "file_extension": ".py",
   "mimetype": "text/x-python",
   "name": "python",
   "nbconvert_exporter": "python",
   "pygments_lexer": "ipython3",
   "version": "3.7.6"
  }
 },
 "nbformat": 4,
 "nbformat_minor": 4
}
