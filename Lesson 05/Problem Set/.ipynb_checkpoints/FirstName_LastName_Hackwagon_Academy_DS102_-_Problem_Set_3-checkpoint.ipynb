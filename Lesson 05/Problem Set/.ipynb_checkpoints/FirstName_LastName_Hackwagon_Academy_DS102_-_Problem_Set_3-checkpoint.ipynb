{
 "cells": [
  {
   "cell_type": "markdown",
   "metadata": {},
   "source": [
    "<img src=\"https://i2.wp.com/hackwagon.com/wp-content/uploads/2017/02/Logo-Web-Export.png?ssl=1\" width=200/>\n",
    "\n",
    "<h1>Hackwagon Academy DS102 - Problem Set 3</h1>\n",
    "<hr>\n",
    "\n",
    "This Problem Set consists of 20 questions, with each correct answer to be awarded 1 mark, totalling up to 20 marks.\n",
    "\n",
    "If you have any questions to the Problem Set, feel free to send a message to your TAs or Instructors in the Telegram chat. You are encouraged to also discuss the problem sets within your own groups.\n",
    "\n",
    "Attempt but minor syntax errors are awarded half the mark."
   ]
  },
  {
   "cell_type": "code",
   "execution_count": 1,
   "metadata": {},
   "outputs": [],
   "source": [
    "#Before you start, please perform the following 2 steps:\n",
    "#1. Rename the file to FirstName_LastName Hackwagon Academy DS102 - Problem Set 3 e.g. John_Doe Hackwagon Academy DS102 - Problem Set 1\n",
    "\n",
    "#2. Fill in your details here:\n",
    "#Name                    : ____LENG WEI SHAO SEAN____\n",
    "\n",
    "#Start of Course Class(Edit accordingly): __24 May 2020 7.00pm____\n",
    "\n",
    "# FOR TA/INSTRUCTOR \n",
    "# Total Marks:  / 20"
   ]
  },
  {
   "cell_type": "code",
   "execution_count": 2,
   "metadata": {},
   "outputs": [],
   "source": [
    "import warnings\n",
    "warnings.filterwarnings('ignore')"
   ]
  },
  {
   "cell_type": "markdown",
   "metadata": {},
   "source": [
    "#### Credits \n",
    "\n",
    "This problem set is inspired by the [Lending Club Loan Data](https://www.kaggle.com/wendykan/lending-club-loan-data). "
   ]
  },
  {
   "cell_type": "markdown",
   "metadata": {},
   "source": [
    "<img src=\"https://d1ic4altzx8ueg.cloudfront.net/niche-builder/5cb94cef96518.png\" width=300>\n",
    "\n",
    "## Context \n",
    "\n",
    "LendingClub is a US peer-to-peer lending company, headquartered in San Francisco, California. It was the first peer-to-peer lender to register its offerings as securities with the Securities and Exchange Commission (SEC), and to offer loan trading on a secondary market. \n",
    "\n",
    "Your first project is to help LendingClub prepare a prediction model to help them detect loan defaulters. Having already conducted the sufficient exploratory data analysis, your project manager, Silver, wants you to to prepare several machine learning models. Using the dataset which you have preprocessed, `loans_transformed-200k.csv`, you will have to create both <b>supervised and unsupervised machine learning models</b>. Additionally, the `all_loan_desc.csv` dataset prepared for you to prepare a model on the loans descriptions. \n",
    "\n",
    "There are a total of 4 parts to this problem set:\n",
    "\n",
    "1. Naive Bayes Classifier - 8 marks\n",
    "2. K-Means Clustering - 7 marks\n",
    "3. Decision Tree Classifier - 3 marks\n",
    "4. Performance Measures - 2 marks"
   ]
  },
  {
   "cell_type": "markdown",
   "metadata": {},
   "source": [
    "## Naive Bayes Classifier - 8 marks\n",
    "\n",
    "Another team has prepared for you all of the descriptions within the loans dataset. This dataset has filtered for you rows with descriptions and the target variable the loan status. Your task is to clean it further and use <b>Naive Bayes Classification</b> technique to develop a model for detecting loan defaulters."
   ]
  },
  {
   "cell_type": "markdown",
   "metadata": {},
   "source": [
    "### Open Loans Decription File \n",
    "\n",
    "Open the file `all_loan_desc.csv` and store it as `all_desc_df`."
   ]
  },
  {
   "cell_type": "code",
   "execution_count": 3,
   "metadata": {
    "scrolled": true
   },
   "outputs": [
    {
     "data": {
      "text/html": [
       "<div>\n",
       "<style scoped>\n",
       "    .dataframe tbody tr th:only-of-type {\n",
       "        vertical-align: middle;\n",
       "    }\n",
       "\n",
       "    .dataframe tbody tr th {\n",
       "        vertical-align: top;\n",
       "    }\n",
       "\n",
       "    .dataframe thead th {\n",
       "        text-align: right;\n",
       "    }\n",
       "</style>\n",
       "<table border=\"1\" class=\"dataframe\">\n",
       "  <thead>\n",
       "    <tr style=\"text-align: right;\">\n",
       "      <th></th>\n",
       "      <th>desc</th>\n",
       "      <th>loan_status</th>\n",
       "    </tr>\n",
       "  </thead>\n",
       "  <tbody>\n",
       "    <tr>\n",
       "      <th>0</th>\n",
       "      <td></td>\n",
       "      <td>Charged Off</td>\n",
       "    </tr>\n",
       "    <tr>\n",
       "      <th>1</th>\n",
       "      <td></td>\n",
       "      <td>Fully Paid</td>\n",
       "    </tr>\n",
       "    <tr>\n",
       "      <th>2</th>\n",
       "      <td>I currently have a loan out with CashCall. The...</td>\n",
       "      <td>Fully Paid</td>\n",
       "    </tr>\n",
       "    <tr>\n",
       "      <th>3</th>\n",
       "      <td>Consolidate debt</td>\n",
       "      <td>Current</td>\n",
       "    </tr>\n",
       "    <tr>\n",
       "      <th>4</th>\n",
       "      <td>This loan will be used solely to consolidate c...</td>\n",
       "      <td>Fully Paid</td>\n",
       "    </tr>\n",
       "  </tbody>\n",
       "</table>\n",
       "</div>"
      ],
      "text/plain": [
       "                                                desc  loan_status\n",
       "0                                                     Charged Off\n",
       "1                                                      Fully Paid\n",
       "2  I currently have a loan out with CashCall. The...   Fully Paid\n",
       "3                                   Consolidate debt      Current\n",
       "4  This loan will be used solely to consolidate c...   Fully Paid"
      ]
     },
     "execution_count": 3,
     "metadata": {},
     "output_type": "execute_result"
    }
   ],
   "source": [
    "import pandas as pd\n",
    "\n",
    "all_desc_df = pd.read_csv(\"all_loan_desc.csv\")\n",
    "all_desc_df.head()"
   ]
  },
  {
   "cell_type": "markdown",
   "metadata": {},
   "source": [
    "### Q1. Integer Encoding\n",
    "\n",
    "With the target variable `loan_status`, create a new column called `target`, where if the value contains the word `Charged Off`, `Status:Charged Off` or `Default`, it will be `1`; else it will be `0`. Afterwhich, reduce the dataframe to just the `desc` and `target` columns. \n",
    "\n",
    "**Expected Output:**\n",
    "\n",
    "<img src=\"https://i.imgur.com/ztyxJh0.png\">"
   ]
  },
  {
   "cell_type": "code",
   "execution_count": 4,
   "metadata": {},
   "outputs": [
    {
     "data": {
      "text/html": [
       "<div>\n",
       "<style scoped>\n",
       "    .dataframe tbody tr th:only-of-type {\n",
       "        vertical-align: middle;\n",
       "    }\n",
       "\n",
       "    .dataframe tbody tr th {\n",
       "        vertical-align: top;\n",
       "    }\n",
       "\n",
       "    .dataframe thead th {\n",
       "        text-align: right;\n",
       "    }\n",
       "</style>\n",
       "<table border=\"1\" class=\"dataframe\">\n",
       "  <thead>\n",
       "    <tr style=\"text-align: right;\">\n",
       "      <th></th>\n",
       "      <th>desc</th>\n",
       "      <th>target</th>\n",
       "    </tr>\n",
       "  </thead>\n",
       "  <tbody>\n",
       "    <tr>\n",
       "      <th>0</th>\n",
       "      <td></td>\n",
       "      <td>1</td>\n",
       "    </tr>\n",
       "    <tr>\n",
       "      <th>1</th>\n",
       "      <td></td>\n",
       "      <td>0</td>\n",
       "    </tr>\n",
       "    <tr>\n",
       "      <th>2</th>\n",
       "      <td>I currently have a loan out with CashCall. The...</td>\n",
       "      <td>0</td>\n",
       "    </tr>\n",
       "    <tr>\n",
       "      <th>3</th>\n",
       "      <td>Consolidate debt</td>\n",
       "      <td>0</td>\n",
       "    </tr>\n",
       "    <tr>\n",
       "      <th>4</th>\n",
       "      <td>This loan will be used solely to consolidate c...</td>\n",
       "      <td>0</td>\n",
       "    </tr>\n",
       "  </tbody>\n",
       "</table>\n",
       "</div>"
      ],
      "text/plain": [
       "                                                desc  target\n",
       "0                                                          1\n",
       "1                                                          0\n",
       "2  I currently have a loan out with CashCall. The...       0\n",
       "3                                   Consolidate debt       0\n",
       "4  This loan will be used solely to consolidate c...       0"
      ]
     },
     "execution_count": 4,
     "metadata": {},
     "output_type": "execute_result"
    }
   ],
   "source": [
    "def int_encode(input):\n",
    "    return 1 if (\"Charged\" in str(input) or \"Default\" in str(input)) else 0\n",
    "\n",
    "all_desc_df[\"target\"] = all_desc_df[\"loan_status\"].apply(int_encode)\n",
    "all_desc_df2 = all_desc_df[[\"desc\", \"target\"]]\n",
    "all_desc_df2.head()"
   ]
  },
  {
   "cell_type": "code",
   "execution_count": 5,
   "metadata": {},
   "outputs": [],
   "source": [
    "## TA/INSTRUCTOR ONLY\n",
    "## MARK AWARDED: /1"
   ]
  },
  {
   "cell_type": "markdown",
   "metadata": {},
   "source": [
    "### Q2. Simple Cleaning\n",
    "\n",
    "To ensure that your model is efficient, conduct simple cleaning on each description where the descriptions:\n",
    "\n",
    "1. Only contains alphanumeric characters (<i>hint: use regular expression</i>)\n",
    "2. Entirely lowercase\n",
    "3. Without trailing or leading spaces \n",
    "4. Not empty strings (<i>hint: use filter</i>)\n",
    "\n",
    "**Expected Output:**\n",
    "\n",
    "<img src=\"https://i.imgur.com/pbLsgSa.png\">"
   ]
  },
  {
   "cell_type": "code",
   "execution_count": 6,
   "metadata": {},
   "outputs": [
    {
     "data": {
      "text/html": [
       "<div>\n",
       "<style scoped>\n",
       "    .dataframe tbody tr th:only-of-type {\n",
       "        vertical-align: middle;\n",
       "    }\n",
       "\n",
       "    .dataframe tbody tr th {\n",
       "        vertical-align: top;\n",
       "    }\n",
       "\n",
       "    .dataframe thead th {\n",
       "        text-align: right;\n",
       "    }\n",
       "</style>\n",
       "<table border=\"1\" class=\"dataframe\">\n",
       "  <thead>\n",
       "    <tr style=\"text-align: right;\">\n",
       "      <th></th>\n",
       "      <th>desc</th>\n",
       "      <th>target</th>\n",
       "    </tr>\n",
       "  </thead>\n",
       "  <tbody>\n",
       "    <tr>\n",
       "      <th>2</th>\n",
       "      <td>i currently have a loan out with cashcall the ...</td>\n",
       "      <td>0</td>\n",
       "    </tr>\n",
       "    <tr>\n",
       "      <th>3</th>\n",
       "      <td>consolidate debt</td>\n",
       "      <td>0</td>\n",
       "    </tr>\n",
       "    <tr>\n",
       "      <th>4</th>\n",
       "      <td>this loan will be used solely to consolidate c...</td>\n",
       "      <td>0</td>\n",
       "    </tr>\n",
       "    <tr>\n",
       "      <th>5</th>\n",
       "      <td>i have recently purchased and built a new home...</td>\n",
       "      <td>0</td>\n",
       "    </tr>\n",
       "    <tr>\n",
       "      <th>6</th>\n",
       "      <td>temporary cash flow challenges would like this...</td>\n",
       "      <td>0</td>\n",
       "    </tr>\n",
       "  </tbody>\n",
       "</table>\n",
       "</div>"
      ],
      "text/plain": [
       "                                                desc  target\n",
       "2  i currently have a loan out with cashcall the ...       0\n",
       "3                                   consolidate debt       0\n",
       "4  this loan will be used solely to consolidate c...       0\n",
       "5  i have recently purchased and built a new home...       0\n",
       "6  temporary cash flow challenges would like this...       0"
      ]
     },
     "execution_count": 6,
     "metadata": {},
     "output_type": "execute_result"
    }
   ],
   "source": [
    "import re\n",
    "\n",
    "notEmpty = all_desc_df2[\"desc\"] != \" \"\n",
    "all_desc_df2[\"desc\"] = all_desc_df2[\"desc\"].apply(lambda x: x.lower())\n",
    "all_desc_df2[\"desc\"] = all_desc_df2[\"desc\"].apply(lambda x : re.sub(r'\\W+', ' ', x))\n",
    "\n",
    "new_desc_df = all_desc_df2[notEmpty]\n",
    "new_desc_df.head()"
   ]
  },
  {
   "cell_type": "code",
   "execution_count": 7,
   "metadata": {},
   "outputs": [],
   "source": [
    "## TA/INSTRUCTOR ONLY\n",
    "## MARK AWARDED: /1"
   ]
  },
  {
   "cell_type": "markdown",
   "metadata": {},
   "source": [
    "### Q3. Tokenize and Stem Words\n",
    "\n",
    "For simplicity and lower processing time, you decided to use `PorterStemmer` to stem each word. As such, you would need to reduce each description to their root form. \n",
    "\n",
    "Steps: \n",
    "\n",
    "1. With the `nltk` library, use `word_tokenize` to tokenize each description (a list of words)\n",
    "2. Use the `PorterStemmer` to stem each word (using a for-loop). \n",
    "3. Join up the stemmed words as a string.\n",
    "\n",
    "All steps above must be done <b>within the same function.</b> Your function should return a string.\n",
    "\n",
    "Using the `apply()` method, create a new column called `desc_stem` to the `all_desc_df`. \n",
    "\n",
    "<b>Note: This part might take awhile to run (an average of 3 minutes).</b>\n",
    "\n",
    "**Expected Output:**\n",
    "\n",
    "<img src=\"https://i.imgur.com/XXDqd3i.png\">"
   ]
  },
  {
   "cell_type": "code",
   "execution_count": 8,
   "metadata": {},
   "outputs": [
    {
     "data": {
      "text/html": [
       "<div>\n",
       "<style scoped>\n",
       "    .dataframe tbody tr th:only-of-type {\n",
       "        vertical-align: middle;\n",
       "    }\n",
       "\n",
       "    .dataframe tbody tr th {\n",
       "        vertical-align: top;\n",
       "    }\n",
       "\n",
       "    .dataframe thead th {\n",
       "        text-align: right;\n",
       "    }\n",
       "</style>\n",
       "<table border=\"1\" class=\"dataframe\">\n",
       "  <thead>\n",
       "    <tr style=\"text-align: right;\">\n",
       "      <th></th>\n",
       "      <th>desc</th>\n",
       "      <th>target</th>\n",
       "      <th>desc_stem</th>\n",
       "    </tr>\n",
       "  </thead>\n",
       "  <tbody>\n",
       "    <tr>\n",
       "      <th>2</th>\n",
       "      <td>i currently have a loan out with cashcall the ...</td>\n",
       "      <td>0</td>\n",
       "      <td>i current have a loan out with cashcal the int...</td>\n",
       "    </tr>\n",
       "    <tr>\n",
       "      <th>3</th>\n",
       "      <td>consolidate debt</td>\n",
       "      <td>0</td>\n",
       "      <td>consolid debt</td>\n",
       "    </tr>\n",
       "    <tr>\n",
       "      <th>4</th>\n",
       "      <td>this loan will be used solely to consolidate c...</td>\n",
       "      <td>0</td>\n",
       "      <td>thi loan will be use sole to consolid credit c...</td>\n",
       "    </tr>\n",
       "    <tr>\n",
       "      <th>5</th>\n",
       "      <td>i have recently purchased and built a new home...</td>\n",
       "      <td>0</td>\n",
       "      <td>i have recent purchas and built a new home tha...</td>\n",
       "    </tr>\n",
       "    <tr>\n",
       "      <th>6</th>\n",
       "      <td>temporary cash flow challenges would like this...</td>\n",
       "      <td>0</td>\n",
       "      <td>temporari cash flow challeng would like thi lo...</td>\n",
       "    </tr>\n",
       "    <tr>\n",
       "      <th>...</th>\n",
       "      <td>...</td>\n",
       "      <td>...</td>\n",
       "      <td>...</td>\n",
       "    </tr>\n",
       "    <tr>\n",
       "      <th>126062</th>\n",
       "      <td>i am getting married on july 28 and will need ...</td>\n",
       "      <td>0</td>\n",
       "      <td>i am get marri on juli 28 and will need anoth ...</td>\n",
       "    </tr>\n",
       "    <tr>\n",
       "      <th>126063</th>\n",
       "      <td>i would like to buy some new furniture in my a...</td>\n",
       "      <td>0</td>\n",
       "      <td>i would like to buy some new furnitur in my ap...</td>\n",
       "    </tr>\n",
       "    <tr>\n",
       "      <th>126064</th>\n",
       "      <td>i need to pay 2 100 for fixing my volvo any he...</td>\n",
       "      <td>0</td>\n",
       "      <td>i need to pay 2 100 for fix my volvo ani help ...</td>\n",
       "    </tr>\n",
       "    <tr>\n",
       "      <th>126065</th>\n",
       "      <td>hi i m buying a used car anybody on facebook w...</td>\n",
       "      <td>0</td>\n",
       "      <td>hi i m buy a use car anybodi on facebook want ...</td>\n",
       "    </tr>\n",
       "    <tr>\n",
       "      <th>126066</th>\n",
       "      <td>i need to make several improvements around the...</td>\n",
       "      <td>0</td>\n",
       "      <td>i need to make sever improv around the hous fi...</td>\n",
       "    </tr>\n",
       "  </tbody>\n",
       "</table>\n",
       "<p>125815 rows × 3 columns</p>\n",
       "</div>"
      ],
      "text/plain": [
       "                                                     desc  target  \\\n",
       "2       i currently have a loan out with cashcall the ...       0   \n",
       "3                                        consolidate debt       0   \n",
       "4       this loan will be used solely to consolidate c...       0   \n",
       "5       i have recently purchased and built a new home...       0   \n",
       "6       temporary cash flow challenges would like this...       0   \n",
       "...                                                   ...     ...   \n",
       "126062  i am getting married on july 28 and will need ...       0   \n",
       "126063  i would like to buy some new furniture in my a...       0   \n",
       "126064  i need to pay 2 100 for fixing my volvo any he...       0   \n",
       "126065  hi i m buying a used car anybody on facebook w...       0   \n",
       "126066  i need to make several improvements around the...       0   \n",
       "\n",
       "                                                desc_stem  \n",
       "2       i current have a loan out with cashcal the int...  \n",
       "3                                           consolid debt  \n",
       "4       thi loan will be use sole to consolid credit c...  \n",
       "5       i have recent purchas and built a new home tha...  \n",
       "6       temporari cash flow challeng would like thi lo...  \n",
       "...                                                   ...  \n",
       "126062  i am get marri on juli 28 and will need anoth ...  \n",
       "126063  i would like to buy some new furnitur in my ap...  \n",
       "126064  i need to pay 2 100 for fix my volvo ani help ...  \n",
       "126065  hi i m buy a use car anybodi on facebook want ...  \n",
       "126066  i need to make sever improv around the hous fi...  \n",
       "\n",
       "[125815 rows x 3 columns]"
      ]
     },
     "execution_count": 8,
     "metadata": {},
     "output_type": "execute_result"
    }
   ],
   "source": [
    "from nltk.tokenize import word_tokenize\n",
    "from nltk.stem import PorterStemmer\n",
    "\n",
    "stemmer = PorterStemmer()\n",
    "\n",
    "desc_list = new_desc_df[\"desc\"].tolist()\n",
    "tokenized = []\n",
    "stemmed = []\n",
    "word_list = []\n",
    "\n",
    "for i in desc_list:\n",
    "    tokenized.append(word_tokenize(i))\n",
    "    \n",
    "for token in tokenized:\n",
    "    stem_token = []\n",
    "    for i in token:\n",
    "        stem_token.append(stemmer.stem(i))\n",
    "    stemmed.append(stem_token)\n",
    "\n",
    "for i in stemmed:\n",
    "    s = \" \"\n",
    "    words = s.join(i)\n",
    "    word_list.append(words)\n",
    "\n",
    "new_desc_df[\"desc_stem\"] = word_list\n",
    "new_desc_df"
   ]
  },
  {
   "cell_type": "code",
   "execution_count": 9,
   "metadata": {},
   "outputs": [],
   "source": [
    "## TA/INSTRUCTOR ONLY\n",
    "## MARK AWARDED: /1"
   ]
  },
  {
   "cell_type": "markdown",
   "metadata": {},
   "source": [
    "### Q4. Stop Words Removal\n",
    "\n",
    "To keep only relevant words, you will remove all stopwords from each description by using the `stopwords` corpus to remove them. \n",
    "\n",
    "Steps: \n",
    "\n",
    "1. Create the list of stopwords in `english`\n",
    "2. Tokenize the each description\n",
    "3. Check for stopwords \n",
    "4. Join up non stopwords as a string\n",
    "\n",
    "All steps, except step 1, must be done <b>within the same function.</b> Your function should return a string.\n",
    "\n",
    "Using the `apply()` method, create a new column called `desc_no_stopwords` to the `all_desc_df`. \n",
    "\n",
    "<b>Note: This part might take awhile to run (an average of 2 minutes).</b>\n",
    "\n",
    "**Expected Output:**\n",
    "\n",
    "<img src=\"https://i.imgur.com/1fED4Uu.png\">"
   ]
  },
  {
   "cell_type": "code",
   "execution_count": 11,
   "metadata": {},
   "outputs": [
    {
     "data": {
      "text/html": [
       "<div>\n",
       "<style scoped>\n",
       "    .dataframe tbody tr th:only-of-type {\n",
       "        vertical-align: middle;\n",
       "    }\n",
       "\n",
       "    .dataframe tbody tr th {\n",
       "        vertical-align: top;\n",
       "    }\n",
       "\n",
       "    .dataframe thead th {\n",
       "        text-align: right;\n",
       "    }\n",
       "</style>\n",
       "<table border=\"1\" class=\"dataframe\">\n",
       "  <thead>\n",
       "    <tr style=\"text-align: right;\">\n",
       "      <th></th>\n",
       "      <th>desc</th>\n",
       "      <th>target</th>\n",
       "      <th>desc_stem</th>\n",
       "      <th>desc_cleaned</th>\n",
       "    </tr>\n",
       "  </thead>\n",
       "  <tbody>\n",
       "    <tr>\n",
       "      <th>2</th>\n",
       "      <td>i currently have a loan out with cashcall the ...</td>\n",
       "      <td>0</td>\n",
       "      <td>i current have a loan out with cashcal the int...</td>\n",
       "      <td>current loan cashcal interest rate 96 time too...</td>\n",
       "    </tr>\n",
       "    <tr>\n",
       "      <th>3</th>\n",
       "      <td>consolidate debt</td>\n",
       "      <td>0</td>\n",
       "      <td>consolid debt</td>\n",
       "      <td>consolid debt</td>\n",
       "    </tr>\n",
       "    <tr>\n",
       "      <th>4</th>\n",
       "      <td>this loan will be used solely to consolidate c...</td>\n",
       "      <td>0</td>\n",
       "      <td>thi loan will be use sole to consolid credit c...</td>\n",
       "      <td>loan use sole consolid credit card debt accru ...</td>\n",
       "    </tr>\n",
       "    <tr>\n",
       "      <th>5</th>\n",
       "      <td>i have recently purchased and built a new home...</td>\n",
       "      <td>0</td>\n",
       "      <td>i have recent purchas and built a new home tha...</td>\n",
       "      <td>recent purchas built new home alway dream woul...</td>\n",
       "    </tr>\n",
       "    <tr>\n",
       "      <th>6</th>\n",
       "      <td>temporary cash flow challenges would like this...</td>\n",
       "      <td>0</td>\n",
       "      <td>temporari cash flow challeng would like thi lo...</td>\n",
       "      <td>temporari cash flow challeng would like loan o...</td>\n",
       "    </tr>\n",
       "    <tr>\n",
       "      <th>...</th>\n",
       "      <td>...</td>\n",
       "      <td>...</td>\n",
       "      <td>...</td>\n",
       "      <td>...</td>\n",
       "    </tr>\n",
       "    <tr>\n",
       "      <th>126062</th>\n",
       "      <td>i am getting married on july 28 and will need ...</td>\n",
       "      <td>0</td>\n",
       "      <td>i am get marri on juli 28 and will need anoth ...</td>\n",
       "      <td>get marri juli 28 need anoth 3 500 pay supplie...</td>\n",
       "    </tr>\n",
       "    <tr>\n",
       "      <th>126063</th>\n",
       "      <td>i would like to buy some new furniture in my a...</td>\n",
       "      <td>0</td>\n",
       "      <td>i would like to buy some new furnitur in my ap...</td>\n",
       "      <td>would like buy new furnitur apart tv</td>\n",
       "    </tr>\n",
       "    <tr>\n",
       "      <th>126064</th>\n",
       "      <td>i need to pay 2 100 for fixing my volvo any he...</td>\n",
       "      <td>0</td>\n",
       "      <td>i need to pay 2 100 for fix my volvo ani help ...</td>\n",
       "      <td>need pay 2 100 fix volvo ani help appreci</td>\n",
       "    </tr>\n",
       "    <tr>\n",
       "      <th>126065</th>\n",
       "      <td>hi i m buying a used car anybody on facebook w...</td>\n",
       "      <td>0</td>\n",
       "      <td>hi i m buy a use car anybodi on facebook want ...</td>\n",
       "      <td>hi buy use car anybodi facebook financ thank</td>\n",
       "    </tr>\n",
       "    <tr>\n",
       "      <th>126066</th>\n",
       "      <td>i need to make several improvements around the...</td>\n",
       "      <td>0</td>\n",
       "      <td>i need to make sever improv around the hous fi...</td>\n",
       "      <td>need make sever improv around hous fix garag f...</td>\n",
       "    </tr>\n",
       "  </tbody>\n",
       "</table>\n",
       "<p>125815 rows × 4 columns</p>\n",
       "</div>"
      ],
      "text/plain": [
       "                                                     desc  target  \\\n",
       "2       i currently have a loan out with cashcall the ...       0   \n",
       "3                                        consolidate debt       0   \n",
       "4       this loan will be used solely to consolidate c...       0   \n",
       "5       i have recently purchased and built a new home...       0   \n",
       "6       temporary cash flow challenges would like this...       0   \n",
       "...                                                   ...     ...   \n",
       "126062  i am getting married on july 28 and will need ...       0   \n",
       "126063  i would like to buy some new furniture in my a...       0   \n",
       "126064  i need to pay 2 100 for fixing my volvo any he...       0   \n",
       "126065  hi i m buying a used car anybody on facebook w...       0   \n",
       "126066  i need to make several improvements around the...       0   \n",
       "\n",
       "                                                desc_stem  \\\n",
       "2       i current have a loan out with cashcal the int...   \n",
       "3                                           consolid debt   \n",
       "4       thi loan will be use sole to consolid credit c...   \n",
       "5       i have recent purchas and built a new home tha...   \n",
       "6       temporari cash flow challeng would like thi lo...   \n",
       "...                                                   ...   \n",
       "126062  i am get marri on juli 28 and will need anoth ...   \n",
       "126063  i would like to buy some new furnitur in my ap...   \n",
       "126064  i need to pay 2 100 for fix my volvo ani help ...   \n",
       "126065  hi i m buy a use car anybodi on facebook want ...   \n",
       "126066  i need to make sever improv around the hous fi...   \n",
       "\n",
       "                                             desc_cleaned  \n",
       "2       current loan cashcal interest rate 96 time too...  \n",
       "3                                           consolid debt  \n",
       "4       loan use sole consolid credit card debt accru ...  \n",
       "5       recent purchas built new home alway dream woul...  \n",
       "6       temporari cash flow challeng would like loan o...  \n",
       "...                                                   ...  \n",
       "126062  get marri juli 28 need anoth 3 500 pay supplie...  \n",
       "126063               would like buy new furnitur apart tv  \n",
       "126064          need pay 2 100 fix volvo ani help appreci  \n",
       "126065       hi buy use car anybodi facebook financ thank  \n",
       "126066  need make sever improv around hous fix garag f...  \n",
       "\n",
       "[125815 rows x 4 columns]"
      ]
     },
     "execution_count": 11,
     "metadata": {},
     "output_type": "execute_result"
    }
   ],
   "source": [
    "from nltk.corpus import stopwords\n",
    "\n",
    "STOP_WORDS = stopwords.words()\n",
    "\n",
    "def newfunc(x):\n",
    "    tokenized = []\n",
    "    s = \" \"\n",
    "    word = []\n",
    "    \n",
    "    tokenized.append(word_tokenize(x))\n",
    "    \n",
    "    for i in tokenized:\n",
    "        for a in i:\n",
    "            if a not in STOP_WORDS: \n",
    "                word.append(a)\n",
    "    \n",
    "    words = s.join(word)\n",
    "    return words\n",
    "\n",
    "new_desc_df[\"desc_cleaned\"] = new_desc_df[\"desc_stem\"].apply(newfunc)\n",
    "new_desc_df"
   ]
  },
  {
   "cell_type": "code",
   "execution_count": null,
   "metadata": {},
   "outputs": [],
   "source": [
    "## TA/INSTRUCTOR ONLY\n",
    "## MARKS AWARDED: /1"
   ]
  },
  {
   "cell_type": "markdown",
   "metadata": {},
   "source": [
    "### Q5. Train Test Split\n",
    "\n",
    "Split your data up into training and testing sets using `sklearn.model_selection` with `train_test_split`, into 4 different variables, `x_train`, `x_test`, `y_train` and `y_test`, where: \n",
    "\n",
    "- <b>first</b> argument should be the `desc_cleaned` column but as a <b>DataFrame (2 square brackets)</b>\n",
    "- <b>second</b> argument should <b>only</b> be the `target` column\n",
    "- `random_state` is 0\n",
    "- `test_size` is 0.2"
   ]
  },
  {
   "cell_type": "code",
   "execution_count": 12,
   "metadata": {},
   "outputs": [],
   "source": [
    "from sklearn.model_selection import train_test_split\n",
    "\n",
    "desc_cleaned = new_desc_df[[\"desc_cleaned\"]]\n",
    "target_col = new_desc_df[\"target\"]\n",
    "\n",
    "X_train, X_test, Y_train, Y_test = train_test_split(desc_cleaned, target_col, random_state=0, test_size=0.2)"
   ]
  },
  {
   "cell_type": "code",
   "execution_count": null,
   "metadata": {},
   "outputs": [],
   "source": [
    "## TA/INSTRUCTOR ONLY\n",
    "## MARKS AWARDED: /1"
   ]
  },
  {
   "cell_type": "markdown",
   "metadata": {},
   "source": [
    "### Q6. Vectorizer\n",
    "\n",
    "As you would be using the Naive Bayes Classifier, you would need to transform your description into a matrix of 1s and 0s. Use the `CountVectorizer` to transform your `desc_cleaned` into a matrix, called `desc_matrix`."
   ]
  },
  {
   "cell_type": "code",
   "execution_count": 13,
   "metadata": {},
   "outputs": [],
   "source": [
    "from sklearn.feature_extraction.text import CountVectorizer\n",
    "vectorizer = CountVectorizer()\n",
    "desc_matrix = vectorizer.fit_transform(X_train[\"desc_cleaned\"])"
   ]
  },
  {
   "cell_type": "code",
   "execution_count": null,
   "metadata": {},
   "outputs": [],
   "source": [
    "## TA/INSTRUCTOR ONLY\n",
    "## MARKS AWARDED: /1"
   ]
  },
  {
   "cell_type": "markdown",
   "metadata": {},
   "source": [
    "### Q7. Multinomial Naive Bayes Classifier \n",
    "\n",
    "Create a new `MultinomialNB` classifer and name it as `desc_classifier`, then `.fit()` the vectorized matrix, `desc_matrix` and `y_train`."
   ]
  },
  {
   "cell_type": "code",
   "execution_count": 14,
   "metadata": {},
   "outputs": [
    {
     "data": {
      "text/plain": [
       "MultinomialNB(alpha=1.0, class_prior=None, fit_prior=True)"
      ]
     },
     "execution_count": 14,
     "metadata": {},
     "output_type": "execute_result"
    }
   ],
   "source": [
    "from sklearn.naive_bayes import MultinomialNB\n",
    "\n",
    "desc_classifier = MultinomialNB()\n",
    "desc_classifier.fit(desc_matrix, Y_train)"
   ]
  },
  {
   "cell_type": "code",
   "execution_count": null,
   "metadata": {},
   "outputs": [],
   "source": [
    "## TA/INSTRUCTOR ONLY\n",
    "## MARKS AWARDED: /1"
   ]
  },
  {
   "cell_type": "markdown",
   "metadata": {},
   "source": [
    "### Q8. Confusion Matrix\n",
    "\n",
    "Plot the confusion matrix for the Naive Bayes Classifier by:\n",
    "\n",
    "1. Vectorizing (transform) the `x_test` of `desc_cleaned` \n",
    "2. Using `.predict` on the vectorized set from the to get the test results\n",
    "3. Use `sns.heatmap` to create confusion matrix\n",
    "4. Set `.ylim()` to (2,0)\n",
    "5. Set `.xlim()` to (0,2)\n",
    "\n",
    "**Expected Output:**\n",
    "\n",
    "<img src=\"https://i.imgur.com/InjikTM.png\">"
   ]
  },
  {
   "cell_type": "code",
   "execution_count": 15,
   "metadata": {},
   "outputs": [
    {
     "data": {
      "image/png": "[encoded data removed]",
      "text/plain": [
       "<Figure size 1008x432 with 2 Axes>"
      ]
     },
     "metadata": {
      "needs_background": "light"
     },
     "output_type": "display_data"
    }
   ],
   "source": [
    "from sklearn.metrics import confusion_matrix\n",
    "import matplotlib.pyplot as plt\n",
    "import seaborn as sns\n",
    "\n",
    "prediction_model = desc_classifier.predict(vectorizer.transform(X_test[\"desc_cleaned\"]))\n",
    "\n",
    "cm_f = confusion_matrix(Y_test, prediction_model)\n",
    "\n",
    "options = {\n",
    "    \"annot\": True,\n",
    "    \"fmt\":\"d\"\n",
    "}\n",
    "\n",
    "fig, ax = plt.subplots(ncols=1, figsize=(14,6))\n",
    "\n",
    "\n",
    "sns.heatmap(cm_f, ax=ax, **options)\n",
    "\n",
    "ax.set_title(\"Confusion matrix of Naive Bayes Classification of Loan Description\")\n",
    "ax.set_ylim(2,0)\n",
    "ax.set_xlim(0,2)\n",
    "plt.show()"
   ]
  },
  {
   "cell_type": "code",
   "execution_count": null,
   "metadata": {},
   "outputs": [],
   "source": [
    "## TA/INSTRUCTOR ONLY\n",
    "## MARKS AWARDED: /1"
   ]
  },
  {
   "cell_type": "markdown",
   "metadata": {},
   "source": [
    "## K-Means Clustering - 7 marks\n",
    "\n",
    "To discover more insights about the dataset, you decided to ran the K-means clustering algorithm to discover the different clusters that could form. \n",
    "\n",
    "### Open Loans Data (Non-Description) File\n",
    "\n",
    "Open the `loans_transformed-200k.csv` as `all_loans_df`. "
   ]
  },
  {
   "cell_type": "code",
   "execution_count": 16,
   "metadata": {
    "scrolled": true
   },
   "outputs": [],
   "source": [
    "all_loans_df = pd.read_csv(\"./loans_transformed-200k.csv\")"
   ]
  },
  {
   "cell_type": "markdown",
   "metadata": {},
   "source": [
    "### Q9. Integer Encoding\n",
    "\n",
    "Just as the above Integer Encoding question, create a new column called `target_int` where `Non Default` is `0` and `Default` is `1`. \n",
    "\n",
    "**Expected Output:**\n",
    "\n",
    "<img src=\"https://i.imgur.com/D0VcNAs.png\"/>"
   ]
  },
  {
   "cell_type": "code",
   "execution_count": 17,
   "metadata": {
    "scrolled": true
   },
   "outputs": [
    {
     "data": {
      "text/html": [
       "<div>\n",
       "<style scoped>\n",
       "    .dataframe tbody tr th:only-of-type {\n",
       "        vertical-align: middle;\n",
       "    }\n",
       "\n",
       "    .dataframe tbody tr th {\n",
       "        vertical-align: top;\n",
       "    }\n",
       "\n",
       "    .dataframe thead th {\n",
       "        text-align: right;\n",
       "    }\n",
       "</style>\n",
       "<table border=\"1\" class=\"dataframe\">\n",
       "  <thead>\n",
       "    <tr style=\"text-align: right;\">\n",
       "      <th></th>\n",
       "      <th>loan_amnt</th>\n",
       "      <th>term</th>\n",
       "      <th>int_rate</th>\n",
       "      <th>installment</th>\n",
       "      <th>grade</th>\n",
       "      <th>emp_length</th>\n",
       "      <th>home_ownership</th>\n",
       "      <th>annual_inc</th>\n",
       "      <th>verification_status</th>\n",
       "      <th>purpose</th>\n",
       "      <th>...</th>\n",
       "      <th>term_int</th>\n",
       "      <th>grade_int</th>\n",
       "      <th>emp_length_int</th>\n",
       "      <th>home_ownership_int</th>\n",
       "      <th>verification_status_int</th>\n",
       "      <th>purpose_int</th>\n",
       "      <th>income_tax</th>\n",
       "      <th>int_round</th>\n",
       "      <th>target</th>\n",
       "      <th>target_int</th>\n",
       "    </tr>\n",
       "  </thead>\n",
       "  <tbody>\n",
       "    <tr>\n",
       "      <th>0</th>\n",
       "      <td>14400</td>\n",
       "      <td>36 months</td>\n",
       "      <td>14.47</td>\n",
       "      <td>495.46</td>\n",
       "      <td>C</td>\n",
       "      <td>10+ years</td>\n",
       "      <td>MORTGAGE</td>\n",
       "      <td>109000.0</td>\n",
       "      <td>Source Verified</td>\n",
       "      <td>debt_consolidation</td>\n",
       "      <td>...</td>\n",
       "      <td>0</td>\n",
       "      <td>2</td>\n",
       "      <td>10</td>\n",
       "      <td>0</td>\n",
       "      <td>1</td>\n",
       "      <td>1</td>\n",
       "      <td>8175.0</td>\n",
       "      <td>14</td>\n",
       "      <td>Non Default</td>\n",
       "      <td>0</td>\n",
       "    </tr>\n",
       "    <tr>\n",
       "      <th>1</th>\n",
       "      <td>8000</td>\n",
       "      <td>36 months</td>\n",
       "      <td>10.75</td>\n",
       "      <td>260.97</td>\n",
       "      <td>B</td>\n",
       "      <td>3 years</td>\n",
       "      <td>MORTGAGE</td>\n",
       "      <td>50000.0</td>\n",
       "      <td>Source Verified</td>\n",
       "      <td>credit_card</td>\n",
       "      <td>...</td>\n",
       "      <td>0</td>\n",
       "      <td>1</td>\n",
       "      <td>3</td>\n",
       "      <td>0</td>\n",
       "      <td>1</td>\n",
       "      <td>3</td>\n",
       "      <td>0.0</td>\n",
       "      <td>11</td>\n",
       "      <td>Non Default</td>\n",
       "      <td>0</td>\n",
       "    </tr>\n",
       "    <tr>\n",
       "      <th>2</th>\n",
       "      <td>9500</td>\n",
       "      <td>36 months</td>\n",
       "      <td>18.45</td>\n",
       "      <td>345.60</td>\n",
       "      <td>D</td>\n",
       "      <td>3 years</td>\n",
       "      <td>MORTGAGE</td>\n",
       "      <td>138000.0</td>\n",
       "      <td>Source Verified</td>\n",
       "      <td>credit_card</td>\n",
       "      <td>...</td>\n",
       "      <td>0</td>\n",
       "      <td>3</td>\n",
       "      <td>3</td>\n",
       "      <td>0</td>\n",
       "      <td>1</td>\n",
       "      <td>3</td>\n",
       "      <td>10350.0</td>\n",
       "      <td>18</td>\n",
       "      <td>Non Default</td>\n",
       "      <td>0</td>\n",
       "    </tr>\n",
       "    <tr>\n",
       "      <th>3</th>\n",
       "      <td>16000</td>\n",
       "      <td>60 months</td>\n",
       "      <td>18.99</td>\n",
       "      <td>414.97</td>\n",
       "      <td>D</td>\n",
       "      <td>&lt; 1 year</td>\n",
       "      <td>OWN</td>\n",
       "      <td>66000.0</td>\n",
       "      <td>Not Verified</td>\n",
       "      <td>debt_consolidation</td>\n",
       "      <td>...</td>\n",
       "      <td>1</td>\n",
       "      <td>3</td>\n",
       "      <td>0</td>\n",
       "      <td>1</td>\n",
       "      <td>2</td>\n",
       "      <td>1</td>\n",
       "      <td>4950.0</td>\n",
       "      <td>19</td>\n",
       "      <td>Non Default</td>\n",
       "      <td>0</td>\n",
       "    </tr>\n",
       "    <tr>\n",
       "      <th>4</th>\n",
       "      <td>6800</td>\n",
       "      <td>36 months</td>\n",
       "      <td>13.99</td>\n",
       "      <td>232.38</td>\n",
       "      <td>C</td>\n",
       "      <td>10+ years</td>\n",
       "      <td>MORTGAGE</td>\n",
       "      <td>63000.0</td>\n",
       "      <td>Not Verified</td>\n",
       "      <td>debt_consolidation</td>\n",
       "      <td>...</td>\n",
       "      <td>0</td>\n",
       "      <td>2</td>\n",
       "      <td>10</td>\n",
       "      <td>0</td>\n",
       "      <td>2</td>\n",
       "      <td>1</td>\n",
       "      <td>0.0</td>\n",
       "      <td>14</td>\n",
       "      <td>Non Default</td>\n",
       "      <td>0</td>\n",
       "    </tr>\n",
       "  </tbody>\n",
       "</table>\n",
       "<p>5 rows × 23 columns</p>\n",
       "</div>"
      ],
      "text/plain": [
       "   loan_amnt        term  int_rate  installment grade emp_length  \\\n",
       "0      14400   36 months     14.47       495.46     C  10+ years   \n",
       "1       8000   36 months     10.75       260.97     B    3 years   \n",
       "2       9500   36 months     18.45       345.60     D    3 years   \n",
       "3      16000   60 months     18.99       414.97     D   < 1 year   \n",
       "4       6800   36 months     13.99       232.38     C  10+ years   \n",
       "\n",
       "  home_ownership  annual_inc verification_status             purpose  ...  \\\n",
       "0       MORTGAGE    109000.0     Source Verified  debt_consolidation  ...   \n",
       "1       MORTGAGE     50000.0     Source Verified         credit_card  ...   \n",
       "2       MORTGAGE    138000.0     Source Verified         credit_card  ...   \n",
       "3            OWN     66000.0        Not Verified  debt_consolidation  ...   \n",
       "4       MORTGAGE     63000.0        Not Verified  debt_consolidation  ...   \n",
       "\n",
       "   term_int  grade_int emp_length_int  home_ownership_int  \\\n",
       "0         0          2             10                   0   \n",
       "1         0          1              3                   0   \n",
       "2         0          3              3                   0   \n",
       "3         1          3              0                   1   \n",
       "4         0          2             10                   0   \n",
       "\n",
       "   verification_status_int  purpose_int  income_tax  int_round       target  \\\n",
       "0                        1            1      8175.0         14  Non Default   \n",
       "1                        1            3         0.0         11  Non Default   \n",
       "2                        1            3     10350.0         18  Non Default   \n",
       "3                        2            1      4950.0         19  Non Default   \n",
       "4                        2            1         0.0         14  Non Default   \n",
       "\n",
       "   target_int  \n",
       "0           0  \n",
       "1           0  \n",
       "2           0  \n",
       "3           0  \n",
       "4           0  \n",
       "\n",
       "[5 rows x 23 columns]"
      ]
     },
     "execution_count": 17,
     "metadata": {},
     "output_type": "execute_result"
    }
   ],
   "source": [
    "all_loans_df[\"target_int\"] = all_loans_df[\"target\"].apply(lambda x: 0 if x == \"Non Default\" else 1)\n",
    "all_loans_df.head()"
   ]
  },
  {
   "cell_type": "code",
   "execution_count": null,
   "metadata": {},
   "outputs": [],
   "source": [
    "## TA/INSTRUCTOR ONLY\n",
    "## MARKS AWARDED: /1"
   ]
  },
  {
   "cell_type": "markdown",
   "metadata": {},
   "source": [
    "### Q10. Reduce to Numerical Data\n",
    "\n",
    "For K-means algorithm to work properly, your dataframe should only contain numeric datasets. Also, you decide to <b>exclude</b> (drop) the `int_round` and `income_tax` columns are similar to the other columns too. Store this dataframe as `loans_numeric_df`. \n",
    "\n",
    "**Expected Output:**\n",
    "\n",
    "<img src=\"https://i.imgur.com/80Ccldn.png\">"
   ]
  },
  {
   "cell_type": "code",
   "execution_count": 18,
   "metadata": {
    "scrolled": true
   },
   "outputs": [],
   "source": [
    "cond = all_loans_df[\"int_round\"]\n",
    "cond2 = all_loans_df[\"income_tax\"]\n",
    "\n",
    "loans_numeric_df = all_loans_df.drop([\"int_round\", \"income_tax\"], axis=1)\n",
    "loans_numeric_df = loans_numeric_df.select_dtypes(exclude=[\"object\"])"
   ]
  },
  {
   "cell_type": "code",
   "execution_count": null,
   "metadata": {},
   "outputs": [],
   "source": [
    "## TA/INSTRUCTOR ONLY\n",
    "## MARKS AWARDED: /1"
   ]
  },
  {
   "cell_type": "markdown",
   "metadata": {},
   "source": [
    "### Q11. Select Optimal K - Elbow Plot\n",
    "\n",
    "Plot the elbow plot by doing multiple iterations of the k-means algorithm, between a value of <b>2 to 15 (inclusive)</b>. Select a K that you think is appropriate to carry on in the next step. \n",
    "\n",
    "<b>Note: This will take about 2 minutes to compute finish all the Ks</b>\n",
    "\n",
    "**Expected Output:**\n",
    "\n",
    "<img src=\"https://i.imgur.com/VQfZN86.png\">"
   ]
  },
  {
   "cell_type": "code",
   "execution_count": 22,
   "metadata": {
    "scrolled": false
   },
   "outputs": [
    {
     "data": {
      "text/plain": [
       "Text(0, 0.5, 'WSS')"
      ]
     },
     "execution_count": 22,
     "metadata": {},
     "output_type": "execute_result"
    },
    {
     "data": {
      "image/png": "[encoded data removed]",
      "text/plain": [
       "<Figure size 1080x360 with 1 Axes>"
      ]
     },
     "metadata": {
      "needs_background": "light"
     },
     "output_type": "display_data"
    }
   ],
   "source": [
    "from sklearn.cluster import KMeans\n",
    "from matplotlib import pyplot as plt\n",
    "\n",
    "X = loans_numeric_df\n",
    "distorsions = []\n",
    "for k in range(2, 16):\n",
    "    kmeans = KMeans(n_clusters=k)\n",
    "    kmeans.fit(X)\n",
    "    distorsions.append(kmeans.inertia_)\n",
    "\n",
    "fig = plt.figure(figsize=(15, 5))\n",
    "plt.plot(range(2, 16), distorsions)\n",
    "plt.grid(True)\n",
    "plt.title('Elbow curve')\n",
    "plt.xlabel(\"k\")\n",
    "plt.ylabel(\"WSS\")\n"
   ]
  },
  {
   "cell_type": "code",
   "execution_count": null,
   "metadata": {},
   "outputs": [],
   "source": [
    "## TA/INSTRUCTOR ONLY\n",
    "## PLOT MARK: /1"
   ]
  },
  {
   "cell_type": "markdown",
   "metadata": {},
   "source": [
    "### Q12. K-Means Clustering with Optimal K - 2 Marks\n",
    "\n",
    "Choose an <b>appropriate K</b> based on the chart above, then apply the k-means algorithm only once and store the model as `loans_kmeans`.\n",
    "\n",
    "Make sure `random_state` is 0."
   ]
  },
  {
   "cell_type": "code",
   "execution_count": 81,
   "metadata": {},
   "outputs": [
    {
     "data": {
      "text/plain": [
       "KMeans(algorithm='auto', copy_x=True, init='k-means++', max_iter=300,\n",
       "       n_clusters=8, n_init=10, n_jobs=None, precompute_distances='auto',\n",
       "       random_state=0, tol=0.0001, verbose=0)"
      ]
     },
     "execution_count": 81,
     "metadata": {},
     "output_type": "execute_result"
    }
   ],
   "source": [
    "k=8\n",
    "\n",
    "model = KMeans(n_clusters=k,\n",
    "               random_state=0)\n",
    "\n",
    "loans_kmeans = model.fit(loans_numeric_df)\n",
    "loans_kmeans"
   ]
  },
  {
   "cell_type": "code",
   "execution_count": null,
   "metadata": {},
   "outputs": [],
   "source": [
    "## TA/INSTRUCTOR ONLY\n",
    "## KMEANS MARK: /1\n",
    "## SELECTING AN APPROPRIATE K - MARK: /1"
   ]
  },
  {
   "cell_type": "markdown",
   "metadata": {},
   "source": [
    "### Q13. Set Labels\n",
    "\n",
    "All loans are now tagged with a particular cluster or label. Using the `.labels_` attribute, create a new column called `label` to `all_loans_df`. \n",
    "\n",
    "**Expected Output:** (for k = 8) \n",
    "\n",
    "<img src=\"https://i.imgur.com/uKpialC.png\">"
   ]
  },
  {
   "cell_type": "code",
   "execution_count": 83,
   "metadata": {},
   "outputs": [
    {
     "data": {
      "text/html": [
       "<div>\n",
       "<style scoped>\n",
       "    .dataframe tbody tr th:only-of-type {\n",
       "        vertical-align: middle;\n",
       "    }\n",
       "\n",
       "    .dataframe tbody tr th {\n",
       "        vertical-align: top;\n",
       "    }\n",
       "\n",
       "    .dataframe thead th {\n",
       "        text-align: right;\n",
       "    }\n",
       "</style>\n",
       "<table border=\"1\" class=\"dataframe\">\n",
       "  <thead>\n",
       "    <tr style=\"text-align: right;\">\n",
       "      <th></th>\n",
       "      <th>purpose_int</th>\n",
       "      <th>income_tax</th>\n",
       "      <th>int_round</th>\n",
       "      <th>target</th>\n",
       "      <th>target_int</th>\n",
       "      <th>label</th>\n",
       "    </tr>\n",
       "  </thead>\n",
       "  <tbody>\n",
       "    <tr>\n",
       "      <th>0</th>\n",
       "      <td>1</td>\n",
       "      <td>8175.0</td>\n",
       "      <td>14</td>\n",
       "      <td>Non Default</td>\n",
       "      <td>0</td>\n",
       "      <td>6</td>\n",
       "    </tr>\n",
       "    <tr>\n",
       "      <th>1</th>\n",
       "      <td>3</td>\n",
       "      <td>0.0</td>\n",
       "      <td>11</td>\n",
       "      <td>Non Default</td>\n",
       "      <td>0</td>\n",
       "      <td>3</td>\n",
       "    </tr>\n",
       "    <tr>\n",
       "      <th>2</th>\n",
       "      <td>3</td>\n",
       "      <td>10350.0</td>\n",
       "      <td>18</td>\n",
       "      <td>Non Default</td>\n",
       "      <td>0</td>\n",
       "      <td>6</td>\n",
       "    </tr>\n",
       "    <tr>\n",
       "      <th>3</th>\n",
       "      <td>1</td>\n",
       "      <td>4950.0</td>\n",
       "      <td>19</td>\n",
       "      <td>Non Default</td>\n",
       "      <td>0</td>\n",
       "      <td>0</td>\n",
       "    </tr>\n",
       "    <tr>\n",
       "      <th>4</th>\n",
       "      <td>1</td>\n",
       "      <td>0.0</td>\n",
       "      <td>14</td>\n",
       "      <td>Non Default</td>\n",
       "      <td>0</td>\n",
       "      <td>0</td>\n",
       "    </tr>\n",
       "  </tbody>\n",
       "</table>\n",
       "</div>"
      ],
      "text/plain": [
       "   purpose_int  income_tax  int_round       target  target_int  label\n",
       "0            1      8175.0         14  Non Default           0      6\n",
       "1            3         0.0         11  Non Default           0      3\n",
       "2            3     10350.0         18  Non Default           0      6\n",
       "3            1      4950.0         19  Non Default           0      0\n",
       "4            1         0.0         14  Non Default           0      0"
      ]
     },
     "execution_count": 83,
     "metadata": {},
     "output_type": "execute_result"
    }
   ],
   "source": [
    "all_loans_df['label'] = loans_kmeans.labels_\n",
    "all_loans_df[[\"purpose_int\", \"income_tax\", \"int_round\", \"target\", \"target_int\", \"label\"]].head()"
   ]
  },
  {
   "cell_type": "code",
   "execution_count": null,
   "metadata": {},
   "outputs": [],
   "source": [
    "## TA/INSTRUCTOR ONLY\n",
    "## MARKS AWARDED: /1"
   ]
  },
  {
   "cell_type": "markdown",
   "metadata": {},
   "source": [
    "### Q14. Clustering Analysis\n",
    "\n",
    "Now that you've labelled each loans, you want know the <b>proportion of default loans</b> within each cluster\n",
    "\n",
    "**Expected Output:** (for k = 8) \n",
    "\n",
    "    label  target     \n",
    "    0      Default        0.133062\n",
    "           Non Default    0.866938\n",
    "    1      Non Default    1.000000\n",
    "    2      Default        0.090717\n",
    "           Non Default    0.909283\n",
    "    3      Default        0.055154\n",
    "           Non Default    0.944846\n",
    "    4      Default        0.090909\n",
    "           Non Default    0.909091\n",
    "    5      Default        0.078544\n",
    "           Non Default    0.921456\n",
    "    6      Default        0.062500\n",
    "           Non Default    0.937500\n",
    "    7      Default        0.113032\n",
    "           Non Default    0.886968\n",
    "    dtype: float64"
   ]
  },
  {
   "cell_type": "code",
   "execution_count": 106,
   "metadata": {
    "scrolled": true
   },
   "outputs": [
    {
     "data": {
      "text/plain": [
       "label  target     \n",
       "0      Default        0.112895\n",
       "       Non Default    0.887105\n",
       "1      Default        0.090909\n",
       "       Non Default    0.909091\n",
       "2      Default        0.078322\n",
       "       Non Default    0.921678\n",
       "3      Default        0.133102\n",
       "       Non Default    0.866898\n",
       "4      Default        0.062500\n",
       "       Non Default    0.937500\n",
       "5      Non Default    1.000000\n",
       "6      Default        0.090710\n",
       "       Non Default    0.909290\n",
       "7      Default        0.055154\n",
       "       Non Default    0.944846\n",
       "dtype: float64"
      ]
     },
     "execution_count": 106,
     "metadata": {},
     "output_type": "execute_result"
    }
   ],
   "source": [
    "all_loans_df.groupby([\"label\", \"target\"]).size() / all_loans_df.groupby(\"label\").size()"
   ]
  },
  {
   "cell_type": "code",
   "execution_count": null,
   "metadata": {},
   "outputs": [],
   "source": [
    "## TA/INSTRUCTOR ONLY\n",
    "## MARKS AWARDED: /1"
   ]
  },
  {
   "cell_type": "markdown",
   "metadata": {},
   "source": [
    "## Decision Tree Classifier - 3 marks\n",
    "\n",
    "### Q15. Train Test Split\n",
    "\n",
    "Similar to how you did `train_test_split` on the Decision Tree Classifier, conduct `train_test_split` on the `loans_numeric_df`, into 4 different variables, `x_train`, `x_test`, `y_train` and `y_test`, where: \n",
    "\n",
    "- <b>first</b> argument should be all columns but <b>without</b> the `target_int` column as a <b>DataFrame</b>\n",
    "- <b>second</b> argument should <b>only</b> be the `target_int` column\n",
    "- `random_state` is 0\n",
    "- `test_size` is 0.2"
   ]
  },
  {
   "cell_type": "code",
   "execution_count": 103,
   "metadata": {},
   "outputs": [],
   "source": [
    "from sklearn.model_selection import train_test_split\n",
    "\n",
    "df_x = all_loans_df.loc[:,[\"target_int\"]]\n",
    "df_y = all_loans_df['target_int']\n",
    "\n",
    "x_train, x_test, y_train, y_test = train_test_split(df_x, \n",
    "                                                    df_y, \n",
    "                                                    test_size=0.20,\n",
    "                                                    random_state=0)"
   ]
  },
  {
   "cell_type": "code",
   "execution_count": null,
   "metadata": {},
   "outputs": [],
   "source": [
    "## TA/INSTRUCTOR ONLY\n",
    "## MARKS AWARDED: /1"
   ]
  },
  {
   "cell_type": "markdown",
   "metadata": {},
   "source": [
    "### Q16. Fit DecisionTree\n",
    "\n",
    "Using the `DecisionTreeClassifier`, create a new Decision Tree by using `.fit()` with the `x_train` and `y_train` variables. Name this classifier as `loans_clf`. \n",
    "\n",
    "<b>Note: `random_state` should be `0`.</b>"
   ]
  },
  {
   "cell_type": "code",
   "execution_count": 105,
   "metadata": {},
   "outputs": [],
   "source": [
    "from sklearn import tree\n",
    "loans_clf = tree.DecisionTreeClassifier(random_state=0)\n",
    "loans_clf = loans_clf.fit(x_train, y_train)"
   ]
  },
  {
   "cell_type": "code",
   "execution_count": null,
   "metadata": {},
   "outputs": [],
   "source": [
    "## TA/INSTRUCTOR ONLY\n",
    "## MARKS AWARDED: /1"
   ]
  },
  {
   "cell_type": "markdown",
   "metadata": {},
   "source": [
    "### Q17. Confusion Matrix\n",
    "\n",
    "Plot the confusion matrix for the decision tree classifier by:\n",
    "\n",
    "1. Using `.predict` on the `x_test` to get the test results\n",
    "2. Use `sns.heatmap` to create confusion matrix\n",
    "3. Set `.ylim()` to (2,0)\n",
    "4. Set `.xlim()` to (0,2)\n",
    "\n",
    "**Expected Output:**\n",
    "\n",
    "<img src=\"https://i.imgur.com/JCRqzHp.png\">"
   ]
  },
  {
   "cell_type": "code",
   "execution_count": 130,
   "metadata": {
    "scrolled": true
   },
   "outputs": [
    {
     "data": {
      "image/png": "[encoded data removed]",
      "text/plain": [
       "<Figure size 1008x432 with 2 Axes>"
      ]
     },
     "metadata": {
      "needs_background": "light"
     },
     "output_type": "display_data"
    }
   ],
   "source": [
    "import matplotlib.pyplot as plt\n",
    "import seaborn as sns\n",
    "from sklearn.metrics import confusion_matrix\n",
    "\n",
    "full_results = loans_clf.predict(x_test)\n",
    "cm_f1 = confusion_matrix(x_test, full_results)\n",
    "\n",
    "options = {\n",
    "    \"annot\": True,\n",
    "    \"fmt\":\"d\"\n",
    "}\n",
    "\n",
    "fig, ax = plt.subplots(ncols=1, figsize=(14,6))\n",
    "\n",
    "\n",
    "sns.heatmap(cm_f1, ax=ax, **options)\n",
    "\n",
    "ax.set_title(\"Confusion matrix of Decision Tree Classification of Loans\")\n",
    "ax.set_ylim(2,0)\n",
    "ax.set_xlim(0,2)\n",
    "ax.set_xlabel(\"Actual\")\n",
    "ax.set_ylabel(\"Predicted\")\n",
    "\n",
    "plt.show()"
   ]
  },
  {
   "cell_type": "code",
   "execution_count": null,
   "metadata": {},
   "outputs": [],
   "source": [
    "## TA/INSTRUCTOR ONLY\n",
    "## MARKS AWARDED: /1"
   ]
  },
  {
   "cell_type": "markdown",
   "metadata": {},
   "source": [
    "## Performance Measures - 2 marks\n",
    "\n",
    "### Q18. Accuracy & Precision\n",
    "\n",
    "Based on the above confusion matrices, calculate, <b>with workings</b>, the <b>Accuracy and Precision</b> for the:\n",
    "\n",
    "1. Naive Bayes Classifier\n",
    "2. Decision Tree Classifier"
   ]
  },
  {
   "cell_type": "code",
   "execution_count": 146,
   "metadata": {},
   "outputs": [],
   "source": [
    "from sklearn import metrics\n",
    "# NAIVE BAYES CLASSIFIER \n",
    "# Accuracy = \n",
    "# Precision = \n",
    "\n",
    "# DECISION TREE\n",
    "# Accuracy = \n",
    "# Precision = "
   ]
  },
  {
   "cell_type": "code",
   "execution_count": null,
   "metadata": {},
   "outputs": [],
   "source": [
    "## TA/INSTRUCTOR ONLY\n",
    "## MARKS AWARDED: /1"
   ]
  },
  {
   "cell_type": "markdown",
   "metadata": {},
   "source": [
    "### Q19. Model Assessment\n",
    "\n",
    "After assessing the accuracy and precision scores, do you think that the models above are reliable in detecting default loans? Explain your answer.  "
   ]
  },
  {
   "cell_type": "code",
   "execution_count": null,
   "metadata": {},
   "outputs": [],
   "source": [
    "# Answer: No it's not. It needs more data to train"
   ]
  },
  {
   "cell_type": "code",
   "execution_count": null,
   "metadata": {},
   "outputs": [],
   "source": [
    "## TA/INSTRUCTOR ONLY\n",
    "## MARKS AWARDED: /1"
   ]
  },
  {
   "cell_type": "markdown",
   "metadata": {},
   "source": [
    "<div class=\"alert alert-success\">\n",
    "<b>Checkpoint</b>: When you have completed, upload your progress to eLearn. eLearn only accepts the latest notebooks so if you have an existing notebook, your latest upload will <b>override</b> it.\n",
    "</div>"
   ]
  }
 ],
 "metadata": {
  "kernelspec": {
   "display_name": "Python 3",
   "language": "python",
   "name": "python3"
  },
  "language_info": {
   "codemirror_mode": {
    "name": "ipython",
    "version": 3
   },
   "file_extension": ".py",
   "mimetype": "text/x-python",
   "name": "python",
   "nbconvert_exporter": "python",
   "pygments_lexer": "ipython3",
   "version": "3.7.6"
  }
 },
 "nbformat": 4,
 "nbformat_minor": 2
}
