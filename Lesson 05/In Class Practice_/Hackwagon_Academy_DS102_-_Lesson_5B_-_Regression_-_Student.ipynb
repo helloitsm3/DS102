{
 "cells": [
  {
   "cell_type": "markdown",
   "metadata": {},
   "source": [
    "<center><img src=\"https://i2.wp.com/hackwagon.com/wp-content/uploads/2017/02/Logo-Web-Export.png?ssl=1\" width=200/></center>\n",
    "<h1> Hackwagon Academy DS102 Lesson 5B </h1>\n",
    "<h2> Regression </h2> \n",
    "<h3> Lesson Outline </h3>\n",
    "\n",
    "\n",
    "- 1. [Simple Linear Regression](#1)\n",
    "    - 1.1 [Example - Tips](#1.1)\n",
    "    - 1.2 [Example - Housing Prices](#1.2)\n",
    "    - [Practice I](#P1)\n",
    "- 2. [Multivariate Linear Regression](#2)\n",
    "    - 2.1 [Example - Housing Prices](#2.1)\n",
    "    - [Practice II](#P2)"
   ]
  },
  {
   "cell_type": "code",
   "execution_count": null,
   "metadata": {},
   "outputs": [],
   "source": [
    "!pip install sklearn"
   ]
  },
  {
   "cell_type": "markdown",
   "metadata": {},
   "source": [
    "<hr/>\n",
    "\n",
    "<a id='1'><h2><img src=\"https://images.vexels.com/media/users/3/153978/isolated/preview/483ef8b10a46e28d02293a31570c8c56-warning-sign-colored-stroke-icon-by-vexels.png\" width=23 align=\"left\"><font color=\"salmon\">&nbsp;</font><font color=\"salmon\"> Scikit Learn - SKLearn </font> </h2></a>\n",
    "\n",
    "<a id='1.1'><h3>5 Standard Steps</h3></a>\n",
    "\n",
    "**Step 1**: Choose a class of machine learning model from the library \n",
    "\n",
    "**Step 2**: Choose the model’s hyperparameters by instantiating with desired values (tuning)\n",
    "\n",
    "**Step 3**: Arrange data into features and target\n",
    "\n",
    "**Step 4**: Fit model to your data by using the fit() method of the model \n",
    "\n",
    "**Step 5**: Apply the model to new data:\n",
    "    - For supervised learning, using the predict() method\n",
    "    - For unsupervised learning, using the predict() or transform() method"
   ]
  },
  {
   "cell_type": "markdown",
   "metadata": {},
   "source": [
    "\n",
    "<a id='1'><h2><img src=\"https://images.vexels.com/media/users/3/153978/isolated/preview/483ef8b10a46e28d02293a31570c8c56-warning-sign-colored-stroke-icon-by-vexels.png\" width=23 align=\"left\"><font color=\"salmon\">&nbsp;1.</font><font color=\"salmon\"> Simple Linear Regression </font> </h2></a>\n",
    "\n",
    "<a id='1.1'><h3>1.1 Example - Tips </h3></a>\n",
    "\n"
   ]
  },
  {
   "cell_type": "code",
   "execution_count": null,
   "metadata": {},
   "outputs": [],
   "source": [
    "import pandas as pd\n",
    "\n",
    "data = { \n",
    "    'ID': [1,2,3,4,5,6],\n",
    "    'Tips': [10, 25, 12, 8, 15, 20],\n",
    "    'Meal': [80, 150, 75, 60, 100, 150]\n",
    "}\n",
    "\n",
    "tips_df = pd.DataFrame(data)\n",
    "tips_df"
   ]
  },
  {
   "cell_type": "code",
   "execution_count": null,
   "metadata": {},
   "outputs": [],
   "source": [
    "from sklearn import datasets, linear_model\n",
    "\n",
    "# Step 1 & 2\n",
    "\n",
    "\n",
    "# Step 3\n",
    "\n",
    "\n",
    "# Step 4\n",
    "\n"
   ]
  },
  {
   "cell_type": "markdown",
   "metadata": {},
   "source": [
    "Step 5 is in another cell because the model has been trained, there is not need to keep re-training the model again and again."
   ]
  },
  {
   "cell_type": "code",
   "execution_count": null,
   "metadata": {},
   "outputs": [],
   "source": [
    "# Step 5 \n",
    "# Predicting Meal of $10 \n",
    " # < Note that it's a list of lists"
   ]
  },
  {
   "cell_type": "markdown",
   "metadata": {},
   "source": [
    "Use `.coef_` and `.intercept_` to get the coefficent and intercept of the regression."
   ]
  },
  {
   "cell_type": "code",
   "execution_count": null,
   "metadata": {},
   "outputs": [],
   "source": [
    "print(regr.coef_)\n",
    "print(regr.intercept_)\n",
    "\n",
    "#  Tips = -1.27  + 0.158 (Meal)\n",
    "# With every $1 increase in meal, tips would increase by $0.15"
   ]
  },
  {
   "cell_type": "markdown",
   "metadata": {},
   "source": [
    "<a id='1.2'><h3>1.2 Example - Housing Prices </h3></a>\n",
    "\n",
    "Filter to just two columns, where the predictor variable is `sqft_living` and the target variable `price`.  "
   ]
  },
  {
   "cell_type": "code",
   "execution_count": null,
   "metadata": {},
   "outputs": [],
   "source": [
    "housing_x = pd.read_csv('housing_x.csv')\n",
    "price = pd.read_csv('housing_y.csv')"
   ]
  },
  {
   "cell_type": "markdown",
   "metadata": {},
   "source": [
    "### Train Test Split\n",
    "\n",
    "Filter to just to the `RunTime` and `Performance` as a DataFrame, `rt_perf_df`. Conduct `train_test_split()` to get the four splits of data. "
   ]
  },
  {
   "cell_type": "code",
   "execution_count": null,
   "metadata": {},
   "outputs": [],
   "source": [
    "from sklearn.model_selection import train_test_split\n",
    "\n",
    "\n"
   ]
  },
  {
   "cell_type": "markdown",
   "metadata": {},
   "source": [
    "### Fit Model\n",
    "\n",
    "Using the train datasets, train the model as `simple_housing_lr`."
   ]
  },
  {
   "cell_type": "code",
   "execution_count": null,
   "metadata": {},
   "outputs": [],
   "source": []
  },
  {
   "cell_type": "markdown",
   "metadata": {},
   "source": [
    "### Interpret\n",
    "\n",
    "With the fitted model, interpret and create the linear equation of the model. "
   ]
  },
  {
   "cell_type": "code",
   "execution_count": null,
   "metadata": {
    "scrolled": true
   },
   "outputs": [],
   "source": [
    "\n",
    "\n"
   ]
  },
  {
   "cell_type": "markdown",
   "metadata": {},
   "source": [
    "### Predict \n",
    "\n",
    "Using `.predict()`, predict with a custom square-feet."
   ]
  },
  {
   "cell_type": "code",
   "execution_count": null,
   "metadata": {},
   "outputs": [],
   "source": [
    "custom_sqft = 10000\n",
    "\n"
   ]
  },
  {
   "cell_type": "markdown",
   "metadata": {},
   "source": [
    "### Assess Performance of Model\n",
    "\n",
    "Using `r2_score` calculate the R-squared score of the model."
   ]
  },
  {
   "cell_type": "code",
   "execution_count": null,
   "metadata": {},
   "outputs": [],
   "source": [
    "from sklearn.metrics import r2_score \n"
   ]
  },
  {
   "cell_type": "markdown",
   "metadata": {},
   "source": [
    "<a id='P1'><h2> <img src=\"https://cdn.shopify.com/s/files/1/1200/7374/products/book_aec28e76-52ec-44ab-bc01-41df1279c89f_550x825.png?v=1473897430\" width=25 align=\"left\"> <font color=\"darkorange\"> &nbsp; Practice I </font><font color=\"skyblue\"> * </font></h2></a>\n",
    "\n",
    "### Fitness Dataset\n",
    "\n",
    "Based on this fitness dataset, predict the `RunTime` based on the following predictors:\n",
    "\n",
    "1. Performance\n",
    "\n",
    "### Read  Dataset\n",
    "\n",
    "Read the `fitness-data.csv` as `fit_df`. "
   ]
  },
  {
   "cell_type": "code",
   "execution_count": null,
   "metadata": {},
   "outputs": [],
   "source": []
  },
  {
   "cell_type": "markdown",
   "metadata": {},
   "source": [
    "### Train Test Split\n",
    "\n",
    "Filter to just to the `RunTime` and `Performance` as a DataFrame, `rt_perf_df`. Conduct `train_test_split()` to get the four splits of data. "
   ]
  },
  {
   "cell_type": "code",
   "execution_count": null,
   "metadata": {},
   "outputs": [],
   "source": []
  },
  {
   "cell_type": "markdown",
   "metadata": {},
   "source": [
    "### Fit Model\n",
    "\n",
    "Create a LinearRegression variable, named  `simple_performance_lr`. Using the trained datasets, train the model."
   ]
  },
  {
   "cell_type": "code",
   "execution_count": null,
   "metadata": {},
   "outputs": [],
   "source": []
  },
  {
   "cell_type": "markdown",
   "metadata": {},
   "source": [
    "### Interpret\n",
    "\n",
    "With the fitted model, interpret and create the linear equation of the model. "
   ]
  },
  {
   "cell_type": "code",
   "execution_count": null,
   "metadata": {},
   "outputs": [],
   "source": []
  },
  {
   "cell_type": "markdown",
   "metadata": {},
   "source": [
    "### Predict \n",
    "\n",
    "Using `.predict()`, predict with custom values. "
   ]
  },
  {
   "cell_type": "code",
   "execution_count": null,
   "metadata": {},
   "outputs": [],
   "source": []
  },
  {
   "cell_type": "markdown",
   "metadata": {},
   "source": [
    "### Assess Performance of Model\n",
    "\n",
    "Using `r2_score` calculate the R-squared score of the model."
   ]
  },
  {
   "cell_type": "code",
   "execution_count": null,
   "metadata": {},
   "outputs": [],
   "source": []
  },
  {
   "cell_type": "markdown",
   "metadata": {},
   "source": [
    "\n",
    "<a id='2'><h2><img src=\"https://images.vexels.com/media/users/3/153978/isolated/preview/483ef8b10a46e28d02293a31570c8c56-warning-sign-colored-stroke-icon-by-vexels.png\" width=23 align=\"left\"><font color=\"salmon\">&nbsp;2.</font><font color=\"salmon\"> Multivariate Linear Regression </font> </h2></a>\n",
    "\n",
    "<a id='2.1'><h3>2.1 Example - Housing Prices  </h3></a>\n",
    "\n",
    "This time, we'll apply more variables to the model and drop variables where necessary."
   ]
  },
  {
   "cell_type": "code",
   "execution_count": null,
   "metadata": {},
   "outputs": [],
   "source": [
    "# Read from CSV the following files: KX_train, KX_test, Ky_train, Ky_test\n",
    "x_all = pd.read_csv('housing_x.csv')\n",
    "y_all = pd.read_csv('housing_y.csv')\n",
    "display(x_all.head())\n",
    "display(y_all.head())"
   ]
  },
  {
   "cell_type": "markdown",
   "metadata": {},
   "source": [
    "### Feature Selection\n",
    "\n",
    "Detect for multicollinearity and drop variables where necessary by using `.corr()`."
   ]
  },
  {
   "cell_type": "code",
   "execution_count": null,
   "metadata": {},
   "outputs": [],
   "source": [
    "x_all.corr()"
   ]
  },
  {
   "cell_type": "markdown",
   "metadata": {},
   "source": [
    "### Train Test Split\n",
    "\n",
    "Drop and filter to the valid predictors in the model as a DataFrame, `housing_df`. Conduct `train_test_split()` to get the four splits of data. "
   ]
  },
  {
   "cell_type": "code",
   "execution_count": null,
   "metadata": {},
   "outputs": [],
   "source": [
    "from sklearn.model_selection import train_test_split\n",
    "# Since either SQFT or SQM are highly correlated, drop either one\n",
    "\n",
    "housing_x = x_all[['sqft_living', 'floors']]\n",
    "\n",
    "X_train, X_test, y_train, y_test = train_test_split(housing_x, y_all, random_state=42)"
   ]
  },
  {
   "cell_type": "markdown",
   "metadata": {},
   "source": [
    "### Fit Model\n",
    "\n",
    "Create a LinearRegression variable, `multi_housing_lr`. With the train dataframes, use `.fit()` to train the model."
   ]
  },
  {
   "cell_type": "code",
   "execution_count": null,
   "metadata": {},
   "outputs": [],
   "source": []
  },
  {
   "cell_type": "markdown",
   "metadata": {},
   "source": [
    "### Interpret\n",
    "\n",
    "With the fitted model, interpret and create the linear equation of the model. "
   ]
  },
  {
   "cell_type": "code",
   "execution_count": null,
   "metadata": {},
   "outputs": [],
   "source": [
    "print(multi_housing_lr.coef_)\n",
    "print(multi_housing_lr.intercept_)\n",
    "\n",
    "# Housing Price = -48237.317 + 274 (SQFT_Living) + 12566.866 (Floors)"
   ]
  },
  {
   "cell_type": "markdown",
   "metadata": {},
   "source": [
    "### Assess Performance of Model\n",
    "\n",
    "Using `r2_score` calculate the R-squared score of the model."
   ]
  },
  {
   "cell_type": "code",
   "execution_count": null,
   "metadata": {},
   "outputs": [],
   "source": [
    "from sklearn.metrics import r2_score \n"
   ]
  },
  {
   "cell_type": "markdown",
   "metadata": {},
   "source": [
    "<a id='P2'><h2> <img src=\"https://cdn.shopify.com/s/files/1/1200/7374/products/book_aec28e76-52ec-44ab-bc01-41df1279c89f_550x825.png?v=1473897430\" width=25 align=\"left\"> <font color=\"darkorange\"> &nbsp; Practice II </font><font color=\"skyblue\"> * </font></h2></a>\n",
    "\n",
    "### Fitness Dataset\n",
    "\n",
    "Based on this fitness dataset, predict the `RunTime` based on the following predictors:\n",
    "\n",
    "1. Age\n",
    "2. Weight\n",
    "3. Oxygen_Consumption\n",
    "4. Run_Pulse\n",
    "5. Rest_Pulse\n",
    "6. Maximum_Pulse\n",
    "7. Performance\n",
    "\n",
    "### Read "
   ]
  },
  {
   "cell_type": "code",
   "execution_count": null,
   "metadata": {},
   "outputs": [],
   "source": []
  },
  {
   "cell_type": "markdown",
   "metadata": {},
   "source": [
    "### Feature Selection\n",
    "\n",
    "With the variables above, detect for multicollinearity and drop variables where necessary by using `.corr()`."
   ]
  },
  {
   "cell_type": "code",
   "execution_count": null,
   "metadata": {},
   "outputs": [],
   "source": []
  },
  {
   "cell_type": "markdown",
   "metadata": {},
   "source": [
    "### Train Test Split\n",
    "\n",
    "Based on the correlation matrix, fliter for the __valid__ predictor variables and do `train_test_split` with the target variable `RunTime`. "
   ]
  },
  {
   "cell_type": "code",
   "execution_count": null,
   "metadata": {},
   "outputs": [],
   "source": []
  },
  {
   "cell_type": "markdown",
   "metadata": {},
   "source": [
    "### Fit Model\n",
    "\n",
    "Using the train dataframes, create a LinearRegression variable called `multi_runtime_lr`. Use `.fit()`, train the model."
   ]
  },
  {
   "cell_type": "code",
   "execution_count": null,
   "metadata": {},
   "outputs": [],
   "source": []
  },
  {
   "cell_type": "markdown",
   "metadata": {},
   "source": [
    "### Interpret\n",
    "\n",
    "With the fitted model, interpret and create the linear equation of the model. "
   ]
  },
  {
   "cell_type": "code",
   "execution_count": null,
   "metadata": {},
   "outputs": [],
   "source": []
  },
  {
   "cell_type": "markdown",
   "metadata": {},
   "source": [
    "### Assess Performance of Model\n",
    "\n",
    "Using `r2_score` calculate the R-squared score of the model."
   ]
  },
  {
   "cell_type": "code",
   "execution_count": null,
   "metadata": {},
   "outputs": [],
   "source": []
  }
 ],
 "metadata": {
  "kernelspec": {
   "display_name": "Python 3",
   "language": "python",
   "name": "python3"
  },
  "language_info": {
   "codemirror_mode": {
    "name": "ipython",
    "version": 3
   },
   "file_extension": ".py",
   "mimetype": "text/x-python",
   "name": "python",
   "nbconvert_exporter": "python",
   "pygments_lexer": "ipython3",
   "version": "3.7.3"
  }
 },
 "nbformat": 4,
 "nbformat_minor": 2
}
